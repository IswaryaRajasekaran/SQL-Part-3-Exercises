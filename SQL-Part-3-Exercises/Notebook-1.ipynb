{
    "metadata": {
        "kernelspec": {
            "name": "SQL",
            "display_name": "SQL",
            "language": "sql"
        },
        "language_info": {
            "name": "sql",
            "version": ""
        },
        "extensions": {
            "azuredatastudio": {
                "version": 1,
                "views": []
            }
        }
    },
    "nbformat_minor": 2,
    "nbformat": 4,
    "cells": [
        {
            "cell_type": "markdown",
            "source": [
                "# SQL Part 3 Exercises Joins\n",
                "\n",
                "This notebook works with the BooksDB dataset.  \n",
                "\n",
                "**Questions 1-4** focus on how joins work in a more general sense.  If you are not sure how to best answer the questions, try manipulating the queries by changing the order of joins, the length of the TOP, or how they are ordered.  \n",
                "\n",
                "> <span style=\"background-color: rgba(127, 127, 127, 0.1);\"><i>Note</i>: If some of the queries are not returning quickly, you can try closing and restarting azure data studio after a few minutes.</span>\n",
                "\n",
                "In **questions 5-8**, you will be asked to join tables to find results about titles, tags, and the books users want to read.\n",
                "\n",
                "As you go through the questions, you will see 'Minimum Desired Output'.  This will provide you with the bare minimum columns needed to answer the questions.  When you write the queries, add as many additional columns as you need to best find your answers."
            ],
            "metadata": {
                "azdata_cell_guid": "db9534a9-c8a7-4c09-8180-bcba0690bb02"
            },
            "attachments": {}
        },
        {
            "cell_type": "markdown",
            "source": [
                "## **QUESTION 1:**  Exploring a LEFT JOIN using the **books** and **to\\_read** tables\n",
                "\n",
                "The code block below has been commented out. To answer this question, you will need to uncomment it by removing the **/\\*** (line 1) and **\\*/** (line 16).\n",
                "\n",
                "**Part A:** Look at Query 1, which table is the 'Left' table and which is the 'Right'?\n",
                "\n",
                "> Your Answer: \n",
                "> \n",
                "> <span style=\"color: rgb(55, 65, 81); font-family: Söhne, ui-sans-serif, system-ui, -apple-system, &quot;Segoe UI&quot;, Roboto, Ubuntu, Cantarell, &quot;Noto Sans&quot;, sans-serif, &quot;Helvetica Neue&quot;, Arial, &quot;Apple Color Emoji&quot;, &quot;Segoe UI Emoji&quot;, &quot;Segoe UI Symbol&quot;, &quot;Noto Color Emoji&quot;; font-size: 16px; white-space: pre-wrap; background-color: rgb(247, 247, 248);\">In the queries provided, the 'Left' table is 'BooksDB.dbo.books' which is aliased as 'b' and the 'Right' table is 'BooksDB.dbo.to_read' which is aliased as 'tr'.</span>\n",
                "\n",
                "**Part B:** Using table 2, answer the following questions: \n",
                "\n",
                "- When we added a  '**WHERE tr.user\\_id IS NOT NULL'** clause (line 14), how did the table change?  Why?\n",
                "\n",
                "> Your Answer: \n",
                "> \n",
                "> <span style=\"color: rgb(55, 65, 81); font-family: Söhne, ui-sans-serif, system-ui, -apple-system, &quot;Segoe UI&quot;, Roboto, Ubuntu, Cantarell, &quot;Noto Sans&quot;, sans-serif, &quot;Helvetica Neue&quot;, Arial, &quot;Apple Color Emoji&quot;, &quot;Segoe UI Emoji&quot;, &quot;Segoe UI Symbol&quot;, &quot;Noto Color Emoji&quot;; font-size: 16px; white-space: pre-wrap; background-color: rgb(247, 247, 248);\">When we added a 'WHERE tr.user_id IS NOT NULL' clause, the table changed by only including the rows where 'user_id' in the 'to_read' table is not null.</span>"
            ],
            "metadata": {
                "azdata_cell_guid": "660be568-9a70-40ff-a2fa-a78e31e87b6f"
            },
            "attachments": {}
        },
        {
            "cell_type": "code",
            "source": [
                "\n",
                "-- Query 1: LEFT JOIN \n",
                "SELECT TOP 50 b.title, b.average_rating, b.books_count,tr.user_id, tr.book_id\n",
                "FROM BooksDB.dbo.books AS b\n",
                "LEFT JOIN BooksDB.dbo.to_read AS tr\n",
                "ON b.best_book_id = tr.book_id\n",
                "ORDER BY b.average_rating;\n",
                "\n",
                "-- Query 2: LEFT JOIN USING 'IS NOT NULL'\n",
                "SELECT TOP 50 b.title, b.average_rating, b.books_count,tr.user_id, tr.book_id\n",
                "FROM BooksDB.dbo.books AS b\n",
                "LEFT JOIN BooksDB.dbo.to_read AS tr\n",
                "ON b.best_book_id = tr.book_id\n",
                "WHERE tr.user_id IS NOT NULL\n",
                "ORDER BY b.average_rating;\n",
                ""
            ],
            "metadata": {
                "azdata_cell_guid": "25dcd34c-5e5d-4393-9da0-a4c0effb6455",
                "tags": [],
                "language": "sql"
            },
            "outputs": [
                {
                    "output_type": "display_data",
                    "data": {
                        "text/html": "(50 rows affected)"
                    },
                    "metadata": {}
                },
                {
                    "output_type": "display_data",
                    "data": {
                        "text/html": "(50 rows affected)"
                    },
                    "metadata": {}
                },
                {
                    "output_type": "display_data",
                    "data": {
                        "text/html": "Total execution time: 00:00:08.786"
                    },
                    "metadata": {}
                },
                {
                    "output_type": "execute_result",
                    "metadata": {},
                    "execution_count": 2,
                    "data": {
                        "application/vnd.dataresource+json": {
                            "schema": {
                                "fields": [
                                    {
                                        "name": "title"
                                    },
                                    {
                                        "name": "average_rating"
                                    },
                                    {
                                        "name": "books_count"
                                    },
                                    {
                                        "name": "user_id"
                                    },
                                    {
                                        "name": "book_id"
                                    }
                                ]
                            },
                            "data": [
                                {
                                    "title": "One Night at the Call Center",
                                    "average_rating": "2.47",
                                    "books_count": "25",
                                    "user_id": "NULL",
                                    "book_id": "NULL"
                                },
                                {
                                    "title": "The Almost Moon",
                                    "average_rating": "2.67",
                                    "books_count": "63",
                                    "user_id": "NULL",
                                    "book_id": "NULL"
                                },
                                {
                                    "title": "The Finkler Question",
                                    "average_rating": "2.76",
                                    "books_count": "45",
                                    "user_id": "NULL",
                                    "book_id": "NULL"
                                },
                                {
                                    "title": "Four Blondes",
                                    "average_rating": "2.8",
                                    "books_count": "57",
                                    "user_id": "449",
                                    "book_id": "6613"
                                },
                                {
                                    "title": "Four Blondes",
                                    "average_rating": "2.8",
                                    "books_count": "57",
                                    "user_id": "1378",
                                    "book_id": "6613"
                                },
                                {
                                    "title": "Four Blondes",
                                    "average_rating": "2.8",
                                    "books_count": "57",
                                    "user_id": "6465",
                                    "book_id": "6613"
                                },
                                {
                                    "title": "Four Blondes",
                                    "average_rating": "2.8",
                                    "books_count": "57",
                                    "user_id": "6700",
                                    "book_id": "6613"
                                },
                                {
                                    "title": "Four Blondes",
                                    "average_rating": "2.8",
                                    "books_count": "57",
                                    "user_id": "7830",
                                    "book_id": "6613"
                                },
                                {
                                    "title": "Four Blondes",
                                    "average_rating": "2.8",
                                    "books_count": "57",
                                    "user_id": "10085",
                                    "book_id": "6613"
                                },
                                {
                                    "title": "Four Blondes",
                                    "average_rating": "2.8",
                                    "books_count": "57",
                                    "user_id": "16298",
                                    "book_id": "6613"
                                },
                                {
                                    "title": "Four Blondes",
                                    "average_rating": "2.8",
                                    "books_count": "57",
                                    "user_id": "16845",
                                    "book_id": "6613"
                                },
                                {
                                    "title": "Four Blondes",
                                    "average_rating": "2.8",
                                    "books_count": "57",
                                    "user_id": "17470",
                                    "book_id": "6613"
                                },
                                {
                                    "title": "Four Blondes",
                                    "average_rating": "2.8",
                                    "books_count": "57",
                                    "user_id": "19763",
                                    "book_id": "6613"
                                },
                                {
                                    "title": "Four Blondes",
                                    "average_rating": "2.8",
                                    "books_count": "57",
                                    "user_id": "21938",
                                    "book_id": "6613"
                                },
                                {
                                    "title": "Four Blondes",
                                    "average_rating": "2.8",
                                    "books_count": "57",
                                    "user_id": "22289",
                                    "book_id": "6613"
                                },
                                {
                                    "title": "Four Blondes",
                                    "average_rating": "2.8",
                                    "books_count": "57",
                                    "user_id": "23758",
                                    "book_id": "6613"
                                },
                                {
                                    "title": "Four Blondes",
                                    "average_rating": "2.8",
                                    "books_count": "57",
                                    "user_id": "27874",
                                    "book_id": "6613"
                                },
                                {
                                    "title": "Four Blondes",
                                    "average_rating": "2.8",
                                    "books_count": "57",
                                    "user_id": "28690",
                                    "book_id": "6613"
                                },
                                {
                                    "title": "Four Blondes",
                                    "average_rating": "2.8",
                                    "books_count": "57",
                                    "user_id": "29023",
                                    "book_id": "6613"
                                },
                                {
                                    "title": "Four Blondes",
                                    "average_rating": "2.8",
                                    "books_count": "57",
                                    "user_id": "29315",
                                    "book_id": "6613"
                                },
                                {
                                    "title": "Four Blondes",
                                    "average_rating": "2.8",
                                    "books_count": "57",
                                    "user_id": "30245",
                                    "book_id": "6613"
                                },
                                {
                                    "title": "Four Blondes",
                                    "average_rating": "2.8",
                                    "books_count": "57",
                                    "user_id": "36128",
                                    "book_id": "6613"
                                },
                                {
                                    "title": "Four Blondes",
                                    "average_rating": "2.8",
                                    "books_count": "57",
                                    "user_id": "36554",
                                    "book_id": "6613"
                                },
                                {
                                    "title": "Four Blondes",
                                    "average_rating": "2.8",
                                    "books_count": "57",
                                    "user_id": "38159",
                                    "book_id": "6613"
                                },
                                {
                                    "title": "Four Blondes",
                                    "average_rating": "2.8",
                                    "books_count": "57",
                                    "user_id": "38800",
                                    "book_id": "6613"
                                },
                                {
                                    "title": "Four Blondes",
                                    "average_rating": "2.8",
                                    "books_count": "57",
                                    "user_id": "40361",
                                    "book_id": "6613"
                                },
                                {
                                    "title": "Four Blondes",
                                    "average_rating": "2.8",
                                    "books_count": "57",
                                    "user_id": "40529",
                                    "book_id": "6613"
                                },
                                {
                                    "title": "Four Blondes",
                                    "average_rating": "2.8",
                                    "books_count": "57",
                                    "user_id": "41485",
                                    "book_id": "6613"
                                },
                                {
                                    "title": "Four Blondes",
                                    "average_rating": "2.8",
                                    "books_count": "57",
                                    "user_id": "42706",
                                    "book_id": "6613"
                                },
                                {
                                    "title": "Four Blondes",
                                    "average_rating": "2.8",
                                    "books_count": "57",
                                    "user_id": "45206",
                                    "book_id": "6613"
                                },
                                {
                                    "title": "Four Blondes",
                                    "average_rating": "2.8",
                                    "books_count": "57",
                                    "user_id": "45689",
                                    "book_id": "6613"
                                },
                                {
                                    "title": "Four Blondes",
                                    "average_rating": "2.8",
                                    "books_count": "57",
                                    "user_id": "49499",
                                    "book_id": "6613"
                                },
                                {
                                    "title": "Four Blondes",
                                    "average_rating": "2.8",
                                    "books_count": "57",
                                    "user_id": "51105",
                                    "book_id": "6613"
                                },
                                {
                                    "title": "Four Blondes",
                                    "average_rating": "2.8",
                                    "books_count": "57",
                                    "user_id": "51671",
                                    "book_id": "6613"
                                },
                                {
                                    "title": "Four Blondes",
                                    "average_rating": "2.8",
                                    "books_count": "57",
                                    "user_id": "52109",
                                    "book_id": "6613"
                                },
                                {
                                    "title": "Lost",
                                    "average_rating": "2.8",
                                    "books_count": "18",
                                    "user_id": "NULL",
                                    "book_id": "NULL"
                                },
                                {
                                    "title": "Tell-All",
                                    "average_rating": "2.84",
                                    "books_count": "37",
                                    "user_id": "NULL",
                                    "book_id": "NULL"
                                },
                                {
                                    "title": "Revenge Wears Prada: The Devil Returns (The Devil Wears Prada, #2)",
                                    "average_rating": "2.84",
                                    "books_count": "59",
                                    "user_id": "NULL",
                                    "book_id": "NULL"
                                },
                                {
                                    "title": "Among the Ten Thousand Things",
                                    "average_rating": "2.84",
                                    "books_count": "19",
                                    "user_id": "NULL",
                                    "book_id": "NULL"
                                },
                                {
                                    "title": "The Emperor's Children",
                                    "average_rating": "2.93",
                                    "books_count": "45",
                                    "user_id": "7860",
                                    "book_id": "3648"
                                },
                                {
                                    "title": "The Emperor's Children",
                                    "average_rating": "2.93",
                                    "books_count": "45",
                                    "user_id": "11320",
                                    "book_id": "3648"
                                },
                                {
                                    "title": "The Emperor's Children",
                                    "average_rating": "2.93",
                                    "books_count": "45",
                                    "user_id": "12686",
                                    "book_id": "3648"
                                },
                                {
                                    "title": "The Emperor's Children",
                                    "average_rating": "2.93",
                                    "books_count": "45",
                                    "user_id": "12729",
                                    "book_id": "3648"
                                },
                                {
                                    "title": "The Emperor's Children",
                                    "average_rating": "2.93",
                                    "books_count": "45",
                                    "user_id": "12891",
                                    "book_id": "3648"
                                },
                                {
                                    "title": "The Emperor's Children",
                                    "average_rating": "2.93",
                                    "books_count": "45",
                                    "user_id": "16933",
                                    "book_id": "3648"
                                },
                                {
                                    "title": "The Emperor's Children",
                                    "average_rating": "2.93",
                                    "books_count": "45",
                                    "user_id": "17093",
                                    "book_id": "3648"
                                },
                                {
                                    "title": "The Emperor's Children",
                                    "average_rating": "2.93",
                                    "books_count": "45",
                                    "user_id": "24036",
                                    "book_id": "3648"
                                },
                                {
                                    "title": "The Emperor's Children",
                                    "average_rating": "2.93",
                                    "books_count": "45",
                                    "user_id": "35122",
                                    "book_id": "3648"
                                },
                                {
                                    "title": "The Emperor's Children",
                                    "average_rating": "2.93",
                                    "books_count": "45",
                                    "user_id": "36022",
                                    "book_id": "3648"
                                },
                                {
                                    "title": "The Emperor's Children",
                                    "average_rating": "2.93",
                                    "books_count": "45",
                                    "user_id": "36952",
                                    "book_id": "3648"
                                }
                            ]
                        },
                        "text/html": [
                            "<table>",
                            "<tr><th>title</th><th>average_rating</th><th>books_count</th><th>user_id</th><th>book_id</th></tr>",
                            "<tr><td>One Night at the Call Center</td><td>2.47</td><td>25</td><td>NULL</td><td>NULL</td></tr>",
                            "<tr><td>The Almost Moon</td><td>2.67</td><td>63</td><td>NULL</td><td>NULL</td></tr>",
                            "<tr><td>The Finkler Question</td><td>2.76</td><td>45</td><td>NULL</td><td>NULL</td></tr>",
                            "<tr><td>Four Blondes</td><td>2.8</td><td>57</td><td>449</td><td>6613</td></tr>",
                            "<tr><td>Four Blondes</td><td>2.8</td><td>57</td><td>1378</td><td>6613</td></tr>",
                            "<tr><td>Four Blondes</td><td>2.8</td><td>57</td><td>6465</td><td>6613</td></tr>",
                            "<tr><td>Four Blondes</td><td>2.8</td><td>57</td><td>6700</td><td>6613</td></tr>",
                            "<tr><td>Four Blondes</td><td>2.8</td><td>57</td><td>7830</td><td>6613</td></tr>",
                            "<tr><td>Four Blondes</td><td>2.8</td><td>57</td><td>10085</td><td>6613</td></tr>",
                            "<tr><td>Four Blondes</td><td>2.8</td><td>57</td><td>16298</td><td>6613</td></tr>",
                            "<tr><td>Four Blondes</td><td>2.8</td><td>57</td><td>16845</td><td>6613</td></tr>",
                            "<tr><td>Four Blondes</td><td>2.8</td><td>57</td><td>17470</td><td>6613</td></tr>",
                            "<tr><td>Four Blondes</td><td>2.8</td><td>57</td><td>19763</td><td>6613</td></tr>",
                            "<tr><td>Four Blondes</td><td>2.8</td><td>57</td><td>21938</td><td>6613</td></tr>",
                            "<tr><td>Four Blondes</td><td>2.8</td><td>57</td><td>22289</td><td>6613</td></tr>",
                            "<tr><td>Four Blondes</td><td>2.8</td><td>57</td><td>23758</td><td>6613</td></tr>",
                            "<tr><td>Four Blondes</td><td>2.8</td><td>57</td><td>27874</td><td>6613</td></tr>",
                            "<tr><td>Four Blondes</td><td>2.8</td><td>57</td><td>28690</td><td>6613</td></tr>",
                            "<tr><td>Four Blondes</td><td>2.8</td><td>57</td><td>29023</td><td>6613</td></tr>",
                            "<tr><td>Four Blondes</td><td>2.8</td><td>57</td><td>29315</td><td>6613</td></tr>",
                            "<tr><td>Four Blondes</td><td>2.8</td><td>57</td><td>30245</td><td>6613</td></tr>",
                            "<tr><td>Four Blondes</td><td>2.8</td><td>57</td><td>36128</td><td>6613</td></tr>",
                            "<tr><td>Four Blondes</td><td>2.8</td><td>57</td><td>36554</td><td>6613</td></tr>",
                            "<tr><td>Four Blondes</td><td>2.8</td><td>57</td><td>38159</td><td>6613</td></tr>",
                            "<tr><td>Four Blondes</td><td>2.8</td><td>57</td><td>38800</td><td>6613</td></tr>",
                            "<tr><td>Four Blondes</td><td>2.8</td><td>57</td><td>40361</td><td>6613</td></tr>",
                            "<tr><td>Four Blondes</td><td>2.8</td><td>57</td><td>40529</td><td>6613</td></tr>",
                            "<tr><td>Four Blondes</td><td>2.8</td><td>57</td><td>41485</td><td>6613</td></tr>",
                            "<tr><td>Four Blondes</td><td>2.8</td><td>57</td><td>42706</td><td>6613</td></tr>",
                            "<tr><td>Four Blondes</td><td>2.8</td><td>57</td><td>45206</td><td>6613</td></tr>",
                            "<tr><td>Four Blondes</td><td>2.8</td><td>57</td><td>45689</td><td>6613</td></tr>",
                            "<tr><td>Four Blondes</td><td>2.8</td><td>57</td><td>49499</td><td>6613</td></tr>",
                            "<tr><td>Four Blondes</td><td>2.8</td><td>57</td><td>51105</td><td>6613</td></tr>",
                            "<tr><td>Four Blondes</td><td>2.8</td><td>57</td><td>51671</td><td>6613</td></tr>",
                            "<tr><td>Four Blondes</td><td>2.8</td><td>57</td><td>52109</td><td>6613</td></tr>",
                            "<tr><td>Lost</td><td>2.8</td><td>18</td><td>NULL</td><td>NULL</td></tr>",
                            "<tr><td>Tell-All</td><td>2.84</td><td>37</td><td>NULL</td><td>NULL</td></tr>",
                            "<tr><td>Revenge Wears Prada: The Devil Returns (The Devil Wears Prada, #2)</td><td>2.84</td><td>59</td><td>NULL</td><td>NULL</td></tr>",
                            "<tr><td>Among the Ten Thousand Things</td><td>2.84</td><td>19</td><td>NULL</td><td>NULL</td></tr>",
                            "<tr><td>The Emperor&#39;s Children</td><td>2.93</td><td>45</td><td>7860</td><td>3648</td></tr>",
                            "<tr><td>The Emperor&#39;s Children</td><td>2.93</td><td>45</td><td>11320</td><td>3648</td></tr>",
                            "<tr><td>The Emperor&#39;s Children</td><td>2.93</td><td>45</td><td>12686</td><td>3648</td></tr>",
                            "<tr><td>The Emperor&#39;s Children</td><td>2.93</td><td>45</td><td>12729</td><td>3648</td></tr>",
                            "<tr><td>The Emperor&#39;s Children</td><td>2.93</td><td>45</td><td>12891</td><td>3648</td></tr>",
                            "<tr><td>The Emperor&#39;s Children</td><td>2.93</td><td>45</td><td>16933</td><td>3648</td></tr>",
                            "<tr><td>The Emperor&#39;s Children</td><td>2.93</td><td>45</td><td>17093</td><td>3648</td></tr>",
                            "<tr><td>The Emperor&#39;s Children</td><td>2.93</td><td>45</td><td>24036</td><td>3648</td></tr>",
                            "<tr><td>The Emperor&#39;s Children</td><td>2.93</td><td>45</td><td>35122</td><td>3648</td></tr>",
                            "<tr><td>The Emperor&#39;s Children</td><td>2.93</td><td>45</td><td>36022</td><td>3648</td></tr>",
                            "<tr><td>The Emperor&#39;s Children</td><td>2.93</td><td>45</td><td>36952</td><td>3648</td></tr>",
                            "</table>"
                        ]
                    }
                },
                {
                    "output_type": "execute_result",
                    "metadata": {},
                    "execution_count": 2,
                    "data": {
                        "application/vnd.dataresource+json": {
                            "schema": {
                                "fields": [
                                    {
                                        "name": "title"
                                    },
                                    {
                                        "name": "average_rating"
                                    },
                                    {
                                        "name": "books_count"
                                    },
                                    {
                                        "name": "user_id"
                                    },
                                    {
                                        "name": "book_id"
                                    }
                                ]
                            },
                            "data": [
                                {
                                    "title": "Four Blondes",
                                    "average_rating": "2.8",
                                    "books_count": "57",
                                    "user_id": "449",
                                    "book_id": "6613"
                                },
                                {
                                    "title": "Four Blondes",
                                    "average_rating": "2.8",
                                    "books_count": "57",
                                    "user_id": "1378",
                                    "book_id": "6613"
                                },
                                {
                                    "title": "Four Blondes",
                                    "average_rating": "2.8",
                                    "books_count": "57",
                                    "user_id": "6465",
                                    "book_id": "6613"
                                },
                                {
                                    "title": "Four Blondes",
                                    "average_rating": "2.8",
                                    "books_count": "57",
                                    "user_id": "6700",
                                    "book_id": "6613"
                                },
                                {
                                    "title": "Four Blondes",
                                    "average_rating": "2.8",
                                    "books_count": "57",
                                    "user_id": "7830",
                                    "book_id": "6613"
                                },
                                {
                                    "title": "Four Blondes",
                                    "average_rating": "2.8",
                                    "books_count": "57",
                                    "user_id": "10085",
                                    "book_id": "6613"
                                },
                                {
                                    "title": "Four Blondes",
                                    "average_rating": "2.8",
                                    "books_count": "57",
                                    "user_id": "16298",
                                    "book_id": "6613"
                                },
                                {
                                    "title": "Four Blondes",
                                    "average_rating": "2.8",
                                    "books_count": "57",
                                    "user_id": "16845",
                                    "book_id": "6613"
                                },
                                {
                                    "title": "Four Blondes",
                                    "average_rating": "2.8",
                                    "books_count": "57",
                                    "user_id": "17470",
                                    "book_id": "6613"
                                },
                                {
                                    "title": "Four Blondes",
                                    "average_rating": "2.8",
                                    "books_count": "57",
                                    "user_id": "19763",
                                    "book_id": "6613"
                                },
                                {
                                    "title": "Four Blondes",
                                    "average_rating": "2.8",
                                    "books_count": "57",
                                    "user_id": "21938",
                                    "book_id": "6613"
                                },
                                {
                                    "title": "Four Blondes",
                                    "average_rating": "2.8",
                                    "books_count": "57",
                                    "user_id": "22289",
                                    "book_id": "6613"
                                },
                                {
                                    "title": "Four Blondes",
                                    "average_rating": "2.8",
                                    "books_count": "57",
                                    "user_id": "23758",
                                    "book_id": "6613"
                                },
                                {
                                    "title": "Four Blondes",
                                    "average_rating": "2.8",
                                    "books_count": "57",
                                    "user_id": "27874",
                                    "book_id": "6613"
                                },
                                {
                                    "title": "Four Blondes",
                                    "average_rating": "2.8",
                                    "books_count": "57",
                                    "user_id": "28690",
                                    "book_id": "6613"
                                },
                                {
                                    "title": "Four Blondes",
                                    "average_rating": "2.8",
                                    "books_count": "57",
                                    "user_id": "29023",
                                    "book_id": "6613"
                                },
                                {
                                    "title": "Four Blondes",
                                    "average_rating": "2.8",
                                    "books_count": "57",
                                    "user_id": "29315",
                                    "book_id": "6613"
                                },
                                {
                                    "title": "Four Blondes",
                                    "average_rating": "2.8",
                                    "books_count": "57",
                                    "user_id": "30245",
                                    "book_id": "6613"
                                },
                                {
                                    "title": "Four Blondes",
                                    "average_rating": "2.8",
                                    "books_count": "57",
                                    "user_id": "36128",
                                    "book_id": "6613"
                                },
                                {
                                    "title": "Four Blondes",
                                    "average_rating": "2.8",
                                    "books_count": "57",
                                    "user_id": "36554",
                                    "book_id": "6613"
                                },
                                {
                                    "title": "Four Blondes",
                                    "average_rating": "2.8",
                                    "books_count": "57",
                                    "user_id": "38159",
                                    "book_id": "6613"
                                },
                                {
                                    "title": "Four Blondes",
                                    "average_rating": "2.8",
                                    "books_count": "57",
                                    "user_id": "38800",
                                    "book_id": "6613"
                                },
                                {
                                    "title": "Four Blondes",
                                    "average_rating": "2.8",
                                    "books_count": "57",
                                    "user_id": "40361",
                                    "book_id": "6613"
                                },
                                {
                                    "title": "Four Blondes",
                                    "average_rating": "2.8",
                                    "books_count": "57",
                                    "user_id": "40529",
                                    "book_id": "6613"
                                },
                                {
                                    "title": "Four Blondes",
                                    "average_rating": "2.8",
                                    "books_count": "57",
                                    "user_id": "41485",
                                    "book_id": "6613"
                                },
                                {
                                    "title": "Four Blondes",
                                    "average_rating": "2.8",
                                    "books_count": "57",
                                    "user_id": "42706",
                                    "book_id": "6613"
                                },
                                {
                                    "title": "Four Blondes",
                                    "average_rating": "2.8",
                                    "books_count": "57",
                                    "user_id": "45206",
                                    "book_id": "6613"
                                },
                                {
                                    "title": "Four Blondes",
                                    "average_rating": "2.8",
                                    "books_count": "57",
                                    "user_id": "45689",
                                    "book_id": "6613"
                                },
                                {
                                    "title": "Four Blondes",
                                    "average_rating": "2.8",
                                    "books_count": "57",
                                    "user_id": "49499",
                                    "book_id": "6613"
                                },
                                {
                                    "title": "Four Blondes",
                                    "average_rating": "2.8",
                                    "books_count": "57",
                                    "user_id": "51105",
                                    "book_id": "6613"
                                },
                                {
                                    "title": "Four Blondes",
                                    "average_rating": "2.8",
                                    "books_count": "57",
                                    "user_id": "51671",
                                    "book_id": "6613"
                                },
                                {
                                    "title": "Four Blondes",
                                    "average_rating": "2.8",
                                    "books_count": "57",
                                    "user_id": "52109",
                                    "book_id": "6613"
                                },
                                {
                                    "title": "The Emperor's Children",
                                    "average_rating": "2.93",
                                    "books_count": "45",
                                    "user_id": "7860",
                                    "book_id": "3648"
                                },
                                {
                                    "title": "The Emperor's Children",
                                    "average_rating": "2.93",
                                    "books_count": "45",
                                    "user_id": "11320",
                                    "book_id": "3648"
                                },
                                {
                                    "title": "The Emperor's Children",
                                    "average_rating": "2.93",
                                    "books_count": "45",
                                    "user_id": "12686",
                                    "book_id": "3648"
                                },
                                {
                                    "title": "The Emperor's Children",
                                    "average_rating": "2.93",
                                    "books_count": "45",
                                    "user_id": "12729",
                                    "book_id": "3648"
                                },
                                {
                                    "title": "The Emperor's Children",
                                    "average_rating": "2.93",
                                    "books_count": "45",
                                    "user_id": "12891",
                                    "book_id": "3648"
                                },
                                {
                                    "title": "The Emperor's Children",
                                    "average_rating": "2.93",
                                    "books_count": "45",
                                    "user_id": "16933",
                                    "book_id": "3648"
                                },
                                {
                                    "title": "The Emperor's Children",
                                    "average_rating": "2.93",
                                    "books_count": "45",
                                    "user_id": "17093",
                                    "book_id": "3648"
                                },
                                {
                                    "title": "The Emperor's Children",
                                    "average_rating": "2.93",
                                    "books_count": "45",
                                    "user_id": "24036",
                                    "book_id": "3648"
                                },
                                {
                                    "title": "The Emperor's Children",
                                    "average_rating": "2.93",
                                    "books_count": "45",
                                    "user_id": "35122",
                                    "book_id": "3648"
                                },
                                {
                                    "title": "The Emperor's Children",
                                    "average_rating": "2.93",
                                    "books_count": "45",
                                    "user_id": "36022",
                                    "book_id": "3648"
                                },
                                {
                                    "title": "The Emperor's Children",
                                    "average_rating": "2.93",
                                    "books_count": "45",
                                    "user_id": "36952",
                                    "book_id": "3648"
                                },
                                {
                                    "title": "The Emperor's Children",
                                    "average_rating": "2.93",
                                    "books_count": "45",
                                    "user_id": "38430",
                                    "book_id": "3648"
                                },
                                {
                                    "title": "The Emperor's Children",
                                    "average_rating": "2.93",
                                    "books_count": "45",
                                    "user_id": "39414",
                                    "book_id": "3648"
                                },
                                {
                                    "title": "The Emperor's Children",
                                    "average_rating": "2.93",
                                    "books_count": "45",
                                    "user_id": "45261",
                                    "book_id": "3648"
                                },
                                {
                                    "title": "The Emperor's Children",
                                    "average_rating": "2.93",
                                    "books_count": "45",
                                    "user_id": "45497",
                                    "book_id": "3648"
                                },
                                {
                                    "title": "The Emperor's Children",
                                    "average_rating": "2.93",
                                    "books_count": "45",
                                    "user_id": "45747",
                                    "book_id": "3648"
                                },
                                {
                                    "title": "The Emperor's Children",
                                    "average_rating": "2.93",
                                    "books_count": "45",
                                    "user_id": "48502",
                                    "book_id": "3648"
                                },
                                {
                                    "title": "The Emperor's Children",
                                    "average_rating": "2.93",
                                    "books_count": "45",
                                    "user_id": "49233",
                                    "book_id": "3648"
                                }
                            ]
                        },
                        "text/html": [
                            "<table>",
                            "<tr><th>title</th><th>average_rating</th><th>books_count</th><th>user_id</th><th>book_id</th></tr>",
                            "<tr><td>Four Blondes</td><td>2.8</td><td>57</td><td>449</td><td>6613</td></tr>",
                            "<tr><td>Four Blondes</td><td>2.8</td><td>57</td><td>1378</td><td>6613</td></tr>",
                            "<tr><td>Four Blondes</td><td>2.8</td><td>57</td><td>6465</td><td>6613</td></tr>",
                            "<tr><td>Four Blondes</td><td>2.8</td><td>57</td><td>6700</td><td>6613</td></tr>",
                            "<tr><td>Four Blondes</td><td>2.8</td><td>57</td><td>7830</td><td>6613</td></tr>",
                            "<tr><td>Four Blondes</td><td>2.8</td><td>57</td><td>10085</td><td>6613</td></tr>",
                            "<tr><td>Four Blondes</td><td>2.8</td><td>57</td><td>16298</td><td>6613</td></tr>",
                            "<tr><td>Four Blondes</td><td>2.8</td><td>57</td><td>16845</td><td>6613</td></tr>",
                            "<tr><td>Four Blondes</td><td>2.8</td><td>57</td><td>17470</td><td>6613</td></tr>",
                            "<tr><td>Four Blondes</td><td>2.8</td><td>57</td><td>19763</td><td>6613</td></tr>",
                            "<tr><td>Four Blondes</td><td>2.8</td><td>57</td><td>21938</td><td>6613</td></tr>",
                            "<tr><td>Four Blondes</td><td>2.8</td><td>57</td><td>22289</td><td>6613</td></tr>",
                            "<tr><td>Four Blondes</td><td>2.8</td><td>57</td><td>23758</td><td>6613</td></tr>",
                            "<tr><td>Four Blondes</td><td>2.8</td><td>57</td><td>27874</td><td>6613</td></tr>",
                            "<tr><td>Four Blondes</td><td>2.8</td><td>57</td><td>28690</td><td>6613</td></tr>",
                            "<tr><td>Four Blondes</td><td>2.8</td><td>57</td><td>29023</td><td>6613</td></tr>",
                            "<tr><td>Four Blondes</td><td>2.8</td><td>57</td><td>29315</td><td>6613</td></tr>",
                            "<tr><td>Four Blondes</td><td>2.8</td><td>57</td><td>30245</td><td>6613</td></tr>",
                            "<tr><td>Four Blondes</td><td>2.8</td><td>57</td><td>36128</td><td>6613</td></tr>",
                            "<tr><td>Four Blondes</td><td>2.8</td><td>57</td><td>36554</td><td>6613</td></tr>",
                            "<tr><td>Four Blondes</td><td>2.8</td><td>57</td><td>38159</td><td>6613</td></tr>",
                            "<tr><td>Four Blondes</td><td>2.8</td><td>57</td><td>38800</td><td>6613</td></tr>",
                            "<tr><td>Four Blondes</td><td>2.8</td><td>57</td><td>40361</td><td>6613</td></tr>",
                            "<tr><td>Four Blondes</td><td>2.8</td><td>57</td><td>40529</td><td>6613</td></tr>",
                            "<tr><td>Four Blondes</td><td>2.8</td><td>57</td><td>41485</td><td>6613</td></tr>",
                            "<tr><td>Four Blondes</td><td>2.8</td><td>57</td><td>42706</td><td>6613</td></tr>",
                            "<tr><td>Four Blondes</td><td>2.8</td><td>57</td><td>45206</td><td>6613</td></tr>",
                            "<tr><td>Four Blondes</td><td>2.8</td><td>57</td><td>45689</td><td>6613</td></tr>",
                            "<tr><td>Four Blondes</td><td>2.8</td><td>57</td><td>49499</td><td>6613</td></tr>",
                            "<tr><td>Four Blondes</td><td>2.8</td><td>57</td><td>51105</td><td>6613</td></tr>",
                            "<tr><td>Four Blondes</td><td>2.8</td><td>57</td><td>51671</td><td>6613</td></tr>",
                            "<tr><td>Four Blondes</td><td>2.8</td><td>57</td><td>52109</td><td>6613</td></tr>",
                            "<tr><td>The Emperor&#39;s Children</td><td>2.93</td><td>45</td><td>7860</td><td>3648</td></tr>",
                            "<tr><td>The Emperor&#39;s Children</td><td>2.93</td><td>45</td><td>11320</td><td>3648</td></tr>",
                            "<tr><td>The Emperor&#39;s Children</td><td>2.93</td><td>45</td><td>12686</td><td>3648</td></tr>",
                            "<tr><td>The Emperor&#39;s Children</td><td>2.93</td><td>45</td><td>12729</td><td>3648</td></tr>",
                            "<tr><td>The Emperor&#39;s Children</td><td>2.93</td><td>45</td><td>12891</td><td>3648</td></tr>",
                            "<tr><td>The Emperor&#39;s Children</td><td>2.93</td><td>45</td><td>16933</td><td>3648</td></tr>",
                            "<tr><td>The Emperor&#39;s Children</td><td>2.93</td><td>45</td><td>17093</td><td>3648</td></tr>",
                            "<tr><td>The Emperor&#39;s Children</td><td>2.93</td><td>45</td><td>24036</td><td>3648</td></tr>",
                            "<tr><td>The Emperor&#39;s Children</td><td>2.93</td><td>45</td><td>35122</td><td>3648</td></tr>",
                            "<tr><td>The Emperor&#39;s Children</td><td>2.93</td><td>45</td><td>36022</td><td>3648</td></tr>",
                            "<tr><td>The Emperor&#39;s Children</td><td>2.93</td><td>45</td><td>36952</td><td>3648</td></tr>",
                            "<tr><td>The Emperor&#39;s Children</td><td>2.93</td><td>45</td><td>38430</td><td>3648</td></tr>",
                            "<tr><td>The Emperor&#39;s Children</td><td>2.93</td><td>45</td><td>39414</td><td>3648</td></tr>",
                            "<tr><td>The Emperor&#39;s Children</td><td>2.93</td><td>45</td><td>45261</td><td>3648</td></tr>",
                            "<tr><td>The Emperor&#39;s Children</td><td>2.93</td><td>45</td><td>45497</td><td>3648</td></tr>",
                            "<tr><td>The Emperor&#39;s Children</td><td>2.93</td><td>45</td><td>45747</td><td>3648</td></tr>",
                            "<tr><td>The Emperor&#39;s Children</td><td>2.93</td><td>45</td><td>48502</td><td>3648</td></tr>",
                            "<tr><td>The Emperor&#39;s Children</td><td>2.93</td><td>45</td><td>49233</td><td>3648</td></tr>",
                            "</table>"
                        ]
                    }
                }
            ],
            "execution_count": 2
        },
        {
            "cell_type": "markdown",
            "source": [
                "## **QUESTION 2:** Exploring **RIGHT** joins with the **books** and **to\\_read** tables\n",
                "\n",
                "You will need to uncomment the Query to answer the question.\n",
                "\n",
                "**Part A:** Looking at the query, which table is the 'Left' and which is the 'Right'?\n",
                "\n",
                "> Your Answer: \n",
                "> \n",
                "> <span style=\"color: rgb(55, 65, 81); font-family: Söhne, ui-sans-serif, system-ui, -apple-system, &quot;Segoe UI&quot;, Roboto, Ubuntu, Cantarell, &quot;Noto Sans&quot;, sans-serif, &quot;Helvetica Neue&quot;, Arial, &quot;Apple Color Emoji&quot;, &quot;Segoe UI Emoji&quot;, &quot;Segoe UI Symbol&quot;, &quot;Noto Color Emoji&quot;; font-size: 16px; white-space: pre-wrap; background-color: rgb(247, 247, 248);\">In the provided query, the 'Left' table is 'BooksDB.dbo.books' (aliased as 'b') and the 'Right' table is 'BooksDB.dbo.to_read' (aliased as 'tr').</span>\n",
                "\n",
                "**Part B:** How do the RIGHT-joined tables differ from the LEFT-joined tables in Question 1?  \n",
                "\n",
                "> Your Answer: \n",
                "> \n",
                "> <span style=\"color: rgb(55, 65, 81); font-family: Söhne, ui-sans-serif, system-ui, -apple-system, &quot;Segoe UI&quot;, Roboto, Ubuntu, Cantarell, &quot;Noto Sans&quot;, sans-serif, &quot;Helvetica Neue&quot;, Arial, &quot;Apple Color Emoji&quot;, &quot;Segoe UI Emoji&quot;, &quot;Segoe UI Symbol&quot;, &quot;Noto Color Emoji&quot;; font-size: 16px; white-space: pre-wrap; background-color: rgb(247, 247, 248);\">All rows from the left table are included in the result set, and any matching rows from the right table are included. If there is no match from the right table, NULL values are returned for those columns.</span>"
            ],
            "metadata": {
                "azdata_cell_guid": "c1e417d9-89d2-4a7d-ab46-b43c8bddc54f"
            },
            "attachments": {}
        },
        {
            "cell_type": "code",
            "source": [
                "\n",
                "-- Query 1: RIGHT JOIN\n",
                "SELECT TOP 300 b.title, b.average_rating, b.books_count, tr.user_id, tr.book_id\n",
                "FROM BooksDB.dbo.books AS b\n",
                "RIGHT JOIN BooksDB.dbo.to_read AS tr\n",
                "ON b.best_book_id = tr.book_id;\n",
                ""
            ],
            "metadata": {
                "azdata_cell_guid": "8cf020b8-2a76-46a6-acff-97eb1acc7fed",
                "tags": [],
                "language": "sql"
            },
            "outputs": [
                {
                    "output_type": "display_data",
                    "data": {
                        "text/html": "(300 rows affected)"
                    },
                    "metadata": {}
                },
                {
                    "output_type": "display_data",
                    "data": {
                        "text/html": "Total execution time: 00:00:00.548"
                    },
                    "metadata": {}
                },
                {
                    "output_type": "execute_result",
                    "metadata": {},
                    "execution_count": 3,
                    "data": {
                        "application/vnd.dataresource+json": {
                            "schema": {
                                "fields": [
                                    {
                                        "name": "title"
                                    },
                                    {
                                        "name": "average_rating"
                                    },
                                    {
                                        "name": "books_count"
                                    },
                                    {
                                        "name": "user_id"
                                    },
                                    {
                                        "name": "book_id"
                                    }
                                ]
                            },
                            "data": [
                                {
                                    "title": "Children of Dune (Dune Chronicles #3)",
                                    "average_rating": "3.9",
                                    "books_count": "116",
                                    "user_id": "1",
                                    "book_id": "112"
                                },
                                {
                                    "title": "NULL",
                                    "average_rating": "NULL",
                                    "books_count": "NULL",
                                    "user_id": "1",
                                    "book_id": "235"
                                },
                                {
                                    "title": "NULL",
                                    "average_rating": "NULL",
                                    "books_count": "NULL",
                                    "user_id": "1",
                                    "book_id": "533"
                                },
                                {
                                    "title": "NULL",
                                    "average_rating": "NULL",
                                    "books_count": "NULL",
                                    "user_id": "1",
                                    "book_id": "1198"
                                },
                                {
                                    "title": "NULL",
                                    "average_rating": "NULL",
                                    "books_count": "NULL",
                                    "user_id": "1",
                                    "book_id": "1874"
                                },
                                {
                                    "title": "NULL",
                                    "average_rating": "NULL",
                                    "books_count": "NULL",
                                    "user_id": "1",
                                    "book_id": "2058"
                                },
                                {
                                    "title": "NULL",
                                    "average_rating": "NULL",
                                    "books_count": "NULL",
                                    "user_id": "1",
                                    "book_id": "3334"
                                },
                                {
                                    "title": "NULL",
                                    "average_rating": "NULL",
                                    "books_count": "NULL",
                                    "user_id": "2",
                                    "book_id": "4"
                                },
                                {
                                    "title": "NULL",
                                    "average_rating": "NULL",
                                    "books_count": "NULL",
                                    "user_id": "2",
                                    "book_id": "11"
                                },
                                {
                                    "title": "The Ultimate Hitchhiker's Guide to the Galaxy",
                                    "average_rating": "4.37",
                                    "books_count": "32",
                                    "user_id": "2",
                                    "book_id": "13"
                                },
                                {
                                    "title": "NULL",
                                    "average_rating": "NULL",
                                    "books_count": "NULL",
                                    "user_id": "2",
                                    "book_id": "16"
                                },
                                {
                                    "title": "NULL",
                                    "average_rating": "NULL",
                                    "books_count": "NULL",
                                    "user_id": "2",
                                    "book_id": "92"
                                },
                                {
                                    "title": "Dune Messiah (Dune Chronicles #2)",
                                    "average_rating": "3.86",
                                    "books_count": "140",
                                    "user_id": "2",
                                    "book_id": "106"
                                },
                                {
                                    "title": "NULL",
                                    "average_rating": "NULL",
                                    "books_count": "NULL",
                                    "user_id": "2",
                                    "book_id": "113"
                                },
                                {
                                    "title": "NULL",
                                    "average_rating": "NULL",
                                    "books_count": "NULL",
                                    "user_id": "2",
                                    "book_id": "233"
                                },
                                {
                                    "title": "NULL",
                                    "average_rating": "NULL",
                                    "books_count": "NULL",
                                    "user_id": "2",
                                    "book_id": "247"
                                },
                                {
                                    "title": "NULL",
                                    "average_rating": "NULL",
                                    "books_count": "NULL",
                                    "user_id": "2",
                                    "book_id": "380"
                                },
                                {
                                    "title": "NULL",
                                    "average_rating": "NULL",
                                    "books_count": "NULL",
                                    "user_id": "2",
                                    "book_id": "408"
                                },
                                {
                                    "title": "NULL",
                                    "average_rating": "NULL",
                                    "books_count": "NULL",
                                    "user_id": "2",
                                    "book_id": "439"
                                },
                                {
                                    "title": "NULL",
                                    "average_rating": "NULL",
                                    "books_count": "NULL",
                                    "user_id": "2",
                                    "book_id": "479"
                                },
                                {
                                    "title": "NULL",
                                    "average_rating": "NULL",
                                    "books_count": "NULL",
                                    "user_id": "2",
                                    "book_id": "516"
                                },
                                {
                                    "title": "NULL",
                                    "average_rating": "NULL",
                                    "books_count": "NULL",
                                    "user_id": "2",
                                    "book_id": "619"
                                },
                                {
                                    "title": "NULL",
                                    "average_rating": "NULL",
                                    "books_count": "NULL",
                                    "user_id": "2",
                                    "book_id": "1069"
                                },
                                {
                                    "title": "The Iliad",
                                    "average_rating": "3.83",
                                    "books_count": "1726",
                                    "user_id": "2",
                                    "book_id": "1371"
                                },
                                {
                                    "title": "NULL",
                                    "average_rating": "NULL",
                                    "books_count": "NULL",
                                    "user_id": "2",
                                    "book_id": "1384"
                                },
                                {
                                    "title": "NULL",
                                    "average_rating": "NULL",
                                    "books_count": "NULL",
                                    "user_id": "2",
                                    "book_id": "1597"
                                },
                                {
                                    "title": "NULL",
                                    "average_rating": "NULL",
                                    "books_count": "NULL",
                                    "user_id": "2",
                                    "book_id": "1926"
                                },
                                {
                                    "title": "NULL",
                                    "average_rating": "NULL",
                                    "books_count": "NULL",
                                    "user_id": "2",
                                    "book_id": "1967"
                                },
                                {
                                    "title": "NULL",
                                    "average_rating": "NULL",
                                    "books_count": "NULL",
                                    "user_id": "2",
                                    "book_id": "1969"
                                },
                                {
                                    "title": "NULL",
                                    "average_rating": "NULL",
                                    "books_count": "NULL",
                                    "user_id": "2",
                                    "book_id": "2220"
                                },
                                {
                                    "title": "NULL",
                                    "average_rating": "NULL",
                                    "books_count": "NULL",
                                    "user_id": "2",
                                    "book_id": "2388"
                                },
                                {
                                    "title": "NULL",
                                    "average_rating": "NULL",
                                    "books_count": "NULL",
                                    "user_id": "2",
                                    "book_id": "3222"
                                },
                                {
                                    "title": "NULL",
                                    "average_rating": "NULL",
                                    "books_count": "NULL",
                                    "user_id": "2",
                                    "book_id": "3227"
                                },
                                {
                                    "title": "NULL",
                                    "average_rating": "NULL",
                                    "books_count": "NULL",
                                    "user_id": "2",
                                    "book_id": "3733"
                                },
                                {
                                    "title": "NULL",
                                    "average_rating": "NULL",
                                    "books_count": "NULL",
                                    "user_id": "2",
                                    "book_id": "5418"
                                },
                                {
                                    "title": "NULL",
                                    "average_rating": "NULL",
                                    "books_count": "NULL",
                                    "user_id": "2",
                                    "book_id": "6937"
                                },
                                {
                                    "title": "NULL",
                                    "average_rating": "NULL",
                                    "books_count": "NULL",
                                    "user_id": "2",
                                    "book_id": "7146"
                                },
                                {
                                    "title": "NULL",
                                    "average_rating": "NULL",
                                    "books_count": "NULL",
                                    "user_id": "2",
                                    "book_id": "7873"
                                },
                                {
                                    "title": "NULL",
                                    "average_rating": "NULL",
                                    "books_count": "NULL",
                                    "user_id": "2",
                                    "book_id": "8417"
                                },
                                {
                                    "title": "Harry Potter Collection (Harry Potter, #1-6)",
                                    "average_rating": "4.73",
                                    "books_count": "6",
                                    "user_id": "3",
                                    "book_id": "10"
                                },
                                {
                                    "title": "NULL",
                                    "average_rating": "NULL",
                                    "books_count": "NULL",
                                    "user_id": "3",
                                    "book_id": "66"
                                },
                                {
                                    "title": "NULL",
                                    "average_rating": "NULL",
                                    "books_count": "NULL",
                                    "user_id": "3",
                                    "book_id": "233"
                                },
                                {
                                    "title": "NULL",
                                    "average_rating": "NULL",
                                    "books_count": "NULL",
                                    "user_id": "3",
                                    "book_id": "726"
                                },
                                {
                                    "title": "NULL",
                                    "average_rating": "NULL",
                                    "books_count": "NULL",
                                    "user_id": "3",
                                    "book_id": "932"
                                },
                                {
                                    "title": "NULL",
                                    "average_rating": "NULL",
                                    "books_count": "NULL",
                                    "user_id": "3",
                                    "book_id": "1146"
                                },
                                {
                                    "title": "NULL",
                                    "average_rating": "NULL",
                                    "books_count": "NULL",
                                    "user_id": "3",
                                    "book_id": "2439"
                                },
                                {
                                    "title": "NULL",
                                    "average_rating": "NULL",
                                    "books_count": "NULL",
                                    "user_id": "3",
                                    "book_id": "3566"
                                },
                                {
                                    "title": "NULL",
                                    "average_rating": "NULL",
                                    "books_count": "NULL",
                                    "user_id": "3",
                                    "book_id": "4582"
                                },
                                {
                                    "title": "NULL",
                                    "average_rating": "NULL",
                                    "books_count": "NULL",
                                    "user_id": "3",
                                    "book_id": "5448"
                                },
                                {
                                    "title": "NULL",
                                    "average_rating": "NULL",
                                    "books_count": "NULL",
                                    "user_id": "3",
                                    "book_id": "5765"
                                },
                                {
                                    "title": "NULL",
                                    "average_rating": "NULL",
                                    "books_count": "NULL",
                                    "user_id": "3",
                                    "book_id": "6274"
                                },
                                {
                                    "title": "NULL",
                                    "average_rating": "NULL",
                                    "books_count": "NULL",
                                    "user_id": "3",
                                    "book_id": "8403"
                                },
                                {
                                    "title": "NULL",
                                    "average_rating": "NULL",
                                    "books_count": "NULL",
                                    "user_id": "5",
                                    "book_id": "31"
                                },
                                {
                                    "title": "The Virtue of Selfishness: A New Concept of Egoism",
                                    "average_rating": "3.47",
                                    "books_count": "53",
                                    "user_id": "5",
                                    "book_id": "665"
                                },
                                {
                                    "title": "NULL",
                                    "average_rating": "NULL",
                                    "books_count": "NULL",
                                    "user_id": "5",
                                    "book_id": "3074"
                                },
                                {
                                    "title": "Sherlock Holmes: The Complete Novels and Stories, Volume I",
                                    "average_rating": "4.45",
                                    "books_count": "13",
                                    "user_id": "5",
                                    "book_id": "3581"
                                },
                                {
                                    "title": "NULL",
                                    "average_rating": "NULL",
                                    "books_count": "NULL",
                                    "user_id": "6",
                                    "book_id": "64"
                                },
                                {
                                    "title": "NULL",
                                    "average_rating": "NULL",
                                    "books_count": "NULL",
                                    "user_id": "6",
                                    "book_id": "459"
                                },
                                {
                                    "title": "NULL",
                                    "average_rating": "NULL",
                                    "books_count": "NULL",
                                    "user_id": "6",
                                    "book_id": "619"
                                },
                                {
                                    "title": "NULL",
                                    "average_rating": "NULL",
                                    "books_count": "NULL",
                                    "user_id": "6",
                                    "book_id": "649"
                                },
                                {
                                    "title": "NULL",
                                    "average_rating": "NULL",
                                    "books_count": "NULL",
                                    "user_id": "6",
                                    "book_id": "687"
                                },
                                {
                                    "title": "NULL",
                                    "average_rating": "NULL",
                                    "books_count": "NULL",
                                    "user_id": "6",
                                    "book_id": "874"
                                },
                                {
                                    "title": "The War of Art: Break Through the Blocks & Win Your Inner Creative Battles",
                                    "average_rating": "4.07",
                                    "books_count": "29",
                                    "user_id": "6",
                                    "book_id": "1319"
                                },
                                {
                                    "title": "NULL",
                                    "average_rating": "NULL",
                                    "books_count": "NULL",
                                    "user_id": "6",
                                    "book_id": "1912"
                                },
                                {
                                    "title": "NULL",
                                    "average_rating": "NULL",
                                    "books_count": "NULL",
                                    "user_id": "6",
                                    "book_id": "5269"
                                },
                                {
                                    "title": "NULL",
                                    "average_rating": "NULL",
                                    "books_count": "NULL",
                                    "user_id": "6",
                                    "book_id": "5537"
                                },
                                {
                                    "title": "NULL",
                                    "average_rating": "NULL",
                                    "books_count": "NULL",
                                    "user_id": "6",
                                    "book_id": "5820"
                                },
                                {
                                    "title": "NULL",
                                    "average_rating": "NULL",
                                    "books_count": "NULL",
                                    "user_id": "6",
                                    "book_id": "6220"
                                },
                                {
                                    "title": "NULL",
                                    "average_rating": "NULL",
                                    "books_count": "NULL",
                                    "user_id": "6",
                                    "book_id": "7480"
                                },
                                {
                                    "title": "Harry Potter Collection (Harry Potter, #1-6)",
                                    "average_rating": "4.73",
                                    "books_count": "6",
                                    "user_id": "7",
                                    "book_id": "10"
                                },
                                {
                                    "title": "NULL",
                                    "average_rating": "NULL",
                                    "books_count": "NULL",
                                    "user_id": "7",
                                    "book_id": "215"
                                },
                                {
                                    "title": "NULL",
                                    "average_rating": "NULL",
                                    "books_count": "NULL",
                                    "user_id": "7",
                                    "book_id": "225"
                                },
                                {
                                    "title": "NULL",
                                    "average_rating": "NULL",
                                    "books_count": "NULL",
                                    "user_id": "7",
                                    "book_id": "233"
                                },
                                {
                                    "title": "NULL",
                                    "average_rating": "NULL",
                                    "books_count": "NULL",
                                    "user_id": "7",
                                    "book_id": "1322"
                                },
                                {
                                    "title": "NULL",
                                    "average_rating": "NULL",
                                    "books_count": "NULL",
                                    "user_id": "7",
                                    "book_id": "3552"
                                },
                                {
                                    "title": "NULL",
                                    "average_rating": "NULL",
                                    "books_count": "NULL",
                                    "user_id": "7",
                                    "book_id": "3720"
                                },
                                {
                                    "title": "NULL",
                                    "average_rating": "NULL",
                                    "books_count": "NULL",
                                    "user_id": "7",
                                    "book_id": "4468"
                                },
                                {
                                    "title": "NULL",
                                    "average_rating": "NULL",
                                    "books_count": "NULL",
                                    "user_id": "8",
                                    "book_id": "19"
                                },
                                {
                                    "title": "NULL",
                                    "average_rating": "NULL",
                                    "books_count": "NULL",
                                    "user_id": "8",
                                    "book_id": "498"
                                },
                                {
                                    "title": "NULL",
                                    "average_rating": "NULL",
                                    "books_count": "NULL",
                                    "user_id": "8",
                                    "book_id": "1357"
                                },
                                {
                                    "title": "NULL",
                                    "average_rating": "NULL",
                                    "books_count": "NULL",
                                    "user_id": "8",
                                    "book_id": "2177"
                                },
                                {
                                    "title": "NULL",
                                    "average_rating": "NULL",
                                    "books_count": "NULL",
                                    "user_id": "8",
                                    "book_id": "3930"
                                },
                                {
                                    "title": "The Pilgrimage",
                                    "average_rating": "3.64",
                                    "books_count": "171",
                                    "user_id": "8",
                                    "book_id": "4004"
                                },
                                {
                                    "title": "NULL",
                                    "average_rating": "NULL",
                                    "books_count": "NULL",
                                    "user_id": "8",
                                    "book_id": "8792"
                                },
                                {
                                    "title": "NULL",
                                    "average_rating": "NULL",
                                    "books_count": "NULL",
                                    "user_id": "8",
                                    "book_id": "9304"
                                },
                                {
                                    "title": "Harry Potter Boxed Set, Books 1-5 (Harry Potter, #1-5)",
                                    "average_rating": "4.77",
                                    "books_count": "11",
                                    "user_id": "9",
                                    "book_id": "8"
                                },
                                {
                                    "title": "Children of Dune (Dune Chronicles #3)",
                                    "average_rating": "3.9",
                                    "books_count": "116",
                                    "user_id": "9",
                                    "book_id": "112"
                                },
                                {
                                    "title": "NULL",
                                    "average_rating": "NULL",
                                    "books_count": "NULL",
                                    "user_id": "9",
                                    "book_id": "139"
                                },
                                {
                                    "title": "NULL",
                                    "average_rating": "NULL",
                                    "books_count": "NULL",
                                    "user_id": "9",
                                    "book_id": "230"
                                },
                                {
                                    "title": "NULL",
                                    "average_rating": "NULL",
                                    "books_count": "NULL",
                                    "user_id": "9",
                                    "book_id": "233"
                                },
                                {
                                    "title": "NULL",
                                    "average_rating": "NULL",
                                    "books_count": "NULL",
                                    "user_id": "9",
                                    "book_id": "473"
                                },
                                {
                                    "title": "NULL",
                                    "average_rating": "NULL",
                                    "books_count": "NULL",
                                    "user_id": "9",
                                    "book_id": "638"
                                },
                                {
                                    "title": "NULL",
                                    "average_rating": "NULL",
                                    "books_count": "NULL",
                                    "user_id": "9",
                                    "book_id": "653"
                                },
                                {
                                    "title": "NULL",
                                    "average_rating": "NULL",
                                    "books_count": "NULL",
                                    "user_id": "9",
                                    "book_id": "672"
                                },
                                {
                                    "title": "NULL",
                                    "average_rating": "NULL",
                                    "books_count": "NULL",
                                    "user_id": "9",
                                    "book_id": "701"
                                },
                                {
                                    "title": "NULL",
                                    "average_rating": "NULL",
                                    "books_count": "NULL",
                                    "user_id": "9",
                                    "book_id": "736"
                                },
                                {
                                    "title": "NULL",
                                    "average_rating": "NULL",
                                    "books_count": "NULL",
                                    "user_id": "9",
                                    "book_id": "883"
                                },
                                {
                                    "title": "NULL",
                                    "average_rating": "NULL",
                                    "books_count": "NULL",
                                    "user_id": "9",
                                    "book_id": "895"
                                },
                                {
                                    "title": "NULL",
                                    "average_rating": "NULL",
                                    "books_count": "NULL",
                                    "user_id": "9",
                                    "book_id": "1467"
                                },
                                {
                                    "title": "NULL",
                                    "average_rating": "NULL",
                                    "books_count": "NULL",
                                    "user_id": "9",
                                    "book_id": "1582"
                                },
                                {
                                    "title": "NULL",
                                    "average_rating": "NULL",
                                    "books_count": "NULL",
                                    "user_id": "9",
                                    "book_id": "1873"
                                },
                                {
                                    "title": "NULL",
                                    "average_rating": "NULL",
                                    "books_count": "NULL",
                                    "user_id": "9",
                                    "book_id": "2516"
                                },
                                {
                                    "title": "NULL",
                                    "average_rating": "NULL",
                                    "books_count": "NULL",
                                    "user_id": "9",
                                    "book_id": "2630"
                                },
                                {
                                    "title": "NULL",
                                    "average_rating": "NULL",
                                    "books_count": "NULL",
                                    "user_id": "9",
                                    "book_id": "3210"
                                },
                                {
                                    "title": "Icy Sparks",
                                    "average_rating": "3.68",
                                    "books_count": "27",
                                    "user_id": "9",
                                    "book_id": "3476"
                                },
                                {
                                    "title": "NULL",
                                    "average_rating": "NULL",
                                    "books_count": "NULL",
                                    "user_id": "9",
                                    "book_id": "3560"
                                },
                                {
                                    "title": "NULL",
                                    "average_rating": "NULL",
                                    "books_count": "NULL",
                                    "user_id": "9",
                                    "book_id": "3650"
                                },
                                {
                                    "title": "NULL",
                                    "average_rating": "NULL",
                                    "books_count": "NULL",
                                    "user_id": "9",
                                    "book_id": "5286"
                                },
                                {
                                    "title": "NULL",
                                    "average_rating": "NULL",
                                    "books_count": "NULL",
                                    "user_id": "9",
                                    "book_id": "6636"
                                },
                                {
                                    "title": "Harry Potter and the Goblet of Fire (Harry Potter, #4)",
                                    "average_rating": "4.53",
                                    "books_count": "332",
                                    "user_id": "10",
                                    "book_id": "6"
                                },
                                {
                                    "title": "NULL",
                                    "average_rating": "NULL",
                                    "books_count": "NULL",
                                    "user_id": "10",
                                    "book_id": "385"
                                },
                                {
                                    "title": "Atlas Shrugged",
                                    "average_rating": "3.68",
                                    "books_count": "147",
                                    "user_id": "10",
                                    "book_id": "662"
                                },
                                {
                                    "title": "NULL",
                                    "average_rating": "NULL",
                                    "books_count": "NULL",
                                    "user_id": "10",
                                    "book_id": "896"
                                },
                                {
                                    "title": "NULL",
                                    "average_rating": "NULL",
                                    "books_count": "NULL",
                                    "user_id": "10",
                                    "book_id": "1076"
                                },
                                {
                                    "title": "NULL",
                                    "average_rating": "NULL",
                                    "books_count": "NULL",
                                    "user_id": "10",
                                    "book_id": "1082"
                                },
                                {
                                    "title": "NULL",
                                    "average_rating": "NULL",
                                    "books_count": "NULL",
                                    "user_id": "10",
                                    "book_id": "1220"
                                },
                                {
                                    "title": "NULL",
                                    "average_rating": "NULL",
                                    "books_count": "NULL",
                                    "user_id": "10",
                                    "book_id": "1281"
                                },
                                {
                                    "title": "NULL",
                                    "average_rating": "NULL",
                                    "books_count": "NULL",
                                    "user_id": "10",
                                    "book_id": "1439"
                                },
                                {
                                    "title": "NULL",
                                    "average_rating": "NULL",
                                    "books_count": "NULL",
                                    "user_id": "10",
                                    "book_id": "1851"
                                },
                                {
                                    "title": "NULL",
                                    "average_rating": "NULL",
                                    "books_count": "NULL",
                                    "user_id": "10",
                                    "book_id": "1920"
                                },
                                {
                                    "title": "NULL",
                                    "average_rating": "NULL",
                                    "books_count": "NULL",
                                    "user_id": "10",
                                    "book_id": "2441"
                                },
                                {
                                    "title": "NULL",
                                    "average_rating": "NULL",
                                    "books_count": "NULL",
                                    "user_id": "10",
                                    "book_id": "2570"
                                },
                                {
                                    "title": "NULL",
                                    "average_rating": "NULL",
                                    "books_count": "NULL",
                                    "user_id": "10",
                                    "book_id": "2616"
                                },
                                {
                                    "title": "NULL",
                                    "average_rating": "NULL",
                                    "books_count": "NULL",
                                    "user_id": "10",
                                    "book_id": "3059"
                                },
                                {
                                    "title": "NULL",
                                    "average_rating": "NULL",
                                    "books_count": "NULL",
                                    "user_id": "10",
                                    "book_id": "3545"
                                },
                                {
                                    "title": "NULL",
                                    "average_rating": "NULL",
                                    "books_count": "NULL",
                                    "user_id": "10",
                                    "book_id": "3961"
                                },
                                {
                                    "title": "NULL",
                                    "average_rating": "NULL",
                                    "books_count": "NULL",
                                    "user_id": "10",
                                    "book_id": "4369"
                                },
                                {
                                    "title": "NULL",
                                    "average_rating": "NULL",
                                    "books_count": "NULL",
                                    "user_id": "10",
                                    "book_id": "4510"
                                },
                                {
                                    "title": "NULL",
                                    "average_rating": "NULL",
                                    "books_count": "NULL",
                                    "user_id": "10",
                                    "book_id": "5104"
                                },
                                {
                                    "title": "NULL",
                                    "average_rating": "NULL",
                                    "books_count": "NULL",
                                    "user_id": "10",
                                    "book_id": "5254"
                                },
                                {
                                    "title": "NULL",
                                    "average_rating": "NULL",
                                    "books_count": "NULL",
                                    "user_id": "10",
                                    "book_id": "5556"
                                },
                                {
                                    "title": "NULL",
                                    "average_rating": "NULL",
                                    "books_count": "NULL",
                                    "user_id": "10",
                                    "book_id": "6114"
                                },
                                {
                                    "title": "NULL",
                                    "average_rating": "NULL",
                                    "books_count": "NULL",
                                    "user_id": "10",
                                    "book_id": "6917"
                                },
                                {
                                    "title": "NULL",
                                    "average_rating": "NULL",
                                    "books_count": "NULL",
                                    "user_id": "10",
                                    "book_id": "7545"
                                },
                                {
                                    "title": "NULL",
                                    "average_rating": "NULL",
                                    "books_count": "NULL",
                                    "user_id": "10",
                                    "book_id": "7842"
                                },
                                {
                                    "title": "NULL",
                                    "average_rating": "NULL",
                                    "books_count": "NULL",
                                    "user_id": "11",
                                    "book_id": "3643"
                                },
                                {
                                    "title": "Harry Potter and the Half-Blood Prince (Harry Potter, #6)",
                                    "average_rating": "4.54",
                                    "books_count": "275",
                                    "user_id": "12",
                                    "book_id": "1"
                                },
                                {
                                    "title": "NULL",
                                    "average_rating": "NULL",
                                    "books_count": "NULL",
                                    "user_id": "12",
                                    "book_id": "124"
                                },
                                {
                                    "title": "NULL",
                                    "average_rating": "NULL",
                                    "books_count": "NULL",
                                    "user_id": "12",
                                    "book_id": "1471"
                                },
                                {
                                    "title": "NULL",
                                    "average_rating": "NULL",
                                    "books_count": "NULL",
                                    "user_id": "12",
                                    "book_id": "2893"
                                },
                                {
                                    "title": "NULL",
                                    "average_rating": "NULL",
                                    "books_count": "NULL",
                                    "user_id": "13",
                                    "book_id": "81"
                                },
                                {
                                    "title": "NULL",
                                    "average_rating": "NULL",
                                    "books_count": "NULL",
                                    "user_id": "13",
                                    "book_id": "277"
                                },
                                {
                                    "title": "NULL",
                                    "average_rating": "NULL",
                                    "books_count": "NULL",
                                    "user_id": "13",
                                    "book_id": "318"
                                },
                                {
                                    "title": "NULL",
                                    "average_rating": "NULL",
                                    "books_count": "NULL",
                                    "user_id": "13",
                                    "book_id": "430"
                                },
                                {
                                    "title": "NULL",
                                    "average_rating": "NULL",
                                    "books_count": "NULL",
                                    "user_id": "13",
                                    "book_id": "437"
                                },
                                {
                                    "title": "NULL",
                                    "average_rating": "NULL",
                                    "books_count": "NULL",
                                    "user_id": "13",
                                    "book_id": "551"
                                },
                                {
                                    "title": "NULL",
                                    "average_rating": "NULL",
                                    "books_count": "NULL",
                                    "user_id": "13",
                                    "book_id": "560"
                                },
                                {
                                    "title": "NULL",
                                    "average_rating": "NULL",
                                    "books_count": "NULL",
                                    "user_id": "13",
                                    "book_id": "610"
                                },
                                {
                                    "title": "NULL",
                                    "average_rating": "NULL",
                                    "books_count": "NULL",
                                    "user_id": "13",
                                    "book_id": "678"
                                },
                                {
                                    "title": "NULL",
                                    "average_rating": "NULL",
                                    "books_count": "NULL",
                                    "user_id": "13",
                                    "book_id": "979"
                                },
                                {
                                    "title": "NULL",
                                    "average_rating": "NULL",
                                    "books_count": "NULL",
                                    "user_id": "13",
                                    "book_id": "1082"
                                },
                                {
                                    "title": "NULL",
                                    "average_rating": "NULL",
                                    "books_count": "NULL",
                                    "user_id": "13",
                                    "book_id": "1464"
                                },
                                {
                                    "title": "NULL",
                                    "average_rating": "NULL",
                                    "books_count": "NULL",
                                    "user_id": "13",
                                    "book_id": "1577"
                                },
                                {
                                    "title": "NULL",
                                    "average_rating": "NULL",
                                    "books_count": "NULL",
                                    "user_id": "13",
                                    "book_id": "2018"
                                },
                                {
                                    "title": "NULL",
                                    "average_rating": "NULL",
                                    "books_count": "NULL",
                                    "user_id": "13",
                                    "book_id": "2418"
                                },
                                {
                                    "title": "NULL",
                                    "average_rating": "NULL",
                                    "books_count": "NULL",
                                    "user_id": "13",
                                    "book_id": "3257"
                                },
                                {
                                    "title": "NULL",
                                    "average_rating": "NULL",
                                    "books_count": "NULL",
                                    "user_id": "13",
                                    "book_id": "4212"
                                },
                                {
                                    "title": "NULL",
                                    "average_rating": "NULL",
                                    "books_count": "NULL",
                                    "user_id": "13",
                                    "book_id": "4635"
                                },
                                {
                                    "title": "NULL",
                                    "average_rating": "NULL",
                                    "books_count": "NULL",
                                    "user_id": "13",
                                    "book_id": "4704"
                                },
                                {
                                    "title": "NULL",
                                    "average_rating": "NULL",
                                    "books_count": "NULL",
                                    "user_id": "13",
                                    "book_id": "4734"
                                },
                                {
                                    "title": "NULL",
                                    "average_rating": "NULL",
                                    "books_count": "NULL",
                                    "user_id": "13",
                                    "book_id": "4841"
                                },
                                {
                                    "title": "NULL",
                                    "average_rating": "NULL",
                                    "books_count": "NULL",
                                    "user_id": "13",
                                    "book_id": "4848"
                                },
                                {
                                    "title": "NULL",
                                    "average_rating": "NULL",
                                    "books_count": "NULL",
                                    "user_id": "13",
                                    "book_id": "4856"
                                },
                                {
                                    "title": "NULL",
                                    "average_rating": "NULL",
                                    "books_count": "NULL",
                                    "user_id": "13",
                                    "book_id": "4928"
                                },
                                {
                                    "title": "NULL",
                                    "average_rating": "NULL",
                                    "books_count": "NULL",
                                    "user_id": "13",
                                    "book_id": "6114"
                                },
                                {
                                    "title": "NULL",
                                    "average_rating": "NULL",
                                    "books_count": "NULL",
                                    "user_id": "13",
                                    "book_id": "6793"
                                },
                                {
                                    "title": "NULL",
                                    "average_rating": "NULL",
                                    "books_count": "NULL",
                                    "user_id": "13",
                                    "book_id": "6962"
                                },
                                {
                                    "title": "NULL",
                                    "average_rating": "NULL",
                                    "books_count": "NULL",
                                    "user_id": "13",
                                    "book_id": "8717"
                                },
                                {
                                    "title": "NULL",
                                    "average_rating": "NULL",
                                    "books_count": "NULL",
                                    "user_id": "14",
                                    "book_id": "493"
                                },
                                {
                                    "title": "NULL",
                                    "average_rating": "NULL",
                                    "books_count": "NULL",
                                    "user_id": "14",
                                    "book_id": "1179"
                                },
                                {
                                    "title": "NULL",
                                    "average_rating": "NULL",
                                    "books_count": "NULL",
                                    "user_id": "14",
                                    "book_id": "2693"
                                },
                                {
                                    "title": "Sherlock Holmes: The Complete Novels and Stories, Volume I",
                                    "average_rating": "4.45",
                                    "books_count": "13",
                                    "user_id": "14",
                                    "book_id": "3581"
                                },
                                {
                                    "title": "NULL",
                                    "average_rating": "NULL",
                                    "books_count": "NULL",
                                    "user_id": "14",
                                    "book_id": "3683"
                                },
                                {
                                    "title": "NULL",
                                    "average_rating": "NULL",
                                    "books_count": "NULL",
                                    "user_id": "14",
                                    "book_id": "3953"
                                },
                                {
                                    "title": "NULL",
                                    "average_rating": "NULL",
                                    "books_count": "NULL",
                                    "user_id": "14",
                                    "book_id": "4220"
                                },
                                {
                                    "title": "NULL",
                                    "average_rating": "NULL",
                                    "books_count": "NULL",
                                    "user_id": "14",
                                    "book_id": "5076"
                                },
                                {
                                    "title": "NULL",
                                    "average_rating": "NULL",
                                    "books_count": "NULL",
                                    "user_id": "14",
                                    "book_id": "5537"
                                },
                                {
                                    "title": "NULL",
                                    "average_rating": "NULL",
                                    "books_count": "NULL",
                                    "user_id": "14",
                                    "book_id": "7777"
                                },
                                {
                                    "title": "NULL",
                                    "average_rating": "NULL",
                                    "books_count": "NULL",
                                    "user_id": "15",
                                    "book_id": "191"
                                },
                                {
                                    "title": "The Lover",
                                    "average_rating": "3.76",
                                    "books_count": "148",
                                    "user_id": "15",
                                    "book_id": "275"
                                },
                                {
                                    "title": "NULL",
                                    "average_rating": "NULL",
                                    "books_count": "NULL",
                                    "user_id": "15",
                                    "book_id": "398"
                                },
                                {
                                    "title": "NULL",
                                    "average_rating": "NULL",
                                    "books_count": "NULL",
                                    "user_id": "15",
                                    "book_id": "666"
                                },
                                {
                                    "title": "NULL",
                                    "average_rating": "NULL",
                                    "books_count": "NULL",
                                    "user_id": "15",
                                    "book_id": "1491"
                                },
                                {
                                    "title": "NULL",
                                    "average_rating": "NULL",
                                    "books_count": "NULL",
                                    "user_id": "15",
                                    "book_id": "5210"
                                },
                                {
                                    "title": "NULL",
                                    "average_rating": "NULL",
                                    "books_count": "NULL",
                                    "user_id": "17",
                                    "book_id": "1344"
                                },
                                {
                                    "title": "The Good Soldier",
                                    "average_rating": "3.72",
                                    "books_count": "362",
                                    "user_id": "20",
                                    "book_id": "7628"
                                },
                                {
                                    "title": "NULL",
                                    "average_rating": "NULL",
                                    "books_count": "NULL",
                                    "user_id": "22",
                                    "book_id": "653"
                                },
                                {
                                    "title": "NULL",
                                    "average_rating": "NULL",
                                    "books_count": "NULL",
                                    "user_id": "22",
                                    "book_id": "1403"
                                },
                                {
                                    "title": "NULL",
                                    "average_rating": "NULL",
                                    "books_count": "NULL",
                                    "user_id": "22",
                                    "book_id": "1405"
                                },
                                {
                                    "title": "NULL",
                                    "average_rating": "NULL",
                                    "books_count": "NULL",
                                    "user_id": "22",
                                    "book_id": "1645"
                                },
                                {
                                    "title": "NULL",
                                    "average_rating": "NULL",
                                    "books_count": "NULL",
                                    "user_id": "22",
                                    "book_id": "2500"
                                },
                                {
                                    "title": "NULL",
                                    "average_rating": "NULL",
                                    "books_count": "NULL",
                                    "user_id": "22",
                                    "book_id": "2691"
                                },
                                {
                                    "title": "NULL",
                                    "average_rating": "NULL",
                                    "books_count": "NULL",
                                    "user_id": "22",
                                    "book_id": "4995"
                                },
                                {
                                    "title": "NULL",
                                    "average_rating": "NULL",
                                    "books_count": "NULL",
                                    "user_id": "23",
                                    "book_id": "273"
                                },
                                {
                                    "title": "NULL",
                                    "average_rating": "NULL",
                                    "books_count": "NULL",
                                    "user_id": "23",
                                    "book_id": "459"
                                },
                                {
                                    "title": "NULL",
                                    "average_rating": "NULL",
                                    "books_count": "NULL",
                                    "user_id": "23",
                                    "book_id": "791"
                                },
                                {
                                    "title": "NULL",
                                    "average_rating": "NULL",
                                    "books_count": "NULL",
                                    "user_id": "23",
                                    "book_id": "886"
                                },
                                {
                                    "title": "NULL",
                                    "average_rating": "NULL",
                                    "books_count": "NULL",
                                    "user_id": "23",
                                    "book_id": "925"
                                },
                                {
                                    "title": "NULL",
                                    "average_rating": "NULL",
                                    "books_count": "NULL",
                                    "user_id": "23",
                                    "book_id": "1198"
                                },
                                {
                                    "title": "NULL",
                                    "average_rating": "NULL",
                                    "books_count": "NULL",
                                    "user_id": "23",
                                    "book_id": "1597"
                                },
                                {
                                    "title": "NULL",
                                    "average_rating": "NULL",
                                    "books_count": "NULL",
                                    "user_id": "23",
                                    "book_id": "1688"
                                },
                                {
                                    "title": "NULL",
                                    "average_rating": "NULL",
                                    "books_count": "NULL",
                                    "user_id": "23",
                                    "book_id": "2251"
                                },
                                {
                                    "title": "NULL",
                                    "average_rating": "NULL",
                                    "books_count": "NULL",
                                    "user_id": "23",
                                    "book_id": "2350"
                                },
                                {
                                    "title": "NULL",
                                    "average_rating": "NULL",
                                    "books_count": "NULL",
                                    "user_id": "23",
                                    "book_id": "2613"
                                },
                                {
                                    "title": "NULL",
                                    "average_rating": "NULL",
                                    "books_count": "NULL",
                                    "user_id": "23",
                                    "book_id": "3312"
                                },
                                {
                                    "title": "NULL",
                                    "average_rating": "NULL",
                                    "books_count": "NULL",
                                    "user_id": "23",
                                    "book_id": "3343"
                                },
                                {
                                    "title": "NULL",
                                    "average_rating": "NULL",
                                    "books_count": "NULL",
                                    "user_id": "24",
                                    "book_id": "61"
                                },
                                {
                                    "title": "NULL",
                                    "average_rating": "NULL",
                                    "books_count": "NULL",
                                    "user_id": "24",
                                    "book_id": "143"
                                },
                                {
                                    "title": "NULL",
                                    "average_rating": "NULL",
                                    "books_count": "NULL",
                                    "user_id": "24",
                                    "book_id": "421"
                                },
                                {
                                    "title": "NULL",
                                    "average_rating": "NULL",
                                    "books_count": "NULL",
                                    "user_id": "24",
                                    "book_id": "467"
                                },
                                {
                                    "title": "NULL",
                                    "average_rating": "NULL",
                                    "books_count": "NULL",
                                    "user_id": "24",
                                    "book_id": "974"
                                },
                                {
                                    "title": "NULL",
                                    "average_rating": "NULL",
                                    "books_count": "NULL",
                                    "user_id": "26",
                                    "book_id": "508"
                                },
                                {
                                    "title": "NULL",
                                    "average_rating": "NULL",
                                    "books_count": "NULL",
                                    "user_id": "26",
                                    "book_id": "1796"
                                },
                                {
                                    "title": "NULL",
                                    "average_rating": "NULL",
                                    "books_count": "NULL",
                                    "user_id": "26",
                                    "book_id": "2257"
                                },
                                {
                                    "title": "NULL",
                                    "average_rating": "NULL",
                                    "books_count": "NULL",
                                    "user_id": "26",
                                    "book_id": "2314"
                                },
                                {
                                    "title": "NULL",
                                    "average_rating": "NULL",
                                    "books_count": "NULL",
                                    "user_id": "26",
                                    "book_id": "2357"
                                },
                                {
                                    "title": "NULL",
                                    "average_rating": "NULL",
                                    "books_count": "NULL",
                                    "user_id": "26",
                                    "book_id": "2738"
                                },
                                {
                                    "title": "NULL",
                                    "average_rating": "NULL",
                                    "books_count": "NULL",
                                    "user_id": "26",
                                    "book_id": "2810"
                                },
                                {
                                    "title": "NULL",
                                    "average_rating": "NULL",
                                    "books_count": "NULL",
                                    "user_id": "26",
                                    "book_id": "3207"
                                },
                                {
                                    "title": "The Thorn Birds",
                                    "average_rating": "4.22",
                                    "books_count": "201",
                                    "user_id": "26",
                                    "book_id": "3412"
                                },
                                {
                                    "title": "The Complete Sherlock Holmes, Vol 2",
                                    "average_rating": "4.46",
                                    "books_count": "117",
                                    "user_id": "26",
                                    "book_id": "3586"
                                },
                                {
                                    "title": "The Dark Tower (The Dark Tower, #7)",
                                    "average_rating": "4.27",
                                    "books_count": "105",
                                    "user_id": "26",
                                    "book_id": "5091"
                                },
                                {
                                    "title": "NULL",
                                    "average_rating": "NULL",
                                    "books_count": "NULL",
                                    "user_id": "26",
                                    "book_id": "5550"
                                },
                                {
                                    "title": "NULL",
                                    "average_rating": "NULL",
                                    "books_count": "NULL",
                                    "user_id": "26",
                                    "book_id": "6877"
                                },
                                {
                                    "title": "NULL",
                                    "average_rating": "NULL",
                                    "books_count": "NULL",
                                    "user_id": "26",
                                    "book_id": "7970"
                                },
                                {
                                    "title": "NULL",
                                    "average_rating": "NULL",
                                    "books_count": "NULL",
                                    "user_id": "28",
                                    "book_id": "265"
                                },
                                {
                                    "title": "NULL",
                                    "average_rating": "NULL",
                                    "books_count": "NULL",
                                    "user_id": "28",
                                    "book_id": "587"
                                },
                                {
                                    "title": "NULL",
                                    "average_rating": "NULL",
                                    "books_count": "NULL",
                                    "user_id": "28",
                                    "book_id": "3543"
                                },
                                {
                                    "title": "NULL",
                                    "average_rating": "NULL",
                                    "books_count": "NULL",
                                    "user_id": "28",
                                    "book_id": "5215"
                                },
                                {
                                    "title": "NULL",
                                    "average_rating": "NULL",
                                    "books_count": "NULL",
                                    "user_id": "28",
                                    "book_id": "7496"
                                },
                                {
                                    "title": "NULL",
                                    "average_rating": "NULL",
                                    "books_count": "NULL",
                                    "user_id": "28",
                                    "book_id": "8654"
                                },
                                {
                                    "title": "NULL",
                                    "average_rating": "NULL",
                                    "books_count": "NULL",
                                    "user_id": "29",
                                    "book_id": "31"
                                },
                                {
                                    "title": "NULL",
                                    "average_rating": "NULL",
                                    "books_count": "NULL",
                                    "user_id": "29",
                                    "book_id": "32"
                                },
                                {
                                    "title": "The Lord of the Rings: Weapons and Warfare",
                                    "average_rating": "4.53",
                                    "books_count": "12",
                                    "user_id": "29",
                                    "book_id": "36"
                                },
                                {
                                    "title": "NULL",
                                    "average_rating": "NULL",
                                    "books_count": "NULL",
                                    "user_id": "29",
                                    "book_id": "45"
                                },
                                {
                                    "title": "NULL",
                                    "average_rating": "NULL",
                                    "books_count": "NULL",
                                    "user_id": "29",
                                    "book_id": "65"
                                },
                                {
                                    "title": "NULL",
                                    "average_rating": "NULL",
                                    "books_count": "NULL",
                                    "user_id": "29",
                                    "book_id": "87"
                                },
                                {
                                    "title": "NULL",
                                    "average_rating": "NULL",
                                    "books_count": "NULL",
                                    "user_id": "29",
                                    "book_id": "115"
                                },
                                {
                                    "title": "NULL",
                                    "average_rating": "NULL",
                                    "books_count": "NULL",
                                    "user_id": "29",
                                    "book_id": "121"
                                },
                                {
                                    "title": "NULL",
                                    "average_rating": "NULL",
                                    "books_count": "NULL",
                                    "user_id": "29",
                                    "book_id": "131"
                                },
                                {
                                    "title": "NULL",
                                    "average_rating": "NULL",
                                    "books_count": "NULL",
                                    "user_id": "29",
                                    "book_id": "178"
                                },
                                {
                                    "title": "NULL",
                                    "average_rating": "NULL",
                                    "books_count": "NULL",
                                    "user_id": "29",
                                    "book_id": "256"
                                },
                                {
                                    "title": "NULL",
                                    "average_rating": "NULL",
                                    "books_count": "NULL",
                                    "user_id": "29",
                                    "book_id": "323"
                                },
                                {
                                    "title": "Slouching Towards Bethlehem",
                                    "average_rating": "4.24",
                                    "books_count": "34",
                                    "user_id": "29",
                                    "book_id": "424"
                                },
                                {
                                    "title": "NULL",
                                    "average_rating": "NULL",
                                    "books_count": "NULL",
                                    "user_id": "29",
                                    "book_id": "467"
                                },
                                {
                                    "title": "NULL",
                                    "average_rating": "NULL",
                                    "books_count": "NULL",
                                    "user_id": "29",
                                    "book_id": "550"
                                },
                                {
                                    "title": "NULL",
                                    "average_rating": "NULL",
                                    "books_count": "NULL",
                                    "user_id": "29",
                                    "book_id": "618"
                                },
                                {
                                    "title": "Atlas Shrugged",
                                    "average_rating": "3.68",
                                    "books_count": "147",
                                    "user_id": "29",
                                    "book_id": "662"
                                },
                                {
                                    "title": "NULL",
                                    "average_rating": "NULL",
                                    "books_count": "NULL",
                                    "user_id": "29",
                                    "book_id": "709"
                                },
                                {
                                    "title": "NULL",
                                    "average_rating": "NULL",
                                    "books_count": "NULL",
                                    "user_id": "29",
                                    "book_id": "730"
                                },
                                {
                                    "title": "NULL",
                                    "average_rating": "NULL",
                                    "books_count": "NULL",
                                    "user_id": "29",
                                    "book_id": "771"
                                },
                                {
                                    "title": "NULL",
                                    "average_rating": "NULL",
                                    "books_count": "NULL",
                                    "user_id": "29",
                                    "book_id": "809"
                                },
                                {
                                    "title": "NULL",
                                    "average_rating": "NULL",
                                    "books_count": "NULL",
                                    "user_id": "29",
                                    "book_id": "934"
                                },
                                {
                                    "title": "NULL",
                                    "average_rating": "NULL",
                                    "books_count": "NULL",
                                    "user_id": "29",
                                    "book_id": "1084"
                                },
                                {
                                    "title": "NULL",
                                    "average_rating": "NULL",
                                    "books_count": "NULL",
                                    "user_id": "29",
                                    "book_id": "1364"
                                },
                                {
                                    "title": "NULL",
                                    "average_rating": "NULL",
                                    "books_count": "NULL",
                                    "user_id": "29",
                                    "book_id": "1642"
                                },
                                {
                                    "title": "NULL",
                                    "average_rating": "NULL",
                                    "books_count": "NULL",
                                    "user_id": "29",
                                    "book_id": "1695"
                                },
                                {
                                    "title": "NULL",
                                    "average_rating": "NULL",
                                    "books_count": "NULL",
                                    "user_id": "29",
                                    "book_id": "2259"
                                },
                                {
                                    "title": "NULL",
                                    "average_rating": "NULL",
                                    "books_count": "NULL",
                                    "user_id": "29",
                                    "book_id": "2284"
                                },
                                {
                                    "title": "NULL",
                                    "average_rating": "NULL",
                                    "books_count": "NULL",
                                    "user_id": "29",
                                    "book_id": "2304"
                                },
                                {
                                    "title": "NULL",
                                    "average_rating": "NULL",
                                    "books_count": "NULL",
                                    "user_id": "29",
                                    "book_id": "2967"
                                },
                                {
                                    "title": "NULL",
                                    "average_rating": "NULL",
                                    "books_count": "NULL",
                                    "user_id": "29",
                                    "book_id": "3508"
                                },
                                {
                                    "title": "NULL",
                                    "average_rating": "NULL",
                                    "books_count": "NULL",
                                    "user_id": "29",
                                    "book_id": "4359"
                                },
                                {
                                    "title": "NULL",
                                    "average_rating": "NULL",
                                    "books_count": "NULL",
                                    "user_id": "29",
                                    "book_id": "4394"
                                },
                                {
                                    "title": "NULL",
                                    "average_rating": "NULL",
                                    "books_count": "NULL",
                                    "user_id": "29",
                                    "book_id": "4475"
                                },
                                {
                                    "title": "NULL",
                                    "average_rating": "NULL",
                                    "books_count": "NULL",
                                    "user_id": "29",
                                    "book_id": "4629"
                                },
                                {
                                    "title": "NULL",
                                    "average_rating": "NULL",
                                    "books_count": "NULL",
                                    "user_id": "29",
                                    "book_id": "5090"
                                },
                                {
                                    "title": "NULL",
                                    "average_rating": "NULL",
                                    "books_count": "NULL",
                                    "user_id": "29",
                                    "book_id": "5596"
                                },
                                {
                                    "title": "NULL",
                                    "average_rating": "NULL",
                                    "books_count": "NULL",
                                    "user_id": "29",
                                    "book_id": "5851"
                                },
                                {
                                    "title": "NULL",
                                    "average_rating": "NULL",
                                    "books_count": "NULL",
                                    "user_id": "29",
                                    "book_id": "6104"
                                },
                                {
                                    "title": "NULL",
                                    "average_rating": "NULL",
                                    "books_count": "NULL",
                                    "user_id": "30",
                                    "book_id": "47"
                                },
                                {
                                    "title": "The Known World",
                                    "average_rating": "3.82",
                                    "books_count": "42",
                                    "user_id": "30",
                                    "book_id": "67"
                                },
                                {
                                    "title": "NULL",
                                    "average_rating": "NULL",
                                    "books_count": "NULL",
                                    "user_id": "30",
                                    "book_id": "82"
                                },
                                {
                                    "title": "NULL",
                                    "average_rating": "NULL",
                                    "books_count": "NULL",
                                    "user_id": "30",
                                    "book_id": "121"
                                },
                                {
                                    "title": "NULL",
                                    "average_rating": "NULL",
                                    "books_count": "NULL",
                                    "user_id": "30",
                                    "book_id": "177"
                                },
                                {
                                    "title": "Tropic of Cancer",
                                    "average_rating": "3.71",
                                    "books_count": "205",
                                    "user_id": "30",
                                    "book_id": "249"
                                },
                                {
                                    "title": "NULL",
                                    "average_rating": "NULL",
                                    "books_count": "NULL",
                                    "user_id": "30",
                                    "book_id": "297"
                                },
                                {
                                    "title": "NULL",
                                    "average_rating": "NULL",
                                    "books_count": "NULL",
                                    "user_id": "30",
                                    "book_id": "407"
                                },
                                {
                                    "title": "NULL",
                                    "average_rating": "NULL",
                                    "books_count": "NULL",
                                    "user_id": "30",
                                    "book_id": "426"
                                },
                                {
                                    "title": "NULL",
                                    "average_rating": "NULL",
                                    "books_count": "NULL",
                                    "user_id": "30",
                                    "book_id": "430"
                                },
                                {
                                    "title": "NULL",
                                    "average_rating": "NULL",
                                    "books_count": "NULL",
                                    "user_id": "30",
                                    "book_id": "442"
                                },
                                {
                                    "title": "NULL",
                                    "average_rating": "NULL",
                                    "books_count": "NULL",
                                    "user_id": "30",
                                    "book_id": "516"
                                },
                                {
                                    "title": "NULL",
                                    "average_rating": "NULL",
                                    "books_count": "NULL",
                                    "user_id": "30",
                                    "book_id": "658"
                                },
                                {
                                    "title": "NULL",
                                    "average_rating": "NULL",
                                    "books_count": "NULL",
                                    "user_id": "30",
                                    "book_id": "895"
                                },
                                {
                                    "title": "NULL",
                                    "average_rating": "NULL",
                                    "books_count": "NULL",
                                    "user_id": "30",
                                    "book_id": "1039"
                                },
                                {
                                    "title": "NULL",
                                    "average_rating": "NULL",
                                    "books_count": "NULL",
                                    "user_id": "30",
                                    "book_id": "1094"
                                },
                                {
                                    "title": "The Odyssey",
                                    "average_rating": "3.73",
                                    "books_count": "1703",
                                    "user_id": "30",
                                    "book_id": "1381"
                                },
                                {
                                    "title": "NULL",
                                    "average_rating": "NULL",
                                    "books_count": "NULL",
                                    "user_id": "30",
                                    "book_id": "2117"
                                },
                                {
                                    "title": "NULL",
                                    "average_rating": "NULL",
                                    "books_count": "NULL",
                                    "user_id": "30",
                                    "book_id": "2426"
                                },
                                {
                                    "title": "NULL",
                                    "average_rating": "NULL",
                                    "books_count": "NULL",
                                    "user_id": "30",
                                    "book_id": "3444"
                                },
                                {
                                    "title": "The Pilgrimage",
                                    "average_rating": "3.64",
                                    "books_count": "171",
                                    "user_id": "30",
                                    "book_id": "4004"
                                },
                                {
                                    "title": "NULL",
                                    "average_rating": "NULL",
                                    "books_count": "NULL",
                                    "user_id": "30",
                                    "book_id": "4202"
                                },
                                {
                                    "title": "NULL",
                                    "average_rating": "NULL",
                                    "books_count": "NULL",
                                    "user_id": "30",
                                    "book_id": "4509"
                                },
                                {
                                    "title": "NULL",
                                    "average_rating": "NULL",
                                    "books_count": "NULL",
                                    "user_id": "30",
                                    "book_id": "5880"
                                },
                                {
                                    "title": "The Hobbit",
                                    "average_rating": "4.25",
                                    "books_count": "969",
                                    "user_id": "30",
                                    "book_id": "5907"
                                },
                                {
                                    "title": "NULL",
                                    "average_rating": "NULL",
                                    "books_count": "NULL",
                                    "user_id": "30",
                                    "book_id": "6828"
                                },
                                {
                                    "title": "NULL",
                                    "average_rating": "NULL",
                                    "books_count": "NULL",
                                    "user_id": "30",
                                    "book_id": "7563"
                                },
                                {
                                    "title": "NULL",
                                    "average_rating": "NULL",
                                    "books_count": "NULL",
                                    "user_id": "30",
                                    "book_id": "8737"
                                },
                                {
                                    "title": "NULL",
                                    "average_rating": "NULL",
                                    "books_count": "NULL",
                                    "user_id": "31",
                                    "book_id": "94"
                                },
                                {
                                    "title": "NULL",
                                    "average_rating": "NULL",
                                    "books_count": "NULL",
                                    "user_id": "31",
                                    "book_id": "584"
                                }
                            ]
                        },
                        "text/html": [
                            "<table>",
                            "<tr><th>title</th><th>average_rating</th><th>books_count</th><th>user_id</th><th>book_id</th></tr>",
                            "<tr><td>Children of Dune (Dune Chronicles #3)</td><td>3.9</td><td>116</td><td>1</td><td>112</td></tr>",
                            "<tr><td>NULL</td><td>NULL</td><td>NULL</td><td>1</td><td>235</td></tr>",
                            "<tr><td>NULL</td><td>NULL</td><td>NULL</td><td>1</td><td>533</td></tr>",
                            "<tr><td>NULL</td><td>NULL</td><td>NULL</td><td>1</td><td>1198</td></tr>",
                            "<tr><td>NULL</td><td>NULL</td><td>NULL</td><td>1</td><td>1874</td></tr>",
                            "<tr><td>NULL</td><td>NULL</td><td>NULL</td><td>1</td><td>2058</td></tr>",
                            "<tr><td>NULL</td><td>NULL</td><td>NULL</td><td>1</td><td>3334</td></tr>",
                            "<tr><td>NULL</td><td>NULL</td><td>NULL</td><td>2</td><td>4</td></tr>",
                            "<tr><td>NULL</td><td>NULL</td><td>NULL</td><td>2</td><td>11</td></tr>",
                            "<tr><td>The Ultimate Hitchhiker&#39;s Guide to the Galaxy</td><td>4.37</td><td>32</td><td>2</td><td>13</td></tr>",
                            "<tr><td>NULL</td><td>NULL</td><td>NULL</td><td>2</td><td>16</td></tr>",
                            "<tr><td>NULL</td><td>NULL</td><td>NULL</td><td>2</td><td>92</td></tr>",
                            "<tr><td>Dune Messiah (Dune Chronicles #2)</td><td>3.86</td><td>140</td><td>2</td><td>106</td></tr>",
                            "<tr><td>NULL</td><td>NULL</td><td>NULL</td><td>2</td><td>113</td></tr>",
                            "<tr><td>NULL</td><td>NULL</td><td>NULL</td><td>2</td><td>233</td></tr>",
                            "<tr><td>NULL</td><td>NULL</td><td>NULL</td><td>2</td><td>247</td></tr>",
                            "<tr><td>NULL</td><td>NULL</td><td>NULL</td><td>2</td><td>380</td></tr>",
                            "<tr><td>NULL</td><td>NULL</td><td>NULL</td><td>2</td><td>408</td></tr>",
                            "<tr><td>NULL</td><td>NULL</td><td>NULL</td><td>2</td><td>439</td></tr>",
                            "<tr><td>NULL</td><td>NULL</td><td>NULL</td><td>2</td><td>479</td></tr>",
                            "<tr><td>NULL</td><td>NULL</td><td>NULL</td><td>2</td><td>516</td></tr>",
                            "<tr><td>NULL</td><td>NULL</td><td>NULL</td><td>2</td><td>619</td></tr>",
                            "<tr><td>NULL</td><td>NULL</td><td>NULL</td><td>2</td><td>1069</td></tr>",
                            "<tr><td>The Iliad</td><td>3.83</td><td>1726</td><td>2</td><td>1371</td></tr>",
                            "<tr><td>NULL</td><td>NULL</td><td>NULL</td><td>2</td><td>1384</td></tr>",
                            "<tr><td>NULL</td><td>NULL</td><td>NULL</td><td>2</td><td>1597</td></tr>",
                            "<tr><td>NULL</td><td>NULL</td><td>NULL</td><td>2</td><td>1926</td></tr>",
                            "<tr><td>NULL</td><td>NULL</td><td>NULL</td><td>2</td><td>1967</td></tr>",
                            "<tr><td>NULL</td><td>NULL</td><td>NULL</td><td>2</td><td>1969</td></tr>",
                            "<tr><td>NULL</td><td>NULL</td><td>NULL</td><td>2</td><td>2220</td></tr>",
                            "<tr><td>NULL</td><td>NULL</td><td>NULL</td><td>2</td><td>2388</td></tr>",
                            "<tr><td>NULL</td><td>NULL</td><td>NULL</td><td>2</td><td>3222</td></tr>",
                            "<tr><td>NULL</td><td>NULL</td><td>NULL</td><td>2</td><td>3227</td></tr>",
                            "<tr><td>NULL</td><td>NULL</td><td>NULL</td><td>2</td><td>3733</td></tr>",
                            "<tr><td>NULL</td><td>NULL</td><td>NULL</td><td>2</td><td>5418</td></tr>",
                            "<tr><td>NULL</td><td>NULL</td><td>NULL</td><td>2</td><td>6937</td></tr>",
                            "<tr><td>NULL</td><td>NULL</td><td>NULL</td><td>2</td><td>7146</td></tr>",
                            "<tr><td>NULL</td><td>NULL</td><td>NULL</td><td>2</td><td>7873</td></tr>",
                            "<tr><td>NULL</td><td>NULL</td><td>NULL</td><td>2</td><td>8417</td></tr>",
                            "<tr><td>Harry Potter Collection (Harry Potter, #1-6)</td><td>4.73</td><td>6</td><td>3</td><td>10</td></tr>",
                            "<tr><td>NULL</td><td>NULL</td><td>NULL</td><td>3</td><td>66</td></tr>",
                            "<tr><td>NULL</td><td>NULL</td><td>NULL</td><td>3</td><td>233</td></tr>",
                            "<tr><td>NULL</td><td>NULL</td><td>NULL</td><td>3</td><td>726</td></tr>",
                            "<tr><td>NULL</td><td>NULL</td><td>NULL</td><td>3</td><td>932</td></tr>",
                            "<tr><td>NULL</td><td>NULL</td><td>NULL</td><td>3</td><td>1146</td></tr>",
                            "<tr><td>NULL</td><td>NULL</td><td>NULL</td><td>3</td><td>2439</td></tr>",
                            "<tr><td>NULL</td><td>NULL</td><td>NULL</td><td>3</td><td>3566</td></tr>",
                            "<tr><td>NULL</td><td>NULL</td><td>NULL</td><td>3</td><td>4582</td></tr>",
                            "<tr><td>NULL</td><td>NULL</td><td>NULL</td><td>3</td><td>5448</td></tr>",
                            "<tr><td>NULL</td><td>NULL</td><td>NULL</td><td>3</td><td>5765</td></tr>",
                            "<tr><td>NULL</td><td>NULL</td><td>NULL</td><td>3</td><td>6274</td></tr>",
                            "<tr><td>NULL</td><td>NULL</td><td>NULL</td><td>3</td><td>8403</td></tr>",
                            "<tr><td>NULL</td><td>NULL</td><td>NULL</td><td>5</td><td>31</td></tr>",
                            "<tr><td>The Virtue of Selfishness: A New Concept of Egoism</td><td>3.47</td><td>53</td><td>5</td><td>665</td></tr>",
                            "<tr><td>NULL</td><td>NULL</td><td>NULL</td><td>5</td><td>3074</td></tr>",
                            "<tr><td>Sherlock Holmes: The Complete Novels and Stories, Volume I</td><td>4.45</td><td>13</td><td>5</td><td>3581</td></tr>",
                            "<tr><td>NULL</td><td>NULL</td><td>NULL</td><td>6</td><td>64</td></tr>",
                            "<tr><td>NULL</td><td>NULL</td><td>NULL</td><td>6</td><td>459</td></tr>",
                            "<tr><td>NULL</td><td>NULL</td><td>NULL</td><td>6</td><td>619</td></tr>",
                            "<tr><td>NULL</td><td>NULL</td><td>NULL</td><td>6</td><td>649</td></tr>",
                            "<tr><td>NULL</td><td>NULL</td><td>NULL</td><td>6</td><td>687</td></tr>",
                            "<tr><td>NULL</td><td>NULL</td><td>NULL</td><td>6</td><td>874</td></tr>",
                            "<tr><td>The War of Art: Break Through the Blocks &amp; Win Your Inner Creative Battles</td><td>4.07</td><td>29</td><td>6</td><td>1319</td></tr>",
                            "<tr><td>NULL</td><td>NULL</td><td>NULL</td><td>6</td><td>1912</td></tr>",
                            "<tr><td>NULL</td><td>NULL</td><td>NULL</td><td>6</td><td>5269</td></tr>",
                            "<tr><td>NULL</td><td>NULL</td><td>NULL</td><td>6</td><td>5537</td></tr>",
                            "<tr><td>NULL</td><td>NULL</td><td>NULL</td><td>6</td><td>5820</td></tr>",
                            "<tr><td>NULL</td><td>NULL</td><td>NULL</td><td>6</td><td>6220</td></tr>",
                            "<tr><td>NULL</td><td>NULL</td><td>NULL</td><td>6</td><td>7480</td></tr>",
                            "<tr><td>Harry Potter Collection (Harry Potter, #1-6)</td><td>4.73</td><td>6</td><td>7</td><td>10</td></tr>",
                            "<tr><td>NULL</td><td>NULL</td><td>NULL</td><td>7</td><td>215</td></tr>",
                            "<tr><td>NULL</td><td>NULL</td><td>NULL</td><td>7</td><td>225</td></tr>",
                            "<tr><td>NULL</td><td>NULL</td><td>NULL</td><td>7</td><td>233</td></tr>",
                            "<tr><td>NULL</td><td>NULL</td><td>NULL</td><td>7</td><td>1322</td></tr>",
                            "<tr><td>NULL</td><td>NULL</td><td>NULL</td><td>7</td><td>3552</td></tr>",
                            "<tr><td>NULL</td><td>NULL</td><td>NULL</td><td>7</td><td>3720</td></tr>",
                            "<tr><td>NULL</td><td>NULL</td><td>NULL</td><td>7</td><td>4468</td></tr>",
                            "<tr><td>NULL</td><td>NULL</td><td>NULL</td><td>8</td><td>19</td></tr>",
                            "<tr><td>NULL</td><td>NULL</td><td>NULL</td><td>8</td><td>498</td></tr>",
                            "<tr><td>NULL</td><td>NULL</td><td>NULL</td><td>8</td><td>1357</td></tr>",
                            "<tr><td>NULL</td><td>NULL</td><td>NULL</td><td>8</td><td>2177</td></tr>",
                            "<tr><td>NULL</td><td>NULL</td><td>NULL</td><td>8</td><td>3930</td></tr>",
                            "<tr><td>The Pilgrimage</td><td>3.64</td><td>171</td><td>8</td><td>4004</td></tr>",
                            "<tr><td>NULL</td><td>NULL</td><td>NULL</td><td>8</td><td>8792</td></tr>",
                            "<tr><td>NULL</td><td>NULL</td><td>NULL</td><td>8</td><td>9304</td></tr>",
                            "<tr><td>Harry Potter Boxed Set, Books 1-5 (Harry Potter, #1-5)</td><td>4.77</td><td>11</td><td>9</td><td>8</td></tr>",
                            "<tr><td>Children of Dune (Dune Chronicles #3)</td><td>3.9</td><td>116</td><td>9</td><td>112</td></tr>",
                            "<tr><td>NULL</td><td>NULL</td><td>NULL</td><td>9</td><td>139</td></tr>",
                            "<tr><td>NULL</td><td>NULL</td><td>NULL</td><td>9</td><td>230</td></tr>",
                            "<tr><td>NULL</td><td>NULL</td><td>NULL</td><td>9</td><td>233</td></tr>",
                            "<tr><td>NULL</td><td>NULL</td><td>NULL</td><td>9</td><td>473</td></tr>",
                            "<tr><td>NULL</td><td>NULL</td><td>NULL</td><td>9</td><td>638</td></tr>",
                            "<tr><td>NULL</td><td>NULL</td><td>NULL</td><td>9</td><td>653</td></tr>",
                            "<tr><td>NULL</td><td>NULL</td><td>NULL</td><td>9</td><td>672</td></tr>",
                            "<tr><td>NULL</td><td>NULL</td><td>NULL</td><td>9</td><td>701</td></tr>",
                            "<tr><td>NULL</td><td>NULL</td><td>NULL</td><td>9</td><td>736</td></tr>",
                            "<tr><td>NULL</td><td>NULL</td><td>NULL</td><td>9</td><td>883</td></tr>",
                            "<tr><td>NULL</td><td>NULL</td><td>NULL</td><td>9</td><td>895</td></tr>",
                            "<tr><td>NULL</td><td>NULL</td><td>NULL</td><td>9</td><td>1467</td></tr>",
                            "<tr><td>NULL</td><td>NULL</td><td>NULL</td><td>9</td><td>1582</td></tr>",
                            "<tr><td>NULL</td><td>NULL</td><td>NULL</td><td>9</td><td>1873</td></tr>",
                            "<tr><td>NULL</td><td>NULL</td><td>NULL</td><td>9</td><td>2516</td></tr>",
                            "<tr><td>NULL</td><td>NULL</td><td>NULL</td><td>9</td><td>2630</td></tr>",
                            "<tr><td>NULL</td><td>NULL</td><td>NULL</td><td>9</td><td>3210</td></tr>",
                            "<tr><td>Icy Sparks</td><td>3.68</td><td>27</td><td>9</td><td>3476</td></tr>",
                            "<tr><td>NULL</td><td>NULL</td><td>NULL</td><td>9</td><td>3560</td></tr>",
                            "<tr><td>NULL</td><td>NULL</td><td>NULL</td><td>9</td><td>3650</td></tr>",
                            "<tr><td>NULL</td><td>NULL</td><td>NULL</td><td>9</td><td>5286</td></tr>",
                            "<tr><td>NULL</td><td>NULL</td><td>NULL</td><td>9</td><td>6636</td></tr>",
                            "<tr><td>Harry Potter and the Goblet of Fire (Harry Potter, #4)</td><td>4.53</td><td>332</td><td>10</td><td>6</td></tr>",
                            "<tr><td>NULL</td><td>NULL</td><td>NULL</td><td>10</td><td>385</td></tr>",
                            "<tr><td>Atlas Shrugged</td><td>3.68</td><td>147</td><td>10</td><td>662</td></tr>",
                            "<tr><td>NULL</td><td>NULL</td><td>NULL</td><td>10</td><td>896</td></tr>",
                            "<tr><td>NULL</td><td>NULL</td><td>NULL</td><td>10</td><td>1076</td></tr>",
                            "<tr><td>NULL</td><td>NULL</td><td>NULL</td><td>10</td><td>1082</td></tr>",
                            "<tr><td>NULL</td><td>NULL</td><td>NULL</td><td>10</td><td>1220</td></tr>",
                            "<tr><td>NULL</td><td>NULL</td><td>NULL</td><td>10</td><td>1281</td></tr>",
                            "<tr><td>NULL</td><td>NULL</td><td>NULL</td><td>10</td><td>1439</td></tr>",
                            "<tr><td>NULL</td><td>NULL</td><td>NULL</td><td>10</td><td>1851</td></tr>",
                            "<tr><td>NULL</td><td>NULL</td><td>NULL</td><td>10</td><td>1920</td></tr>",
                            "<tr><td>NULL</td><td>NULL</td><td>NULL</td><td>10</td><td>2441</td></tr>",
                            "<tr><td>NULL</td><td>NULL</td><td>NULL</td><td>10</td><td>2570</td></tr>",
                            "<tr><td>NULL</td><td>NULL</td><td>NULL</td><td>10</td><td>2616</td></tr>",
                            "<tr><td>NULL</td><td>NULL</td><td>NULL</td><td>10</td><td>3059</td></tr>",
                            "<tr><td>NULL</td><td>NULL</td><td>NULL</td><td>10</td><td>3545</td></tr>",
                            "<tr><td>NULL</td><td>NULL</td><td>NULL</td><td>10</td><td>3961</td></tr>",
                            "<tr><td>NULL</td><td>NULL</td><td>NULL</td><td>10</td><td>4369</td></tr>",
                            "<tr><td>NULL</td><td>NULL</td><td>NULL</td><td>10</td><td>4510</td></tr>",
                            "<tr><td>NULL</td><td>NULL</td><td>NULL</td><td>10</td><td>5104</td></tr>",
                            "<tr><td>NULL</td><td>NULL</td><td>NULL</td><td>10</td><td>5254</td></tr>",
                            "<tr><td>NULL</td><td>NULL</td><td>NULL</td><td>10</td><td>5556</td></tr>",
                            "<tr><td>NULL</td><td>NULL</td><td>NULL</td><td>10</td><td>6114</td></tr>",
                            "<tr><td>NULL</td><td>NULL</td><td>NULL</td><td>10</td><td>6917</td></tr>",
                            "<tr><td>NULL</td><td>NULL</td><td>NULL</td><td>10</td><td>7545</td></tr>",
                            "<tr><td>NULL</td><td>NULL</td><td>NULL</td><td>10</td><td>7842</td></tr>",
                            "<tr><td>NULL</td><td>NULL</td><td>NULL</td><td>11</td><td>3643</td></tr>",
                            "<tr><td>Harry Potter and the Half-Blood Prince (Harry Potter, #6)</td><td>4.54</td><td>275</td><td>12</td><td>1</td></tr>",
                            "<tr><td>NULL</td><td>NULL</td><td>NULL</td><td>12</td><td>124</td></tr>",
                            "<tr><td>NULL</td><td>NULL</td><td>NULL</td><td>12</td><td>1471</td></tr>",
                            "<tr><td>NULL</td><td>NULL</td><td>NULL</td><td>12</td><td>2893</td></tr>",
                            "<tr><td>NULL</td><td>NULL</td><td>NULL</td><td>13</td><td>81</td></tr>",
                            "<tr><td>NULL</td><td>NULL</td><td>NULL</td><td>13</td><td>277</td></tr>",
                            "<tr><td>NULL</td><td>NULL</td><td>NULL</td><td>13</td><td>318</td></tr>",
                            "<tr><td>NULL</td><td>NULL</td><td>NULL</td><td>13</td><td>430</td></tr>",
                            "<tr><td>NULL</td><td>NULL</td><td>NULL</td><td>13</td><td>437</td></tr>",
                            "<tr><td>NULL</td><td>NULL</td><td>NULL</td><td>13</td><td>551</td></tr>",
                            "<tr><td>NULL</td><td>NULL</td><td>NULL</td><td>13</td><td>560</td></tr>",
                            "<tr><td>NULL</td><td>NULL</td><td>NULL</td><td>13</td><td>610</td></tr>",
                            "<tr><td>NULL</td><td>NULL</td><td>NULL</td><td>13</td><td>678</td></tr>",
                            "<tr><td>NULL</td><td>NULL</td><td>NULL</td><td>13</td><td>979</td></tr>",
                            "<tr><td>NULL</td><td>NULL</td><td>NULL</td><td>13</td><td>1082</td></tr>",
                            "<tr><td>NULL</td><td>NULL</td><td>NULL</td><td>13</td><td>1464</td></tr>",
                            "<tr><td>NULL</td><td>NULL</td><td>NULL</td><td>13</td><td>1577</td></tr>",
                            "<tr><td>NULL</td><td>NULL</td><td>NULL</td><td>13</td><td>2018</td></tr>",
                            "<tr><td>NULL</td><td>NULL</td><td>NULL</td><td>13</td><td>2418</td></tr>",
                            "<tr><td>NULL</td><td>NULL</td><td>NULL</td><td>13</td><td>3257</td></tr>",
                            "<tr><td>NULL</td><td>NULL</td><td>NULL</td><td>13</td><td>4212</td></tr>",
                            "<tr><td>NULL</td><td>NULL</td><td>NULL</td><td>13</td><td>4635</td></tr>",
                            "<tr><td>NULL</td><td>NULL</td><td>NULL</td><td>13</td><td>4704</td></tr>",
                            "<tr><td>NULL</td><td>NULL</td><td>NULL</td><td>13</td><td>4734</td></tr>",
                            "<tr><td>NULL</td><td>NULL</td><td>NULL</td><td>13</td><td>4841</td></tr>",
                            "<tr><td>NULL</td><td>NULL</td><td>NULL</td><td>13</td><td>4848</td></tr>",
                            "<tr><td>NULL</td><td>NULL</td><td>NULL</td><td>13</td><td>4856</td></tr>",
                            "<tr><td>NULL</td><td>NULL</td><td>NULL</td><td>13</td><td>4928</td></tr>",
                            "<tr><td>NULL</td><td>NULL</td><td>NULL</td><td>13</td><td>6114</td></tr>",
                            "<tr><td>NULL</td><td>NULL</td><td>NULL</td><td>13</td><td>6793</td></tr>",
                            "<tr><td>NULL</td><td>NULL</td><td>NULL</td><td>13</td><td>6962</td></tr>",
                            "<tr><td>NULL</td><td>NULL</td><td>NULL</td><td>13</td><td>8717</td></tr>",
                            "<tr><td>NULL</td><td>NULL</td><td>NULL</td><td>14</td><td>493</td></tr>",
                            "<tr><td>NULL</td><td>NULL</td><td>NULL</td><td>14</td><td>1179</td></tr>",
                            "<tr><td>NULL</td><td>NULL</td><td>NULL</td><td>14</td><td>2693</td></tr>",
                            "<tr><td>Sherlock Holmes: The Complete Novels and Stories, Volume I</td><td>4.45</td><td>13</td><td>14</td><td>3581</td></tr>",
                            "<tr><td>NULL</td><td>NULL</td><td>NULL</td><td>14</td><td>3683</td></tr>",
                            "<tr><td>NULL</td><td>NULL</td><td>NULL</td><td>14</td><td>3953</td></tr>",
                            "<tr><td>NULL</td><td>NULL</td><td>NULL</td><td>14</td><td>4220</td></tr>",
                            "<tr><td>NULL</td><td>NULL</td><td>NULL</td><td>14</td><td>5076</td></tr>",
                            "<tr><td>NULL</td><td>NULL</td><td>NULL</td><td>14</td><td>5537</td></tr>",
                            "<tr><td>NULL</td><td>NULL</td><td>NULL</td><td>14</td><td>7777</td></tr>",
                            "<tr><td>NULL</td><td>NULL</td><td>NULL</td><td>15</td><td>191</td></tr>",
                            "<tr><td>The Lover</td><td>3.76</td><td>148</td><td>15</td><td>275</td></tr>",
                            "<tr><td>NULL</td><td>NULL</td><td>NULL</td><td>15</td><td>398</td></tr>",
                            "<tr><td>NULL</td><td>NULL</td><td>NULL</td><td>15</td><td>666</td></tr>",
                            "<tr><td>NULL</td><td>NULL</td><td>NULL</td><td>15</td><td>1491</td></tr>",
                            "<tr><td>NULL</td><td>NULL</td><td>NULL</td><td>15</td><td>5210</td></tr>",
                            "<tr><td>NULL</td><td>NULL</td><td>NULL</td><td>17</td><td>1344</td></tr>",
                            "<tr><td>The Good Soldier</td><td>3.72</td><td>362</td><td>20</td><td>7628</td></tr>",
                            "<tr><td>NULL</td><td>NULL</td><td>NULL</td><td>22</td><td>653</td></tr>",
                            "<tr><td>NULL</td><td>NULL</td><td>NULL</td><td>22</td><td>1403</td></tr>",
                            "<tr><td>NULL</td><td>NULL</td><td>NULL</td><td>22</td><td>1405</td></tr>",
                            "<tr><td>NULL</td><td>NULL</td><td>NULL</td><td>22</td><td>1645</td></tr>",
                            "<tr><td>NULL</td><td>NULL</td><td>NULL</td><td>22</td><td>2500</td></tr>",
                            "<tr><td>NULL</td><td>NULL</td><td>NULL</td><td>22</td><td>2691</td></tr>",
                            "<tr><td>NULL</td><td>NULL</td><td>NULL</td><td>22</td><td>4995</td></tr>",
                            "<tr><td>NULL</td><td>NULL</td><td>NULL</td><td>23</td><td>273</td></tr>",
                            "<tr><td>NULL</td><td>NULL</td><td>NULL</td><td>23</td><td>459</td></tr>",
                            "<tr><td>NULL</td><td>NULL</td><td>NULL</td><td>23</td><td>791</td></tr>",
                            "<tr><td>NULL</td><td>NULL</td><td>NULL</td><td>23</td><td>886</td></tr>",
                            "<tr><td>NULL</td><td>NULL</td><td>NULL</td><td>23</td><td>925</td></tr>",
                            "<tr><td>NULL</td><td>NULL</td><td>NULL</td><td>23</td><td>1198</td></tr>",
                            "<tr><td>NULL</td><td>NULL</td><td>NULL</td><td>23</td><td>1597</td></tr>",
                            "<tr><td>NULL</td><td>NULL</td><td>NULL</td><td>23</td><td>1688</td></tr>",
                            "<tr><td>NULL</td><td>NULL</td><td>NULL</td><td>23</td><td>2251</td></tr>",
                            "<tr><td>NULL</td><td>NULL</td><td>NULL</td><td>23</td><td>2350</td></tr>",
                            "<tr><td>NULL</td><td>NULL</td><td>NULL</td><td>23</td><td>2613</td></tr>",
                            "<tr><td>NULL</td><td>NULL</td><td>NULL</td><td>23</td><td>3312</td></tr>",
                            "<tr><td>NULL</td><td>NULL</td><td>NULL</td><td>23</td><td>3343</td></tr>",
                            "<tr><td>NULL</td><td>NULL</td><td>NULL</td><td>24</td><td>61</td></tr>",
                            "<tr><td>NULL</td><td>NULL</td><td>NULL</td><td>24</td><td>143</td></tr>",
                            "<tr><td>NULL</td><td>NULL</td><td>NULL</td><td>24</td><td>421</td></tr>",
                            "<tr><td>NULL</td><td>NULL</td><td>NULL</td><td>24</td><td>467</td></tr>",
                            "<tr><td>NULL</td><td>NULL</td><td>NULL</td><td>24</td><td>974</td></tr>",
                            "<tr><td>NULL</td><td>NULL</td><td>NULL</td><td>26</td><td>508</td></tr>",
                            "<tr><td>NULL</td><td>NULL</td><td>NULL</td><td>26</td><td>1796</td></tr>",
                            "<tr><td>NULL</td><td>NULL</td><td>NULL</td><td>26</td><td>2257</td></tr>",
                            "<tr><td>NULL</td><td>NULL</td><td>NULL</td><td>26</td><td>2314</td></tr>",
                            "<tr><td>NULL</td><td>NULL</td><td>NULL</td><td>26</td><td>2357</td></tr>",
                            "<tr><td>NULL</td><td>NULL</td><td>NULL</td><td>26</td><td>2738</td></tr>",
                            "<tr><td>NULL</td><td>NULL</td><td>NULL</td><td>26</td><td>2810</td></tr>",
                            "<tr><td>NULL</td><td>NULL</td><td>NULL</td><td>26</td><td>3207</td></tr>",
                            "<tr><td>The Thorn Birds</td><td>4.22</td><td>201</td><td>26</td><td>3412</td></tr>",
                            "<tr><td>The Complete Sherlock Holmes, Vol 2</td><td>4.46</td><td>117</td><td>26</td><td>3586</td></tr>",
                            "<tr><td>The Dark Tower (The Dark Tower, #7)</td><td>4.27</td><td>105</td><td>26</td><td>5091</td></tr>",
                            "<tr><td>NULL</td><td>NULL</td><td>NULL</td><td>26</td><td>5550</td></tr>",
                            "<tr><td>NULL</td><td>NULL</td><td>NULL</td><td>26</td><td>6877</td></tr>",
                            "<tr><td>NULL</td><td>NULL</td><td>NULL</td><td>26</td><td>7970</td></tr>",
                            "<tr><td>NULL</td><td>NULL</td><td>NULL</td><td>28</td><td>265</td></tr>",
                            "<tr><td>NULL</td><td>NULL</td><td>NULL</td><td>28</td><td>587</td></tr>",
                            "<tr><td>NULL</td><td>NULL</td><td>NULL</td><td>28</td><td>3543</td></tr>",
                            "<tr><td>NULL</td><td>NULL</td><td>NULL</td><td>28</td><td>5215</td></tr>",
                            "<tr><td>NULL</td><td>NULL</td><td>NULL</td><td>28</td><td>7496</td></tr>",
                            "<tr><td>NULL</td><td>NULL</td><td>NULL</td><td>28</td><td>8654</td></tr>",
                            "<tr><td>NULL</td><td>NULL</td><td>NULL</td><td>29</td><td>31</td></tr>",
                            "<tr><td>NULL</td><td>NULL</td><td>NULL</td><td>29</td><td>32</td></tr>",
                            "<tr><td>The Lord of the Rings: Weapons and Warfare</td><td>4.53</td><td>12</td><td>29</td><td>36</td></tr>",
                            "<tr><td>NULL</td><td>NULL</td><td>NULL</td><td>29</td><td>45</td></tr>",
                            "<tr><td>NULL</td><td>NULL</td><td>NULL</td><td>29</td><td>65</td></tr>",
                            "<tr><td>NULL</td><td>NULL</td><td>NULL</td><td>29</td><td>87</td></tr>",
                            "<tr><td>NULL</td><td>NULL</td><td>NULL</td><td>29</td><td>115</td></tr>",
                            "<tr><td>NULL</td><td>NULL</td><td>NULL</td><td>29</td><td>121</td></tr>",
                            "<tr><td>NULL</td><td>NULL</td><td>NULL</td><td>29</td><td>131</td></tr>",
                            "<tr><td>NULL</td><td>NULL</td><td>NULL</td><td>29</td><td>178</td></tr>",
                            "<tr><td>NULL</td><td>NULL</td><td>NULL</td><td>29</td><td>256</td></tr>",
                            "<tr><td>NULL</td><td>NULL</td><td>NULL</td><td>29</td><td>323</td></tr>",
                            "<tr><td>Slouching Towards Bethlehem</td><td>4.24</td><td>34</td><td>29</td><td>424</td></tr>",
                            "<tr><td>NULL</td><td>NULL</td><td>NULL</td><td>29</td><td>467</td></tr>",
                            "<tr><td>NULL</td><td>NULL</td><td>NULL</td><td>29</td><td>550</td></tr>",
                            "<tr><td>NULL</td><td>NULL</td><td>NULL</td><td>29</td><td>618</td></tr>",
                            "<tr><td>Atlas Shrugged</td><td>3.68</td><td>147</td><td>29</td><td>662</td></tr>",
                            "<tr><td>NULL</td><td>NULL</td><td>NULL</td><td>29</td><td>709</td></tr>",
                            "<tr><td>NULL</td><td>NULL</td><td>NULL</td><td>29</td><td>730</td></tr>",
                            "<tr><td>NULL</td><td>NULL</td><td>NULL</td><td>29</td><td>771</td></tr>",
                            "<tr><td>NULL</td><td>NULL</td><td>NULL</td><td>29</td><td>809</td></tr>",
                            "<tr><td>NULL</td><td>NULL</td><td>NULL</td><td>29</td><td>934</td></tr>",
                            "<tr><td>NULL</td><td>NULL</td><td>NULL</td><td>29</td><td>1084</td></tr>",
                            "<tr><td>NULL</td><td>NULL</td><td>NULL</td><td>29</td><td>1364</td></tr>",
                            "<tr><td>NULL</td><td>NULL</td><td>NULL</td><td>29</td><td>1642</td></tr>",
                            "<tr><td>NULL</td><td>NULL</td><td>NULL</td><td>29</td><td>1695</td></tr>",
                            "<tr><td>NULL</td><td>NULL</td><td>NULL</td><td>29</td><td>2259</td></tr>",
                            "<tr><td>NULL</td><td>NULL</td><td>NULL</td><td>29</td><td>2284</td></tr>",
                            "<tr><td>NULL</td><td>NULL</td><td>NULL</td><td>29</td><td>2304</td></tr>",
                            "<tr><td>NULL</td><td>NULL</td><td>NULL</td><td>29</td><td>2967</td></tr>",
                            "<tr><td>NULL</td><td>NULL</td><td>NULL</td><td>29</td><td>3508</td></tr>",
                            "<tr><td>NULL</td><td>NULL</td><td>NULL</td><td>29</td><td>4359</td></tr>",
                            "<tr><td>NULL</td><td>NULL</td><td>NULL</td><td>29</td><td>4394</td></tr>",
                            "<tr><td>NULL</td><td>NULL</td><td>NULL</td><td>29</td><td>4475</td></tr>",
                            "<tr><td>NULL</td><td>NULL</td><td>NULL</td><td>29</td><td>4629</td></tr>",
                            "<tr><td>NULL</td><td>NULL</td><td>NULL</td><td>29</td><td>5090</td></tr>",
                            "<tr><td>NULL</td><td>NULL</td><td>NULL</td><td>29</td><td>5596</td></tr>",
                            "<tr><td>NULL</td><td>NULL</td><td>NULL</td><td>29</td><td>5851</td></tr>",
                            "<tr><td>NULL</td><td>NULL</td><td>NULL</td><td>29</td><td>6104</td></tr>",
                            "<tr><td>NULL</td><td>NULL</td><td>NULL</td><td>30</td><td>47</td></tr>",
                            "<tr><td>The Known World</td><td>3.82</td><td>42</td><td>30</td><td>67</td></tr>",
                            "<tr><td>NULL</td><td>NULL</td><td>NULL</td><td>30</td><td>82</td></tr>",
                            "<tr><td>NULL</td><td>NULL</td><td>NULL</td><td>30</td><td>121</td></tr>",
                            "<tr><td>NULL</td><td>NULL</td><td>NULL</td><td>30</td><td>177</td></tr>",
                            "<tr><td>Tropic of Cancer</td><td>3.71</td><td>205</td><td>30</td><td>249</td></tr>",
                            "<tr><td>NULL</td><td>NULL</td><td>NULL</td><td>30</td><td>297</td></tr>",
                            "<tr><td>NULL</td><td>NULL</td><td>NULL</td><td>30</td><td>407</td></tr>",
                            "<tr><td>NULL</td><td>NULL</td><td>NULL</td><td>30</td><td>426</td></tr>",
                            "<tr><td>NULL</td><td>NULL</td><td>NULL</td><td>30</td><td>430</td></tr>",
                            "<tr><td>NULL</td><td>NULL</td><td>NULL</td><td>30</td><td>442</td></tr>",
                            "<tr><td>NULL</td><td>NULL</td><td>NULL</td><td>30</td><td>516</td></tr>",
                            "<tr><td>NULL</td><td>NULL</td><td>NULL</td><td>30</td><td>658</td></tr>",
                            "<tr><td>NULL</td><td>NULL</td><td>NULL</td><td>30</td><td>895</td></tr>",
                            "<tr><td>NULL</td><td>NULL</td><td>NULL</td><td>30</td><td>1039</td></tr>",
                            "<tr><td>NULL</td><td>NULL</td><td>NULL</td><td>30</td><td>1094</td></tr>",
                            "<tr><td>The Odyssey</td><td>3.73</td><td>1703</td><td>30</td><td>1381</td></tr>",
                            "<tr><td>NULL</td><td>NULL</td><td>NULL</td><td>30</td><td>2117</td></tr>",
                            "<tr><td>NULL</td><td>NULL</td><td>NULL</td><td>30</td><td>2426</td></tr>",
                            "<tr><td>NULL</td><td>NULL</td><td>NULL</td><td>30</td><td>3444</td></tr>",
                            "<tr><td>The Pilgrimage</td><td>3.64</td><td>171</td><td>30</td><td>4004</td></tr>",
                            "<tr><td>NULL</td><td>NULL</td><td>NULL</td><td>30</td><td>4202</td></tr>",
                            "<tr><td>NULL</td><td>NULL</td><td>NULL</td><td>30</td><td>4509</td></tr>",
                            "<tr><td>NULL</td><td>NULL</td><td>NULL</td><td>30</td><td>5880</td></tr>",
                            "<tr><td>The Hobbit</td><td>4.25</td><td>969</td><td>30</td><td>5907</td></tr>",
                            "<tr><td>NULL</td><td>NULL</td><td>NULL</td><td>30</td><td>6828</td></tr>",
                            "<tr><td>NULL</td><td>NULL</td><td>NULL</td><td>30</td><td>7563</td></tr>",
                            "<tr><td>NULL</td><td>NULL</td><td>NULL</td><td>30</td><td>8737</td></tr>",
                            "<tr><td>NULL</td><td>NULL</td><td>NULL</td><td>31</td><td>94</td></tr>",
                            "<tr><td>NULL</td><td>NULL</td><td>NULL</td><td>31</td><td>584</td></tr>",
                            "</table>"
                        ]
                    }
                }
            ],
            "execution_count": 3
        },
        {
            "cell_type": "markdown",
            "source": [
                "## **QUESTION 3:** Exploring FULL JOINS with the **books** and **to\\_read** tables\n",
                "\n",
                "You will need to uncomment the Query to answer the question.\n",
                "\n",
                "**Part A:**  Look at the table and explore how it was populated.  Try manipulating the query to better understand how this table works.  Try adding a WHERE clause, or ORDER BY a column on the **books** table.  Based on your exploration, can you think of when you might want a FULL join rather than a LEFT, RIGHT, or INNER?\n",
                "\n",
                "> Your Answer: \n",
                "> \n",
                "> <span style=\"color: rgb(55, 65, 81); font-family: Söhne, ui-sans-serif, system-ui, -apple-system, &quot;Segoe UI&quot;, Roboto, Ubuntu, Cantarell, &quot;Noto Sans&quot;, sans-serif, &quot;Helvetica Neue&quot;, Arial, &quot;Apple Color Emoji&quot;, &quot;Segoe UI Emoji&quot;, &quot;Segoe UI Symbol&quot;, &quot;Noto Color Emoji&quot;; font-size: 16px; white-space: pre-wrap; background-color: rgb(247, 247, 248);\">FULL JOIN can be useful when we want to see all records from both tables, regardless of whether there is a match between them.</span>"
            ],
            "metadata": {
                "azdata_cell_guid": "8f6b8f22-3e5a-4b87-a2f2-07279f1deb94"
            },
            "attachments": {}
        },
        {
            "cell_type": "code",
            "source": [
                "\n",
                "-- FULL JOIN\n",
                "SELECT TOP 30 b.title, b.average_rating, b.books_count,tr.user_id, tr.book_id\n",
                "FROM BooksDB.dbo.books AS b\n",
                "FULL JOIN BooksDB.dbo.to_read AS tr\n",
                "ON b.book_id = tr.book_id\n",
                "ORDER BY b.average_rating DESC;\n",
                ""
            ],
            "metadata": {
                "azdata_cell_guid": "7c2a3dff-ef55-4222-aef0-7c0ab4f942eb",
                "tags": [],
                "language": "sql"
            },
            "outputs": [
                {
                    "output_type": "display_data",
                    "data": {
                        "text/html": "(30 rows affected)"
                    },
                    "metadata": {}
                },
                {
                    "output_type": "display_data",
                    "data": {
                        "text/html": "Total execution time: 00:00:00.967"
                    },
                    "metadata": {}
                },
                {
                    "output_type": "execute_result",
                    "metadata": {},
                    "execution_count": 5,
                    "data": {
                        "application/vnd.dataresource+json": {
                            "schema": {
                                "fields": [
                                    {
                                        "name": "title"
                                    },
                                    {
                                        "name": "average_rating"
                                    },
                                    {
                                        "name": "books_count"
                                    },
                                    {
                                        "name": "user_id"
                                    },
                                    {
                                        "name": "book_id"
                                    }
                                ]
                            },
                            "data": [
                                {
                                    "title": "The Complete Calvin and Hobbes",
                                    "average_rating": "4.82",
                                    "books_count": "14",
                                    "user_id": "NULL",
                                    "book_id": "NULL"
                                },
                                {
                                    "title": "Harry Potter Boxed Set, Books 1-5 (Harry Potter, #1-5)",
                                    "average_rating": "4.77",
                                    "books_count": "11",
                                    "user_id": "9",
                                    "book_id": "8"
                                },
                                {
                                    "title": "Harry Potter Boxed Set, Books 1-5 (Harry Potter, #1-5)",
                                    "average_rating": "4.77",
                                    "books_count": "11",
                                    "user_id": "245",
                                    "book_id": "8"
                                },
                                {
                                    "title": "Harry Potter Boxed Set, Books 1-5 (Harry Potter, #1-5)",
                                    "average_rating": "4.77",
                                    "books_count": "11",
                                    "user_id": "265",
                                    "book_id": "8"
                                },
                                {
                                    "title": "Harry Potter Boxed Set, Books 1-5 (Harry Potter, #1-5)",
                                    "average_rating": "4.77",
                                    "books_count": "11",
                                    "user_id": "318",
                                    "book_id": "8"
                                },
                                {
                                    "title": "Harry Potter Boxed Set, Books 1-5 (Harry Potter, #1-5)",
                                    "average_rating": "4.77",
                                    "books_count": "11",
                                    "user_id": "361",
                                    "book_id": "8"
                                },
                                {
                                    "title": "Harry Potter Boxed Set, Books 1-5 (Harry Potter, #1-5)",
                                    "average_rating": "4.77",
                                    "books_count": "11",
                                    "user_id": "422",
                                    "book_id": "8"
                                },
                                {
                                    "title": "Harry Potter Boxed Set, Books 1-5 (Harry Potter, #1-5)",
                                    "average_rating": "4.77",
                                    "books_count": "11",
                                    "user_id": "435",
                                    "book_id": "8"
                                },
                                {
                                    "title": "Harry Potter Boxed Set, Books 1-5 (Harry Potter, #1-5)",
                                    "average_rating": "4.77",
                                    "books_count": "11",
                                    "user_id": "457",
                                    "book_id": "8"
                                },
                                {
                                    "title": "Harry Potter Boxed Set, Books 1-5 (Harry Potter, #1-5)",
                                    "average_rating": "4.77",
                                    "books_count": "11",
                                    "user_id": "615",
                                    "book_id": "8"
                                },
                                {
                                    "title": "Harry Potter Boxed Set, Books 1-5 (Harry Potter, #1-5)",
                                    "average_rating": "4.77",
                                    "books_count": "11",
                                    "user_id": "654",
                                    "book_id": "8"
                                },
                                {
                                    "title": "Harry Potter Boxed Set, Books 1-5 (Harry Potter, #1-5)",
                                    "average_rating": "4.77",
                                    "books_count": "11",
                                    "user_id": "1153",
                                    "book_id": "8"
                                },
                                {
                                    "title": "Harry Potter Boxed Set, Books 1-5 (Harry Potter, #1-5)",
                                    "average_rating": "4.77",
                                    "books_count": "11",
                                    "user_id": "1235",
                                    "book_id": "8"
                                },
                                {
                                    "title": "Harry Potter Boxed Set, Books 1-5 (Harry Potter, #1-5)",
                                    "average_rating": "4.77",
                                    "books_count": "11",
                                    "user_id": "1280",
                                    "book_id": "8"
                                },
                                {
                                    "title": "Harry Potter Boxed Set, Books 1-5 (Harry Potter, #1-5)",
                                    "average_rating": "4.77",
                                    "books_count": "11",
                                    "user_id": "1337",
                                    "book_id": "8"
                                },
                                {
                                    "title": "Harry Potter Boxed Set, Books 1-5 (Harry Potter, #1-5)",
                                    "average_rating": "4.77",
                                    "books_count": "11",
                                    "user_id": "1447",
                                    "book_id": "8"
                                },
                                {
                                    "title": "Harry Potter Boxed Set, Books 1-5 (Harry Potter, #1-5)",
                                    "average_rating": "4.77",
                                    "books_count": "11",
                                    "user_id": "1509",
                                    "book_id": "8"
                                },
                                {
                                    "title": "Harry Potter Boxed Set, Books 1-5 (Harry Potter, #1-5)",
                                    "average_rating": "4.77",
                                    "books_count": "11",
                                    "user_id": "1591",
                                    "book_id": "8"
                                },
                                {
                                    "title": "Harry Potter Boxed Set, Books 1-5 (Harry Potter, #1-5)",
                                    "average_rating": "4.77",
                                    "books_count": "11",
                                    "user_id": "1640",
                                    "book_id": "8"
                                },
                                {
                                    "title": "Harry Potter Boxed Set, Books 1-5 (Harry Potter, #1-5)",
                                    "average_rating": "4.77",
                                    "books_count": "11",
                                    "user_id": "1743",
                                    "book_id": "8"
                                },
                                {
                                    "title": "Harry Potter Boxed Set, Books 1-5 (Harry Potter, #1-5)",
                                    "average_rating": "4.77",
                                    "books_count": "11",
                                    "user_id": "1786",
                                    "book_id": "8"
                                },
                                {
                                    "title": "Harry Potter Boxed Set, Books 1-5 (Harry Potter, #1-5)",
                                    "average_rating": "4.77",
                                    "books_count": "11",
                                    "user_id": "1826",
                                    "book_id": "8"
                                },
                                {
                                    "title": "Harry Potter Boxed Set, Books 1-5 (Harry Potter, #1-5)",
                                    "average_rating": "4.77",
                                    "books_count": "11",
                                    "user_id": "1840",
                                    "book_id": "8"
                                },
                                {
                                    "title": "Harry Potter Boxed Set, Books 1-5 (Harry Potter, #1-5)",
                                    "average_rating": "4.77",
                                    "books_count": "11",
                                    "user_id": "1845",
                                    "book_id": "8"
                                },
                                {
                                    "title": "Harry Potter Boxed Set, Books 1-5 (Harry Potter, #1-5)",
                                    "average_rating": "4.77",
                                    "books_count": "11",
                                    "user_id": "1903",
                                    "book_id": "8"
                                },
                                {
                                    "title": "Harry Potter Boxed Set, Books 1-5 (Harry Potter, #1-5)",
                                    "average_rating": "4.77",
                                    "books_count": "11",
                                    "user_id": "1935",
                                    "book_id": "8"
                                },
                                {
                                    "title": "Harry Potter Boxed Set, Books 1-5 (Harry Potter, #1-5)",
                                    "average_rating": "4.77",
                                    "books_count": "11",
                                    "user_id": "1940",
                                    "book_id": "8"
                                },
                                {
                                    "title": "Harry Potter Boxed Set, Books 1-5 (Harry Potter, #1-5)",
                                    "average_rating": "4.77",
                                    "books_count": "11",
                                    "user_id": "2000",
                                    "book_id": "8"
                                },
                                {
                                    "title": "Harry Potter Boxed Set, Books 1-5 (Harry Potter, #1-5)",
                                    "average_rating": "4.77",
                                    "books_count": "11",
                                    "user_id": "2006",
                                    "book_id": "8"
                                },
                                {
                                    "title": "Harry Potter Boxed Set, Books 1-5 (Harry Potter, #1-5)",
                                    "average_rating": "4.77",
                                    "books_count": "11",
                                    "user_id": "2151",
                                    "book_id": "8"
                                }
                            ]
                        },
                        "text/html": [
                            "<table>",
                            "<tr><th>title</th><th>average_rating</th><th>books_count</th><th>user_id</th><th>book_id</th></tr>",
                            "<tr><td>The Complete Calvin and Hobbes</td><td>4.82</td><td>14</td><td>NULL</td><td>NULL</td></tr>",
                            "<tr><td>Harry Potter Boxed Set, Books 1-5 (Harry Potter, #1-5)</td><td>4.77</td><td>11</td><td>9</td><td>8</td></tr>",
                            "<tr><td>Harry Potter Boxed Set, Books 1-5 (Harry Potter, #1-5)</td><td>4.77</td><td>11</td><td>245</td><td>8</td></tr>",
                            "<tr><td>Harry Potter Boxed Set, Books 1-5 (Harry Potter, #1-5)</td><td>4.77</td><td>11</td><td>265</td><td>8</td></tr>",
                            "<tr><td>Harry Potter Boxed Set, Books 1-5 (Harry Potter, #1-5)</td><td>4.77</td><td>11</td><td>318</td><td>8</td></tr>",
                            "<tr><td>Harry Potter Boxed Set, Books 1-5 (Harry Potter, #1-5)</td><td>4.77</td><td>11</td><td>361</td><td>8</td></tr>",
                            "<tr><td>Harry Potter Boxed Set, Books 1-5 (Harry Potter, #1-5)</td><td>4.77</td><td>11</td><td>422</td><td>8</td></tr>",
                            "<tr><td>Harry Potter Boxed Set, Books 1-5 (Harry Potter, #1-5)</td><td>4.77</td><td>11</td><td>435</td><td>8</td></tr>",
                            "<tr><td>Harry Potter Boxed Set, Books 1-5 (Harry Potter, #1-5)</td><td>4.77</td><td>11</td><td>457</td><td>8</td></tr>",
                            "<tr><td>Harry Potter Boxed Set, Books 1-5 (Harry Potter, #1-5)</td><td>4.77</td><td>11</td><td>615</td><td>8</td></tr>",
                            "<tr><td>Harry Potter Boxed Set, Books 1-5 (Harry Potter, #1-5)</td><td>4.77</td><td>11</td><td>654</td><td>8</td></tr>",
                            "<tr><td>Harry Potter Boxed Set, Books 1-5 (Harry Potter, #1-5)</td><td>4.77</td><td>11</td><td>1153</td><td>8</td></tr>",
                            "<tr><td>Harry Potter Boxed Set, Books 1-5 (Harry Potter, #1-5)</td><td>4.77</td><td>11</td><td>1235</td><td>8</td></tr>",
                            "<tr><td>Harry Potter Boxed Set, Books 1-5 (Harry Potter, #1-5)</td><td>4.77</td><td>11</td><td>1280</td><td>8</td></tr>",
                            "<tr><td>Harry Potter Boxed Set, Books 1-5 (Harry Potter, #1-5)</td><td>4.77</td><td>11</td><td>1337</td><td>8</td></tr>",
                            "<tr><td>Harry Potter Boxed Set, Books 1-5 (Harry Potter, #1-5)</td><td>4.77</td><td>11</td><td>1447</td><td>8</td></tr>",
                            "<tr><td>Harry Potter Boxed Set, Books 1-5 (Harry Potter, #1-5)</td><td>4.77</td><td>11</td><td>1509</td><td>8</td></tr>",
                            "<tr><td>Harry Potter Boxed Set, Books 1-5 (Harry Potter, #1-5)</td><td>4.77</td><td>11</td><td>1591</td><td>8</td></tr>",
                            "<tr><td>Harry Potter Boxed Set, Books 1-5 (Harry Potter, #1-5)</td><td>4.77</td><td>11</td><td>1640</td><td>8</td></tr>",
                            "<tr><td>Harry Potter Boxed Set, Books 1-5 (Harry Potter, #1-5)</td><td>4.77</td><td>11</td><td>1743</td><td>8</td></tr>",
                            "<tr><td>Harry Potter Boxed Set, Books 1-5 (Harry Potter, #1-5)</td><td>4.77</td><td>11</td><td>1786</td><td>8</td></tr>",
                            "<tr><td>Harry Potter Boxed Set, Books 1-5 (Harry Potter, #1-5)</td><td>4.77</td><td>11</td><td>1826</td><td>8</td></tr>",
                            "<tr><td>Harry Potter Boxed Set, Books 1-5 (Harry Potter, #1-5)</td><td>4.77</td><td>11</td><td>1840</td><td>8</td></tr>",
                            "<tr><td>Harry Potter Boxed Set, Books 1-5 (Harry Potter, #1-5)</td><td>4.77</td><td>11</td><td>1845</td><td>8</td></tr>",
                            "<tr><td>Harry Potter Boxed Set, Books 1-5 (Harry Potter, #1-5)</td><td>4.77</td><td>11</td><td>1903</td><td>8</td></tr>",
                            "<tr><td>Harry Potter Boxed Set, Books 1-5 (Harry Potter, #1-5)</td><td>4.77</td><td>11</td><td>1935</td><td>8</td></tr>",
                            "<tr><td>Harry Potter Boxed Set, Books 1-5 (Harry Potter, #1-5)</td><td>4.77</td><td>11</td><td>1940</td><td>8</td></tr>",
                            "<tr><td>Harry Potter Boxed Set, Books 1-5 (Harry Potter, #1-5)</td><td>4.77</td><td>11</td><td>2000</td><td>8</td></tr>",
                            "<tr><td>Harry Potter Boxed Set, Books 1-5 (Harry Potter, #1-5)</td><td>4.77</td><td>11</td><td>2006</td><td>8</td></tr>",
                            "<tr><td>Harry Potter Boxed Set, Books 1-5 (Harry Potter, #1-5)</td><td>4.77</td><td>11</td><td>2151</td><td>8</td></tr>",
                            "</table>"
                        ]
                    }
                }
            ],
            "execution_count": 5
        },
        {
            "cell_type": "markdown",
            "source": [
                "## **QUESTION 4:** Exploring INNER Joins with the **books** and **to\\_read** tables\n",
                "\n",
                "You will need to uncomment the Query to answer the question.\n",
                "\n",
                "**Part A:**  What does an inner join do?\n",
                "\n",
                "> <span style=\"background-color: rgba(127, 127, 127, 0.1); font-family: -apple-system, BlinkMacSystemFont, sans-serif;\">Your Answer:&nbsp;</span> \n",
                "> \n",
                "> <span style=\"color: rgb(55, 65, 81); font-family: Söhne, ui-sans-serif, system-ui, -apple-system, &quot;Segoe UI&quot;, Roboto, Ubuntu, Cantarell, &quot;Noto Sans&quot;, sans-serif, &quot;Helvetica Neue&quot;, Arial, &quot;Apple Color Emoji&quot;, &quot;Segoe UI Emoji&quot;, &quot;Segoe UI Symbol&quot;, &quot;Noto Color Emoji&quot;; font-size: 16px; white-space: pre-wrap; background-color: rgb(247, 247, 248);\">An INNER JOIN in SQL returns records that have matching values in both tables involved in the join. In other words, it returns the intersection of the two tables based on the join condition.</span>\n",
                "\n",
                "<span style=\"background-color: rgba(127, 127, 127, 0.1); font-family: -apple-system, BlinkMacSystemFont, sans-serif;\"><b>Part B:</b>&nbsp;Currently this table has an <b>'IS NOT NULL'</b> in the <b>WHERE</b> clause.&nbsp; Is this necessary for this table?&nbsp; Why or Why not?&nbsp;</span> \n",
                "\n",
                "> Your Answer: \n",
                "> \n",
                "> <span style=\"color: rgb(55, 65, 81); font-family: Söhne, ui-sans-serif, system-ui, -apple-system, &quot;Segoe UI&quot;, Roboto, Ubuntu, Cantarell, &quot;Noto Sans&quot;, sans-serif, &quot;Helvetica Neue&quot;, Arial, &quot;Apple Color Emoji&quot;, &quot;Segoe UI Emoji&quot;, &quot;Segoe UI Symbol&quot;, &quot;Noto Color Emoji&quot;; font-size: 16px; white-space: pre-wrap; background-color: rgb(247, 247, 248);\">In this case, the 'IS NOT NULL' clause in the WHERE statement isn't necessary. This is because an INNER JOIN already only returns rows where there is a match in both tables. If 'b.title' was NULL, it would imply that there isn't a matching record in the 'books' table for that row, so it wouldn't be included in an INNER JOIN result set anyway.</span>\n",
                "\n",
                "**Part C:**  When using SQL, you are usually returning much larger tables so every line of code will add to the compilation and return time.  Rewrite this inner join query so that it contains no redundant code.   \n",
                "\n",
                "> Your Answer:  Update the query in the code box below."
            ],
            "metadata": {
                "azdata_cell_guid": "4dab11ce-7995-4444-92dd-4cb2c0bc02c8"
            },
            "attachments": {}
        },
        {
            "cell_type": "code",
            "source": [
                "\n",
                "-- INNER JOIN\n",
                "SELECT TOP 30 b.title, b.average_rating, b.books_count,tr.user_id, tr.book_id\n",
                "FROM BooksDB.dbo.books AS b\n",
                "INNER JOIN BooksDB.dbo.to_read AS tr\n",
                "ON b.book_id = tr.book_id\n",
                "ORDER BY tr.book_id;\n",
                ""
            ],
            "metadata": {
                "azdata_cell_guid": "66d430ab-18aa-4a29-a32d-0585445e417c",
                "tags": [],
                "language": "sql"
            },
            "outputs": [
                {
                    "output_type": "display_data",
                    "data": {
                        "text/html": "(30 rows affected)"
                    },
                    "metadata": {}
                },
                {
                    "output_type": "display_data",
                    "data": {
                        "text/html": "Total execution time: 00:00:00.216"
                    },
                    "metadata": {}
                },
                {
                    "output_type": "execute_result",
                    "metadata": {},
                    "execution_count": 8,
                    "data": {
                        "application/vnd.dataresource+json": {
                            "schema": {
                                "fields": [
                                    {
                                        "name": "title"
                                    },
                                    {
                                        "name": "average_rating"
                                    },
                                    {
                                        "name": "books_count"
                                    },
                                    {
                                        "name": "user_id"
                                    },
                                    {
                                        "name": "book_id"
                                    }
                                ]
                            },
                            "data": [
                                {
                                    "title": "Harry Potter and the Half-Blood Prince (Harry Potter, #6)",
                                    "average_rating": "4.54",
                                    "books_count": "275",
                                    "user_id": "12",
                                    "book_id": "1"
                                },
                                {
                                    "title": "Harry Potter and the Half-Blood Prince (Harry Potter, #6)",
                                    "average_rating": "4.54",
                                    "books_count": "275",
                                    "user_id": "192",
                                    "book_id": "1"
                                },
                                {
                                    "title": "Harry Potter and the Half-Blood Prince (Harry Potter, #6)",
                                    "average_rating": "4.54",
                                    "books_count": "275",
                                    "user_id": "202",
                                    "book_id": "1"
                                },
                                {
                                    "title": "Harry Potter and the Half-Blood Prince (Harry Potter, #6)",
                                    "average_rating": "4.54",
                                    "books_count": "275",
                                    "user_id": "244",
                                    "book_id": "1"
                                },
                                {
                                    "title": "Harry Potter and the Half-Blood Prince (Harry Potter, #6)",
                                    "average_rating": "4.54",
                                    "books_count": "275",
                                    "user_id": "253",
                                    "book_id": "1"
                                },
                                {
                                    "title": "Harry Potter and the Half-Blood Prince (Harry Potter, #6)",
                                    "average_rating": "4.54",
                                    "books_count": "275",
                                    "user_id": "350",
                                    "book_id": "1"
                                },
                                {
                                    "title": "Harry Potter and the Half-Blood Prince (Harry Potter, #6)",
                                    "average_rating": "4.54",
                                    "books_count": "275",
                                    "user_id": "478",
                                    "book_id": "1"
                                },
                                {
                                    "title": "Harry Potter and the Half-Blood Prince (Harry Potter, #6)",
                                    "average_rating": "4.54",
                                    "books_count": "275",
                                    "user_id": "511",
                                    "book_id": "1"
                                },
                                {
                                    "title": "Harry Potter and the Half-Blood Prince (Harry Potter, #6)",
                                    "average_rating": "4.54",
                                    "books_count": "275",
                                    "user_id": "525",
                                    "book_id": "1"
                                },
                                {
                                    "title": "Harry Potter and the Half-Blood Prince (Harry Potter, #6)",
                                    "average_rating": "4.54",
                                    "books_count": "275",
                                    "user_id": "527",
                                    "book_id": "1"
                                },
                                {
                                    "title": "Harry Potter and the Half-Blood Prince (Harry Potter, #6)",
                                    "average_rating": "4.54",
                                    "books_count": "275",
                                    "user_id": "552",
                                    "book_id": "1"
                                },
                                {
                                    "title": "Harry Potter and the Half-Blood Prince (Harry Potter, #6)",
                                    "average_rating": "4.54",
                                    "books_count": "275",
                                    "user_id": "644",
                                    "book_id": "1"
                                },
                                {
                                    "title": "Harry Potter and the Half-Blood Prince (Harry Potter, #6)",
                                    "average_rating": "4.54",
                                    "books_count": "275",
                                    "user_id": "754",
                                    "book_id": "1"
                                },
                                {
                                    "title": "Harry Potter and the Half-Blood Prince (Harry Potter, #6)",
                                    "average_rating": "4.54",
                                    "books_count": "275",
                                    "user_id": "826",
                                    "book_id": "1"
                                },
                                {
                                    "title": "Harry Potter and the Half-Blood Prince (Harry Potter, #6)",
                                    "average_rating": "4.54",
                                    "books_count": "275",
                                    "user_id": "1043",
                                    "book_id": "1"
                                },
                                {
                                    "title": "Harry Potter and the Half-Blood Prince (Harry Potter, #6)",
                                    "average_rating": "4.54",
                                    "books_count": "275",
                                    "user_id": "1205",
                                    "book_id": "1"
                                },
                                {
                                    "title": "Harry Potter and the Half-Blood Prince (Harry Potter, #6)",
                                    "average_rating": "4.54",
                                    "books_count": "275",
                                    "user_id": "1442",
                                    "book_id": "1"
                                },
                                {
                                    "title": "Harry Potter and the Half-Blood Prince (Harry Potter, #6)",
                                    "average_rating": "4.54",
                                    "books_count": "275",
                                    "user_id": "1470",
                                    "book_id": "1"
                                },
                                {
                                    "title": "Harry Potter and the Half-Blood Prince (Harry Potter, #6)",
                                    "average_rating": "4.54",
                                    "books_count": "275",
                                    "user_id": "1712",
                                    "book_id": "1"
                                },
                                {
                                    "title": "Harry Potter and the Half-Blood Prince (Harry Potter, #6)",
                                    "average_rating": "4.54",
                                    "books_count": "275",
                                    "user_id": "1814",
                                    "book_id": "1"
                                },
                                {
                                    "title": "Harry Potter and the Half-Blood Prince (Harry Potter, #6)",
                                    "average_rating": "4.54",
                                    "books_count": "275",
                                    "user_id": "1919",
                                    "book_id": "1"
                                },
                                {
                                    "title": "Harry Potter and the Half-Blood Prince (Harry Potter, #6)",
                                    "average_rating": "4.54",
                                    "books_count": "275",
                                    "user_id": "2051",
                                    "book_id": "1"
                                },
                                {
                                    "title": "Harry Potter and the Half-Blood Prince (Harry Potter, #6)",
                                    "average_rating": "4.54",
                                    "books_count": "275",
                                    "user_id": "2052",
                                    "book_id": "1"
                                },
                                {
                                    "title": "Harry Potter and the Half-Blood Prince (Harry Potter, #6)",
                                    "average_rating": "4.54",
                                    "books_count": "275",
                                    "user_id": "2158",
                                    "book_id": "1"
                                },
                                {
                                    "title": "Harry Potter and the Half-Blood Prince (Harry Potter, #6)",
                                    "average_rating": "4.54",
                                    "books_count": "275",
                                    "user_id": "2160",
                                    "book_id": "1"
                                },
                                {
                                    "title": "Harry Potter and the Half-Blood Prince (Harry Potter, #6)",
                                    "average_rating": "4.54",
                                    "books_count": "275",
                                    "user_id": "2345",
                                    "book_id": "1"
                                },
                                {
                                    "title": "Harry Potter and the Half-Blood Prince (Harry Potter, #6)",
                                    "average_rating": "4.54",
                                    "books_count": "275",
                                    "user_id": "2476",
                                    "book_id": "1"
                                },
                                {
                                    "title": "Harry Potter and the Half-Blood Prince (Harry Potter, #6)",
                                    "average_rating": "4.54",
                                    "books_count": "275",
                                    "user_id": "2523",
                                    "book_id": "1"
                                },
                                {
                                    "title": "Harry Potter and the Half-Blood Prince (Harry Potter, #6)",
                                    "average_rating": "4.54",
                                    "books_count": "275",
                                    "user_id": "2623",
                                    "book_id": "1"
                                },
                                {
                                    "title": "Harry Potter and the Half-Blood Prince (Harry Potter, #6)",
                                    "average_rating": "4.54",
                                    "books_count": "275",
                                    "user_id": "2673",
                                    "book_id": "1"
                                }
                            ]
                        },
                        "text/html": [
                            "<table>",
                            "<tr><th>title</th><th>average_rating</th><th>books_count</th><th>user_id</th><th>book_id</th></tr>",
                            "<tr><td>Harry Potter and the Half-Blood Prince (Harry Potter, #6)</td><td>4.54</td><td>275</td><td>12</td><td>1</td></tr>",
                            "<tr><td>Harry Potter and the Half-Blood Prince (Harry Potter, #6)</td><td>4.54</td><td>275</td><td>192</td><td>1</td></tr>",
                            "<tr><td>Harry Potter and the Half-Blood Prince (Harry Potter, #6)</td><td>4.54</td><td>275</td><td>202</td><td>1</td></tr>",
                            "<tr><td>Harry Potter and the Half-Blood Prince (Harry Potter, #6)</td><td>4.54</td><td>275</td><td>244</td><td>1</td></tr>",
                            "<tr><td>Harry Potter and the Half-Blood Prince (Harry Potter, #6)</td><td>4.54</td><td>275</td><td>253</td><td>1</td></tr>",
                            "<tr><td>Harry Potter and the Half-Blood Prince (Harry Potter, #6)</td><td>4.54</td><td>275</td><td>350</td><td>1</td></tr>",
                            "<tr><td>Harry Potter and the Half-Blood Prince (Harry Potter, #6)</td><td>4.54</td><td>275</td><td>478</td><td>1</td></tr>",
                            "<tr><td>Harry Potter and the Half-Blood Prince (Harry Potter, #6)</td><td>4.54</td><td>275</td><td>511</td><td>1</td></tr>",
                            "<tr><td>Harry Potter and the Half-Blood Prince (Harry Potter, #6)</td><td>4.54</td><td>275</td><td>525</td><td>1</td></tr>",
                            "<tr><td>Harry Potter and the Half-Blood Prince (Harry Potter, #6)</td><td>4.54</td><td>275</td><td>527</td><td>1</td></tr>",
                            "<tr><td>Harry Potter and the Half-Blood Prince (Harry Potter, #6)</td><td>4.54</td><td>275</td><td>552</td><td>1</td></tr>",
                            "<tr><td>Harry Potter and the Half-Blood Prince (Harry Potter, #6)</td><td>4.54</td><td>275</td><td>644</td><td>1</td></tr>",
                            "<tr><td>Harry Potter and the Half-Blood Prince (Harry Potter, #6)</td><td>4.54</td><td>275</td><td>754</td><td>1</td></tr>",
                            "<tr><td>Harry Potter and the Half-Blood Prince (Harry Potter, #6)</td><td>4.54</td><td>275</td><td>826</td><td>1</td></tr>",
                            "<tr><td>Harry Potter and the Half-Blood Prince (Harry Potter, #6)</td><td>4.54</td><td>275</td><td>1043</td><td>1</td></tr>",
                            "<tr><td>Harry Potter and the Half-Blood Prince (Harry Potter, #6)</td><td>4.54</td><td>275</td><td>1205</td><td>1</td></tr>",
                            "<tr><td>Harry Potter and the Half-Blood Prince (Harry Potter, #6)</td><td>4.54</td><td>275</td><td>1442</td><td>1</td></tr>",
                            "<tr><td>Harry Potter and the Half-Blood Prince (Harry Potter, #6)</td><td>4.54</td><td>275</td><td>1470</td><td>1</td></tr>",
                            "<tr><td>Harry Potter and the Half-Blood Prince (Harry Potter, #6)</td><td>4.54</td><td>275</td><td>1712</td><td>1</td></tr>",
                            "<tr><td>Harry Potter and the Half-Blood Prince (Harry Potter, #6)</td><td>4.54</td><td>275</td><td>1814</td><td>1</td></tr>",
                            "<tr><td>Harry Potter and the Half-Blood Prince (Harry Potter, #6)</td><td>4.54</td><td>275</td><td>1919</td><td>1</td></tr>",
                            "<tr><td>Harry Potter and the Half-Blood Prince (Harry Potter, #6)</td><td>4.54</td><td>275</td><td>2051</td><td>1</td></tr>",
                            "<tr><td>Harry Potter and the Half-Blood Prince (Harry Potter, #6)</td><td>4.54</td><td>275</td><td>2052</td><td>1</td></tr>",
                            "<tr><td>Harry Potter and the Half-Blood Prince (Harry Potter, #6)</td><td>4.54</td><td>275</td><td>2158</td><td>1</td></tr>",
                            "<tr><td>Harry Potter and the Half-Blood Prince (Harry Potter, #6)</td><td>4.54</td><td>275</td><td>2160</td><td>1</td></tr>",
                            "<tr><td>Harry Potter and the Half-Blood Prince (Harry Potter, #6)</td><td>4.54</td><td>275</td><td>2345</td><td>1</td></tr>",
                            "<tr><td>Harry Potter and the Half-Blood Prince (Harry Potter, #6)</td><td>4.54</td><td>275</td><td>2476</td><td>1</td></tr>",
                            "<tr><td>Harry Potter and the Half-Blood Prince (Harry Potter, #6)</td><td>4.54</td><td>275</td><td>2523</td><td>1</td></tr>",
                            "<tr><td>Harry Potter and the Half-Blood Prince (Harry Potter, #6)</td><td>4.54</td><td>275</td><td>2623</td><td>1</td></tr>",
                            "<tr><td>Harry Potter and the Half-Blood Prince (Harry Potter, #6)</td><td>4.54</td><td>275</td><td>2673</td><td>1</td></tr>",
                            "</table>"
                        ]
                    }
                }
            ],
            "execution_count": 8
        },
        {
            "cell_type": "markdown",
            "source": [
                "## **QUESTION 5:**  Using joins to find the most tagged book and the most popular tag\n",
                "\n",
                "We will be writing 3 queries to find both the most tagged book and that book's most popular tag.\n",
                "\n",
                "**Part A:**  What is the most tagged book?\n",
                "\n",
                "> <span style=\"background-color: rgba(127, 127, 127, 0.1); font-family: -apple-system, BlinkMacSystemFont, sans-serif;\">Start by joining the </span> **books** <span style=\"background-color: rgba(127, 127, 127, 0.1); font-family: -apple-system, BlinkMacSystemFont, sans-serif;\">and </span> **book\\_tags**    <span style=\"background-color: rgba(127, 127, 127, 0.1); font-family: -apple-system, BlinkMacSystemFont, sans-serif;\">&nbsp;tables ON the books.best_book_id and book_tags.goodreads_book_id.&nbsp;&nbsp;<br></span>      <span style=\"background-color: rgba(127, 127, 127, 0.1); font-family: -apple-system, BlinkMacSystemFont, sans-serif;\">We want the <i>most popular</i> book, so think about ordering the table in a way that will display both the book title and the number of times a book tag has been used.</span>\n",
                "> \n",
                "> _MInimum Desired output:_  The title of the most tagged book, and the number of times the book has been tagged.\n",
                "> \n",
                "> **Title:**  **Selected Poems 400**\n",
                "\n",
                "**Part B:** How many different tags have been used for the most tagged book?\n",
                "\n",
                "> <span style=\"font-family: -apple-system, BlinkMacSystemFont, sans-serif; background-color: rgba(127, 127, 127, 0.1);\">Start by joining the&nbsp;</span>    **books** <span style=\"font-family: -apple-system, BlinkMacSystemFont, sans-serif; background-color: rgba(127, 127, 127, 0.1);\">and&nbsp;</span>    **book\\_tags**    <span style=\"font-family: -apple-system, BlinkMacSystemFont, sans-serif; background-color: rgba(127, 127, 127, 0.1);\">&nbsp;tables ON the books.best_book_id and book_tags.goodreads_book_id.&nbsp;&nbsp;<br></span>      We want to find the _most popular_ tag id, so think about ordering in a way that will display the most popular tag id.\n",
                "> \n",
                "> <span style=\"font-family: -apple-system, BlinkMacSystemFont, sans-serif; background-color: rgba(127, 127, 127, 0.1);\"><i>Minimum Desired Output:</i> The tag id for the most popular tag used for the most tagged book.&nbsp;</span>   \n",
                "> \n",
                "> <span style=\"font-family: -apple-system, BlinkMacSystemFont, sans-serif; background-color: rgba(127, 127, 127, 0.1);\"><b>Tag Id:&nbsp;</b></span>  **5207**\n",
                "\n",
                "<span style=\"font-family: -apple-system, BlinkMacSystemFont, sans-serif; background-color: rgba(127, 127, 127, 0.1);\"><b>Part C: </b>What is this particular tag?</span>\n",
                "\n",
                "> You may return this answer with a simple query.\n",
                "\n",
                "> <span style=\"font-family: -apple-system, BlinkMacSystemFont, sans-serif; background-color: rgba(127, 127, 127, 0.1);\"><i>Minimum Desired Output:</i>&nbsp;The tag name for the most popular tag used for the most tagged book.&nbsp;</span>   \n",
                "> \n",
                "> <span style=\"font-family: -apple-system, BlinkMacSystemFont, sans-serif; background-color: rgba(127, 127, 127, 0.1);\"><b>Tag Name:&nbsp;&nbsp;</b></span>  **books-i-own**"
            ],
            "metadata": {
                "azdata_cell_guid": "a685e9cc-2ae2-40e8-8cc1-022c8064d66d"
            },
            "attachments": {}
        },
        {
            "cell_type": "code",
            "source": [
                "-- Code Here:\r\n",
                "SELECT TOP 1 b.title, COUNT(bt.tag_id) as tag_count\r\n",
                "FROM BooksDB.dbo.books AS b\r\n",
                "JOIN BooksDB.dbo.book_tags AS bt\r\n",
                "ON b.best_book_id = bt.goodreads_book_id\r\n",
                "GROUP BY b.title\r\n",
                "ORDER BY COUNT(bt.tag_id) DESC;"
            ],
            "metadata": {
                "azdata_cell_guid": "de3ac253-6b47-4740-8c6e-5f9d1b0ce36b",
                "language": "sql"
            },
            "outputs": [
                {
                    "output_type": "display_data",
                    "data": {
                        "text/html": "(1 row affected)"
                    },
                    "metadata": {}
                },
                {
                    "output_type": "display_data",
                    "data": {
                        "text/html": "Total execution time: 00:00:00.343"
                    },
                    "metadata": {}
                },
                {
                    "output_type": "execute_result",
                    "metadata": {},
                    "execution_count": 9,
                    "data": {
                        "application/vnd.dataresource+json": {
                            "schema": {
                                "fields": [
                                    {
                                        "name": "title"
                                    },
                                    {
                                        "name": "tag_count"
                                    }
                                ]
                            },
                            "data": [
                                {
                                    "title": "Selected Poems",
                                    "tag_count": "400"
                                }
                            ]
                        },
                        "text/html": [
                            "<table>",
                            "<tr><th>title</th><th>tag_count</th></tr>",
                            "<tr><td>Selected Poems</td><td>400</td></tr>",
                            "</table>"
                        ]
                    }
                }
            ],
            "execution_count": 9
        },
        {
            "cell_type": "code",
            "source": [
                "SELECT TOP 1 bt.tag_id, COUNT(*) as tag_count\r\n",
                "FROM BooksDB.dbo.books AS b\r\n",
                "JOIN BooksDB.dbo.book_tags AS bt\r\n",
                "ON b.best_book_id = bt.goodreads_book_id\r\n",
                "WHERE b.title = 'Selected Poems'\r\n",
                "GROUP BY bt.tag_id\r\n",
                "ORDER BY COUNT(*) DESC;"
            ],
            "metadata": {
                "azdata_cell_guid": "19fdb947-8191-40cf-9e2e-cd37e9506f7d",
                "language": "sql"
            },
            "outputs": [
                {
                    "output_type": "display_data",
                    "data": {
                        "text/html": "(1 row affected)"
                    },
                    "metadata": {}
                },
                {
                    "output_type": "display_data",
                    "data": {
                        "text/html": "Total execution time: 00:00:00.183"
                    },
                    "metadata": {}
                },
                {
                    "output_type": "execute_result",
                    "metadata": {},
                    "execution_count": 11,
                    "data": {
                        "application/vnd.dataresource+json": {
                            "schema": {
                                "fields": [
                                    {
                                        "name": "tag_id"
                                    },
                                    {
                                        "name": "tag_count"
                                    }
                                ]
                            },
                            "data": [
                                {
                                    "tag_id": "5207",
                                    "tag_count": "4"
                                }
                            ]
                        },
                        "text/html": [
                            "<table>",
                            "<tr><th>tag_id</th><th>tag_count</th></tr>",
                            "<tr><td>5207</td><td>4</td></tr>",
                            "</table>"
                        ]
                    }
                }
            ],
            "execution_count": 11
        },
        {
            "cell_type": "code",
            "source": [
                "SELECT t.tag_name\r\n",
                "FROM BooksDB.dbo.tags AS t\r\n",
                "WHERE t.tag_id = '5207';"
            ],
            "metadata": {
                "azdata_cell_guid": "802a47cb-d1e4-4b3e-b90c-0d105cedff48",
                "language": "sql"
            },
            "outputs": [
                {
                    "output_type": "display_data",
                    "data": {
                        "text/html": "(1 row affected)"
                    },
                    "metadata": {}
                },
                {
                    "output_type": "display_data",
                    "data": {
                        "text/html": "Total execution time: 00:00:00.112"
                    },
                    "metadata": {}
                },
                {
                    "output_type": "execute_result",
                    "metadata": {},
                    "execution_count": 12,
                    "data": {
                        "application/vnd.dataresource+json": {
                            "schema": {
                                "fields": [
                                    {
                                        "name": "tag_name"
                                    }
                                ]
                            },
                            "data": [
                                {
                                    "tag_name": "books-i-own"
                                }
                            ]
                        },
                        "text/html": [
                            "<table>",
                            "<tr><th>tag_name</th></tr>",
                            "<tr><td>books-i-own</td></tr>",
                            "</table>"
                        ]
                    }
                }
            ],
            "execution_count": 12
        },
        {
            "cell_type": "markdown",
            "source": [
                "## **QUESTION 6:** Find a book based on a tag of your choice using joins.\n",
                "\n",
                "Some suggestions: any hobbies you like? baking, drawing, etc. how about favorite holidays, subjects, animals, etc?\n",
                "\n",
                "**Part A:** Explore the tags table for a tag of your choice.  Suggested ideas, try searching for one of your hobbies, a favorite time of year, favorite animal, etc.  Start by querying the tag table for your chosen tag.  (_Hint:_ in order to make sure you find all combinations of your tags, use the wildcard).  If your query returns more than one result, pick your favorite.\n",
                "\n",
                "> > _Here is an example.  Alyce wanted to search for halloween books.  She used the wildcard, '%halloween%' and 8 different combinations were found.  Alyce selected '**halloween-storytime**', with a tag id of 13877._\n",
                "\n",
                "> _Minimum Desired Output:_ <span style=\"font-family: -apple-system, BlinkMacSystemFont, sans-serif; background-color: rgba(127, 127, 127, 0.1);\">tag name and tag id</span>\n",
                "\n",
                "> **Your Tag and Tag Id:** \n",
                "> \n",
                "> **tag\\_name = 02-fantasy** \n",
                "> \n",
                "> **tag\\_id = 98**\n",
                "\n",
                "**Part B:** Now that you have the **tag id**, find the title that was tagged the most with this tag by joining the books and books\\_tags tables.\n",
                "\n",
                "> > _Alyce joined the book table with the tags table and discovered that <u>The Little Old Lady Who Was Not Afraid of Anything</u> was tagged as '**halloween-storytime**' the most._\n",
                "\n",
                "> _Minimum Desired Output:_ <span style=\"background-color: rgba(127, 127, 127, 0.1); font-family: -apple-system, BlinkMacSystemFont, sans-serif;\">title and tag count</span>\n",
                "\n",
                "> **Your Title and Number of times the tag was used:** \n",
                "> \n",
                "> **title = A Color of His Own**\n",
                "\n",
                "> **tag\\_count = 1**"
            ],
            "metadata": {
                "azdata_cell_guid": "df783e7e-3aff-4e63-9edb-f2e729c7d1c8"
            },
            "attachments": {}
        },
        {
            "cell_type": "code",
            "source": [
                "-- Code Here:\r\n",
                "SELECT t.tag_name, t.tag_id\r\n",
                "FROM BooksDB.dbo.tags AS t\r\n",
                "WHERE t.tag_name LIKE '%fantasy%';"
            ],
            "metadata": {
                "azdata_cell_guid": "c4b0b67c-7cfa-4f52-be97-ffe5cc28ed54",
                "tags": [],
                "language": "sql"
            },
            "outputs": [
                {
                    "output_type": "display_data",
                    "data": {
                        "text/html": "(282 rows affected)"
                    },
                    "metadata": {}
                },
                {
                    "output_type": "display_data",
                    "data": {
                        "text/html": "Total execution time: 00:00:00.108"
                    },
                    "metadata": {}
                },
                {
                    "output_type": "execute_result",
                    "metadata": {},
                    "execution_count": 16,
                    "data": {
                        "application/vnd.dataresource+json": {
                            "schema": {
                                "fields": [
                                    {
                                        "name": "tag_name"
                                    },
                                    {
                                        "name": "tag_id"
                                    }
                                ]
                            },
                            "data": [
                                {
                                    "tag_name": "02-fantasy",
                                    "tag_id": "98"
                                },
                                {
                                    "tag_name": "05-high-fantasy",
                                    "tag_id": "119"
                                },
                                {
                                    "tag_name": "07-modern-fantasy",
                                    "tag_id": "124"
                                },
                                {
                                    "tag_name": "22-modern-fantasy",
                                    "tag_id": "950"
                                },
                                {
                                    "tag_name": "50-fantasy",
                                    "tag_id": "1139"
                                },
                                {
                                    "tag_name": "a-fantasy",
                                    "tag_id": "1315"
                                },
                                {
                                    "tag_name": "adult-fantasy",
                                    "tag_id": "1654"
                                },
                                {
                                    "tag_name": "adventure-nonfantasy",
                                    "tag_id": "1700"
                                },
                                {
                                    "tag_name": "alien-fiction-fantasy-sci-fi",
                                    "tag_id": "2050"
                                },
                                {
                                    "tag_name": "alternative-fantasy",
                                    "tag_id": "2183"
                                },
                                {
                                    "tag_name": "animal-fantasy",
                                    "tag_id": "2554"
                                },
                                {
                                    "tag_name": "arab-fantasy",
                                    "tag_id": "2820"
                                },
                                {
                                    "tag_name": "asian-fantasy",
                                    "tag_id": "3227"
                                },
                                {
                                    "tag_name": "best-audio-epic-fantasy",
                                    "tag_id": "4310"
                                },
                                {
                                    "tag_name": "best-fantasy",
                                    "tag_id": "4333"
                                },
                                {
                                    "tag_name": "best-fantasy-books",
                                    "tag_id": "4334"
                                },
                                {
                                    "tag_name": "best-fantasy-series",
                                    "tag_id": "4335"
                                },
                                {
                                    "tag_name": "books-fantasy-7",
                                    "tag_id": "5133"
                                },
                                {
                                    "tag_name": "books-fantasy-8",
                                    "tag_id": "5134"
                                },
                                {
                                    "tag_name": "children-fantasy",
                                    "tag_id": "6873"
                                },
                                {
                                    "tag_name": "children-s-fantasy",
                                    "tag_id": "6907"
                                },
                                {
                                    "tag_name": "childrens-fantasy",
                                    "tag_id": "6971"
                                },
                                {
                                    "tag_name": "christian-fantasy",
                                    "tag_id": "7112"
                                },
                                {
                                    "tag_name": "christian-fantasy-and-drama",
                                    "tag_id": "7113"
                                },
                                {
                                    "tag_name": "classic-fantasy",
                                    "tag_id": "7415"
                                },
                                {
                                    "tag_name": "comedic-fantasy",
                                    "tag_id": "7723"
                                },
                                {
                                    "tag_name": "comedy-fantasy",
                                    "tag_id": "7727"
                                },
                                {
                                    "tag_name": "comic-fantasy",
                                    "tag_id": "7756"
                                },
                                {
                                    "tag_name": "comics-fantasy",
                                    "tag_id": "7799"
                                },
                                {
                                    "tag_name": "coming-of-age-fantasy",
                                    "tag_id": "7853"
                                },
                                {
                                    "tag_name": "contemporary-fantasy",
                                    "tag_id": "8066"
                                },
                                {
                                    "tag_name": "cyber-fantasy",
                                    "tag_id": "8750"
                                },
                                {
                                    "tag_name": "cz-fantasy-to-read",
                                    "tag_id": "8767"
                                },
                                {
                                    "tag_name": "dark-fantasy",
                                    "tag_id": "8938"
                                },
                                {
                                    "tag_name": "dark-fantasy-horror",
                                    "tag_id": "8939"
                                },
                                {
                                    "tag_name": "dragon-fantasy",
                                    "tag_id": "9852"
                                },
                                {
                                    "tag_name": "epic-fantasy",
                                    "tag_id": "10731"
                                },
                                {
                                    "tag_name": "epic-fantasy-series",
                                    "tag_id": "10732"
                                },
                                {
                                    "tag_name": "epic-high-fantasy",
                                    "tag_id": "10735"
                                },
                                {
                                    "tag_name": "erotic-fantasy",
                                    "tag_id": "10818"
                                },
                                {
                                    "tag_name": "excellent-fantasy",
                                    "tag_id": "11015"
                                },
                                {
                                    "tag_name": "fairy-fantasy",
                                    "tag_id": "11145"
                                },
                                {
                                    "tag_name": "fantascienza-fantasy",
                                    "tag_id": "11288"
                                },
                                {
                                    "tag_name": "fantastic-fantasy",
                                    "tag_id": "11296"
                                },
                                {
                                    "tag_name": "fantasy",
                                    "tag_id": "11305"
                                },
                                {
                                    "tag_name": "fantasy---sci-fi",
                                    "tag_id": "11306"
                                },
                                {
                                    "tag_name": "fantasy--sci-fi",
                                    "tag_id": "11307"
                                },
                                {
                                    "tag_name": "fantasy-4",
                                    "tag_id": "11308"
                                },
                                {
                                    "tag_name": "fantasy-adult",
                                    "tag_id": "11309"
                                },
                                {
                                    "tag_name": "fantasy-adventure",
                                    "tag_id": "11310"
                                },
                                {
                                    "tag_name": "fantasy-all-ages",
                                    "tag_id": "11311"
                                },
                                {
                                    "tag_name": "fantasy-alternative-world",
                                    "tag_id": "11312"
                                },
                                {
                                    "tag_name": "fantasy-and-related",
                                    "tag_id": "11313"
                                },
                                {
                                    "tag_name": "fantasy-and-sci-fi",
                                    "tag_id": "11314"
                                },
                                {
                                    "tag_name": "fantasy-and-science-fiction",
                                    "tag_id": "11315"
                                },
                                {
                                    "tag_name": "fantasy-and-scifi",
                                    "tag_id": "11316"
                                },
                                {
                                    "tag_name": "fantasy-and-sf",
                                    "tag_id": "11317"
                                },
                                {
                                    "tag_name": "fantasy-and-the-like",
                                    "tag_id": "11318"
                                },
                                {
                                    "tag_name": "fantasy-art",
                                    "tag_id": "11319"
                                },
                                {
                                    "tag_name": "fantasy-book-club",
                                    "tag_id": "11320"
                                },
                                {
                                    "tag_name": "fantasy-books",
                                    "tag_id": "11321"
                                },
                                {
                                    "tag_name": "fantasy-books-i-ve-enjoyed",
                                    "tag_id": "11322"
                                },
                                {
                                    "tag_name": "fantasy-books-must-read",
                                    "tag_id": "11323"
                                },
                                {
                                    "tag_name": "fantasy-books-read",
                                    "tag_id": "11324"
                                },
                                {
                                    "tag_name": "fantasy-brain",
                                    "tag_id": "11325"
                                },
                                {
                                    "tag_name": "fantasy-classic",
                                    "tag_id": "11326"
                                },
                                {
                                    "tag_name": "fantasy-classics",
                                    "tag_id": "11327"
                                },
                                {
                                    "tag_name": "fantasy-comedy",
                                    "tag_id": "11328"
                                },
                                {
                                    "tag_name": "fantasy-contemporary",
                                    "tag_id": "11329"
                                },
                                {
                                    "tag_name": "fantasy-dark",
                                    "tag_id": "11330"
                                },
                                {
                                    "tag_name": "fantasy-detective",
                                    "tag_id": "11331"
                                },
                                {
                                    "tag_name": "fantasy-discworld",
                                    "tag_id": "11332"
                                },
                                {
                                    "tag_name": "fantasy-dragonlance",
                                    "tag_id": "11333"
                                },
                                {
                                    "tag_name": "fantasy-dragons",
                                    "tag_id": "11334"
                                },
                                {
                                    "tag_name": "fantasy-eddings",
                                    "tag_id": "11335"
                                },
                                {
                                    "tag_name": "fantasy-epic",
                                    "tag_id": "11336"
                                },
                                {
                                    "tag_name": "fantasy-faerie",
                                    "tag_id": "11337"
                                },
                                {
                                    "tag_name": "fantasy-favorites",
                                    "tag_id": "11338"
                                },
                                {
                                    "tag_name": "fantasy-feist",
                                    "tag_id": "11339"
                                },
                                {
                                    "tag_name": "fantasy-fiction",
                                    "tag_id": "11340"
                                },
                                {
                                    "tag_name": "fantasy-for-all-ages",
                                    "tag_id": "11341"
                                },
                                {
                                    "tag_name": "fantasy-for-everybody",
                                    "tag_id": "11342"
                                },
                                {
                                    "tag_name": "fantasy-forgotten-realms",
                                    "tag_id": "11343"
                                },
                                {
                                    "tag_name": "fantasy-fun",
                                    "tag_id": "11344"
                                },
                                {
                                    "tag_name": "fantasy-general",
                                    "tag_id": "11345"
                                },
                                {
                                    "tag_name": "fantasy-gunpowder",
                                    "tag_id": "11346"
                                },
                                {
                                    "tag_name": "fantasy-heroic",
                                    "tag_id": "11347"
                                },
                                {
                                    "tag_name": "fantasy-high",
                                    "tag_id": "11348"
                                },
                                {
                                    "tag_name": "fantasy-historical",
                                    "tag_id": "11349"
                                },
                                {
                                    "tag_name": "fantasy-horror",
                                    "tag_id": "11350"
                                },
                                {
                                    "tag_name": "fantasy-humor",
                                    "tag_id": "11351"
                                },
                                {
                                    "tag_name": "fantasy-humour",
                                    "tag_id": "11352"
                                },
                                {
                                    "tag_name": "fantasy-juvenile",
                                    "tag_id": "11353"
                                },
                                {
                                    "tag_name": "fantasy-kids",
                                    "tag_id": "11354"
                                },
                                {
                                    "tag_name": "fantasy-la-la-la",
                                    "tag_id": "11355"
                                },
                                {
                                    "tag_name": "fantasy-magic",
                                    "tag_id": "11356"
                                },
                                {
                                    "tag_name": "fantasy-manga",
                                    "tag_id": "11357"
                                },
                                {
                                    "tag_name": "fantasy-masterworks",
                                    "tag_id": "11358"
                                },
                                {
                                    "tag_name": "fantasy-modern",
                                    "tag_id": "11359"
                                },
                                {
                                    "tag_name": "fantasy-mythology",
                                    "tag_id": "11360"
                                },
                                {
                                    "tag_name": "fantasy-need-to-read",
                                    "tag_id": "11361"
                                },
                                {
                                    "tag_name": "fantasy-novels",
                                    "tag_id": "11362"
                                },
                                {
                                    "tag_name": "fantasy-of-manners",
                                    "tag_id": "11363"
                                },
                                {
                                    "tag_name": "fantasy-otherworldy",
                                    "tag_id": "11364"
                                },
                                {
                                    "tag_name": "fantasy-owned",
                                    "tag_id": "11365"
                                },
                                {
                                    "tag_name": "fantasy-paranormal",
                                    "tag_id": "11366"
                                },
                                {
                                    "tag_name": "fantasy-read",
                                    "tag_id": "11367"
                                },
                                {
                                    "tag_name": "fantasy-reads",
                                    "tag_id": "11368"
                                },
                                {
                                    "tag_name": "fantasy-romance",
                                    "tag_id": "11369"
                                },
                                {
                                    "tag_name": "fantasy-sci-fi",
                                    "tag_id": "11370"
                                },
                                {
                                    "tag_name": "fantasy-sci-fi-liesure",
                                    "tag_id": "11371"
                                },
                                {
                                    "tag_name": "fantasy-science-fiction",
                                    "tag_id": "11372"
                                },
                                {
                                    "tag_name": "fantasy-science-fiction-dystopian",
                                    "tag_id": "11373"
                                },
                                {
                                    "tag_name": "fantasy-science-fiction-fairy-tale",
                                    "tag_id": "11374"
                                },
                                {
                                    "tag_name": "fantasy-sciencefiction",
                                    "tag_id": "11375"
                                },
                                {
                                    "tag_name": "fantasy-scifi",
                                    "tag_id": "11376"
                                },
                                {
                                    "tag_name": "fantasy-scifi-futuristic-postapocal",
                                    "tag_id": "11377"
                                },
                                {
                                    "tag_name": "fantasy-series",
                                    "tag_id": "11378"
                                },
                                {
                                    "tag_name": "fantasy-sf",
                                    "tag_id": "11379"
                                },
                                {
                                    "tag_name": "fantasy-sifi",
                                    "tag_id": "11380"
                                },
                                {
                                    "tag_name": "fantasy-soft-sci-fi",
                                    "tag_id": "11381"
                                },
                                {
                                    "tag_name": "fantasy-supernatural",
                                    "tag_id": "11382"
                                },
                                {
                                    "tag_name": "fantasy-sword-and-sorcery",
                                    "tag_id": "11383"
                                },
                                {
                                    "tag_name": "fantasy-tbr",
                                    "tag_id": "11384"
                                },
                                {
                                    "tag_name": "fantasy-titles",
                                    "tag_id": "11385"
                                },
                                {
                                    "tag_name": "fantasy-to-read",
                                    "tag_id": "11386"
                                },
                                {
                                    "tag_name": "fantasy-tolkien",
                                    "tag_id": "11387"
                                },
                                {
                                    "tag_name": "fantasy-urban",
                                    "tag_id": "11388"
                                },
                                {
                                    "tag_name": "fantasy-urban-fantasy",
                                    "tag_id": "11389"
                                },
                                {
                                    "tag_name": "fantasy-vampires",
                                    "tag_id": "11390"
                                },
                                {
                                    "tag_name": "fantasy-wensenlijstje",
                                    "tag_id": "11391"
                                },
                                {
                                    "tag_name": "fantasy-ya",
                                    "tag_id": "11392"
                                },
                                {
                                    "tag_name": "fantasy_sci-fi",
                                    "tag_id": "11393"
                                },
                                {
                                    "tag_name": "fantasybooks",
                                    "tag_id": "11394"
                                },
                                {
                                    "tag_name": "fantasyland",
                                    "tag_id": "11395"
                                },
                                {
                                    "tag_name": "favorite-fantasy",
                                    "tag_id": "11524"
                                },
                                {
                                    "tag_name": "favorite-fantasy-books",
                                    "tag_id": "11525"
                                },
                                {
                                    "tag_name": "favourite-fantasy",
                                    "tag_id": "11583"
                                },
                                {
                                    "tag_name": "favourite-fantasy-novels",
                                    "tag_id": "11584"
                                },
                                {
                                    "tag_name": "fic-fantasy",
                                    "tag_id": "11721"
                                },
                                {
                                    "tag_name": "fictio-fantasy",
                                    "tag_id": "11741"
                                },
                                {
                                    "tag_name": "fiction-fantasy",
                                    "tag_id": "11773"
                                },
                                {
                                    "tag_name": "fiction-fantasy-and-science-fiction",
                                    "tag_id": "11774"
                                },
                                {
                                    "tag_name": "five-star-fantasy",
                                    "tag_id": "12081"
                                },
                                {
                                    "tag_name": "flintlock-fantasy",
                                    "tag_id": "12116"
                                },
                                {
                                    "tag_name": "fun-fantasy",
                                    "tag_id": "12667"
                                },
                                {
                                    "tag_name": "g-fantasy",
                                    "tag_id": "12729"
                                },
                                {
                                    "tag_name": "g-fantasy-uf",
                                    "tag_id": "12730"
                                },
                                {
                                    "tag_name": "g_fantasy",
                                    "tag_id": "12754"
                                },
                                {
                                    "tag_name": "gay-fantasy",
                                    "tag_id": "12876"
                                },
                                {
                                    "tag_name": "general-fantasy",
                                    "tag_id": "12946"
                                },
                                {
                                    "tag_name": "genre-fantasy",
                                    "tag_id": "13005"
                                },
                                {
                                    "tag_name": "genre-historical-fantasy",
                                    "tag_id": "13009"
                                },
                                {
                                    "tag_name": "genre-urban-fantasy",
                                    "tag_id": "13037"
                                },
                                {
                                    "tag_name": "genric-fantasy",
                                    "tag_id": "13042"
                                },
                                {
                                    "tag_name": "good-fantasy",
                                    "tag_id": "13371"
                                },
                                {
                                    "tag_name": "good-fantasy-protagonists",
                                    "tag_id": "13372"
                                },
                                {
                                    "tag_name": "good-fun-fantasy-sci-fi",
                                    "tag_id": "13375"
                                },
                                {
                                    "tag_name": "graphic-fantasy-novels",
                                    "tag_id": "13537"
                                },
                                {
                                    "tag_name": "grim-fantasy",
                                    "tag_id": "13709"
                                },
                                {
                                    "tag_name": "grimdark-fantasy",
                                    "tag_id": "13712"
                                },
                                {
                                    "tag_name": "gritty-fantasy",
                                    "tag_id": "13726"
                                },
                                {
                                    "tag_name": "gunpowder-fantasy",
                                    "tag_id": "13800"
                                },
                                {
                                    "tag_name": "heroic-fantasy",
                                    "tag_id": "14311"
                                },
                                {
                                    "tag_name": "high-epic-fantasy",
                                    "tag_id": "14360"
                                },
                                {
                                    "tag_name": "high-fantasy",
                                    "tag_id": "14361"
                                },
                                {
                                    "tag_name": "high-or-epic-fantasy",
                                    "tag_id": "14366"
                                },
                                {
                                    "tag_name": "historical-fantasy",
                                    "tag_id": "14484"
                                },
                                {
                                    "tag_name": "horror-dark-fantasy",
                                    "tag_id": "14833"
                                },
                                {
                                    "tag_name": "horror-fantasy",
                                    "tag_id": "14835"
                                },
                                {
                                    "tag_name": "humor-fantasy",
                                    "tag_id": "15054"
                                },
                                {
                                    "tag_name": "humorous-fantasy",
                                    "tag_id": "15062"
                                },
                                {
                                    "tag_name": "héroïc-fantasy",
                                    "tag_id": "15122"
                                },
                                {
                                    "tag_name": "ive-only-got-time-for-fantasy",
                                    "tag_id": "15938"
                                },
                                {
                                    "tag_name": "juv-fantasy",
                                    "tag_id": "16796"
                                },
                                {
                                    "tag_name": "juvenile-fantasy",
                                    "tag_id": "16804"
                                },
                                {
                                    "tag_name": "kids-fantasy",
                                    "tag_id": "17140"
                                },
                                {
                                    "tag_name": "kimmi-fantasy",
                                    "tag_id": "17200"
                                },
                                {
                                    "tag_name": "light-fantasy",
                                    "tag_id": "18179"
                                },
                                {
                                    "tag_name": "literature-fantasy-fiction",
                                    "tag_id": "18376"
                                },
                                {
                                    "tag_name": "literature-sf-fantasy",
                                    "tag_id": "18389"
                                },
                                {
                                    "tag_name": "locus-fantasy",
                                    "tag_id": "18500"
                                },
                                {
                                    "tag_name": "low-fantasy",
                                    "tag_id": "18697"
                                },
                                {
                                    "tag_name": "m-m-fantasy",
                                    "tag_id": "18803"
                                },
                                {
                                    "tag_name": "magic-fantasy",
                                    "tag_id": "18889"
                                },
                                {
                                    "tag_name": "magical-fantasy",
                                    "tag_id": "18915"
                                },
                                {
                                    "tag_name": "magickal-fantasy-art",
                                    "tag_id": "18924"
                                },
                                {
                                    "tag_name": "manga-fantasy",
                                    "tag_id": "19094"
                                },
                                {
                                    "tag_name": "medieval-fantasy",
                                    "tag_id": "19669"
                                },
                                {
                                    "tag_name": "mg-fantasy",
                                    "tag_id": "19868"
                                },
                                {
                                    "tag_name": "middle-grade-fantasy",
                                    "tag_id": "19978"
                                },
                                {
                                    "tag_name": "military-fantasy",
                                    "tag_id": "20052"
                                },
                                {
                                    "tag_name": "miscellaneous-fantasy",
                                    "tag_id": "20168"
                                },
                                {
                                    "tag_name": "mm-fantasy",
                                    "tag_id": "20242"
                                },
                                {
                                    "tag_name": "modern-fantasy",
                                    "tag_id": "20287"
                                },
                                {
                                    "tag_name": "my-fantasy",
                                    "tag_id": "20814"
                                },
                                {
                                    "tag_name": "no-thanks-sir-fantasy-setting",
                                    "tag_id": "21647"
                                },
                                {
                                    "tag_name": "novels-fantasy",
                                    "tag_id": "22038"
                                },
                                {
                                    "tag_name": "npr-100-scifi-fantasy",
                                    "tag_id": "22067"
                                },
                                {
                                    "tag_name": "npr-best-scifi-fantasy",
                                    "tag_id": "22069"
                                },
                                {
                                    "tag_name": "npr-top-100-fantasy-scifi",
                                    "tag_id": "22073"
                                },
                                {
                                    "tag_name": "npr-top-100-sci-fi-fantasy",
                                    "tag_id": "22075"
                                },
                                {
                                    "tag_name": "npr-top-100-scifi-and-fantasy",
                                    "tag_id": "22076"
                                },
                                {
                                    "tag_name": "npr-top-100-scifi-fantasy",
                                    "tag_id": "22077"
                                },
                                {
                                    "tag_name": "ordinary-fantasy",
                                    "tag_id": "22486"
                                },
                                {
                                    "tag_name": "paranormal-fantasy",
                                    "tag_id": "22977"
                                },
                                {
                                    "tag_name": "paranormal-fantasy-romance",
                                    "tag_id": "22978"
                                },
                                {
                                    "tag_name": "paranormal-romance-urban-fantasy",
                                    "tag_id": "22984"
                                },
                                {
                                    "tag_name": "paranormal-urban-fantasy",
                                    "tag_id": "22991"
                                },
                                {
                                    "tag_name": "polish-fantasy",
                                    "tag_id": "23903"
                                },
                                {
                                    "tag_name": "political-fantasy",
                                    "tag_id": "23913"
                                },
                                {
                                    "tag_name": "post-tolkien-modern-high-fantasy",
                                    "tag_id": "24064"
                                },
                                {
                                    "tag_name": "queer-fantasy",
                                    "tag_id": "24730"
                                },
                                {
                                    "tag_name": "read-fantasy",
                                    "tag_id": "25104"
                                },
                                {
                                    "tag_name": "read-modern-fantasy",
                                    "tag_id": "25232"
                                },
                                {
                                    "tag_name": "read-sci-fi-fantasy",
                                    "tag_id": "25278"
                                },
                                {
                                    "tag_name": "regular-fantasy",
                                    "tag_id": "25608"
                                },
                                {
                                    "tag_name": "romance-fantasy",
                                    "tag_id": "26151"
                                },
                                {
                                    "tag_name": "romantic-fantasy",
                                    "tag_id": "26199"
                                },
                                {
                                    "tag_name": "scfi-and-fantasy",
                                    "tag_id": "26728"
                                },
                                {
                                    "tag_name": "sci-fantasy",
                                    "tag_id": "26770"
                                },
                                {
                                    "tag_name": "sci-fi---fantasy",
                                    "tag_id": "26772"
                                },
                                {
                                    "tag_name": "sci-fi--fantasy",
                                    "tag_id": "26773"
                                },
                                {
                                    "tag_name": "sci-fi-and-fantasy",
                                    "tag_id": "26774"
                                },
                                {
                                    "tag_name": "sci-fi-fantasy",
                                    "tag_id": "26785"
                                },
                                {
                                    "tag_name": "sci-fi-fantasy-good",
                                    "tag_id": "26786"
                                },
                                {
                                    "tag_name": "sci-fi-fantasy-horror",
                                    "tag_id": "26787"
                                },
                                {
                                    "tag_name": "sci-fi-fantasy-paranormal",
                                    "tag_id": "26788"
                                },
                                {
                                    "tag_name": "sci-fi-fantasy-read",
                                    "tag_id": "26789"
                                },
                                {
                                    "tag_name": "sci-fi-fantasy-to-read",
                                    "tag_id": "26790"
                                },
                                {
                                    "tag_name": "sci-fi_fantasy",
                                    "tag_id": "26809"
                                },
                                {
                                    "tag_name": "sci-fifantasy",
                                    "tag_id": "26812"
                                },
                                {
                                    "tag_name": "science-fantasy",
                                    "tag_id": "26836"
                                },
                                {
                                    "tag_name": "science-fiction-and-fantasy",
                                    "tag_id": "26838"
                                },
                                {
                                    "tag_name": "science-fiction-fantasy",
                                    "tag_id": "26842"
                                },
                                {
                                    "tag_name": "scifi-and-fantasy",
                                    "tag_id": "26895"
                                },
                                {
                                    "tag_name": "scifi-and-fantasy-book-club",
                                    "tag_id": "26896"
                                },
                                {
                                    "tag_name": "scifi-fantasy",
                                    "tag_id": "26897"
                                },
                                {
                                    "tag_name": "scifi-fantasy-horror",
                                    "tag_id": "26898"
                                },
                                {
                                    "tag_name": "scifi-fantasy-paranormal",
                                    "tag_id": "26899"
                                },
                                {
                                    "tag_name": "scififantasy",
                                    "tag_id": "26905"
                                },
                                {
                                    "tag_name": "sf-and-fantasy",
                                    "tag_id": "27399"
                                },
                                {
                                    "tag_name": "sf-fantasy",
                                    "tag_id": "27403"
                                },
                                {
                                    "tag_name": "shelfari-fantasy",
                                    "tag_id": "27534"
                                },
                                {
                                    "tag_name": "space-fantasy",
                                    "tag_id": "28241"
                                },
                                {
                                    "tag_name": "spanning-fantasy-sciencefiction",
                                    "tag_id": "28271"
                                },
                                {
                                    "tag_name": "supernatural-fantasy",
                                    "tag_id": "29013"
                                },
                                {
                                    "tag_name": "tbr-fantasy",
                                    "tag_id": "29328"
                                },
                                {
                                    "tag_name": "teen-fantasy",
                                    "tag_id": "29462"
                                },
                                {
                                    "tag_name": "the-best-ones-fantasy",
                                    "tag_id": "29648"
                                },
                                {
                                    "tag_name": "to-read-fantasy",
                                    "tag_id": "30667"
                                },
                                {
                                    "tag_name": "to-read-fantasy-series",
                                    "tag_id": "30668"
                                },
                                {
                                    "tag_name": "to-read-fantasy-ya",
                                    "tag_id": "30669"
                                },
                                {
                                    "tag_name": "to-read-fantasyscifi",
                                    "tag_id": "30670"
                                },
                                {
                                    "tag_name": "to-read-prn_fantasy",
                                    "tag_id": "30785"
                                },
                                {
                                    "tag_name": "to-read-scifi-fantasy",
                                    "tag_id": "30805"
                                },
                                {
                                    "tag_name": "to-read-urban-fantasy",
                                    "tag_id": "30846"
                                },
                                {
                                    "tag_name": "top-fantasy",
                                    "tag_id": "30984"
                                },
                                {
                                    "tag_name": "top-sci-fi-fantasy-to-read",
                                    "tag_id": "30993"
                                },
                                {
                                    "tag_name": "tr-fantasy",
                                    "tag_id": "31058"
                                },
                                {
                                    "tag_name": "urban-fantasy",
                                    "tag_id": "31617"
                                },
                                {
                                    "tag_name": "urban-fantasy-paranormal",
                                    "tag_id": "31618"
                                },
                                {
                                    "tag_name": "urban-fantasy-parnormal",
                                    "tag_id": "31619"
                                },
                                {
                                    "tag_name": "urbanfantasy",
                                    "tag_id": "31629"
                                },
                                {
                                    "tag_name": "vaginal-fantasy",
                                    "tag_id": "31701"
                                },
                                {
                                    "tag_name": "vaginal-fantasy-book-club",
                                    "tag_id": "31702"
                                },
                                {
                                    "tag_name": "vaginal-fantasy-bookclub",
                                    "tag_id": "31703"
                                },
                                {
                                    "tag_name": "vaginal-fantasy-hangout",
                                    "tag_id": "31704"
                                },
                                {
                                    "tag_name": "vampire-fantasy",
                                    "tag_id": "31731"
                                },
                                {
                                    "tag_name": "vampire-werewolf-etc-fantasy",
                                    "tag_id": "31743"
                                },
                                {
                                    "tag_name": "well-intentioned-fantasy",
                                    "tag_id": "32317"
                                },
                                {
                                    "tag_name": "world-fantasy-award",
                                    "tag_id": "32793"
                                },
                                {
                                    "tag_name": "world-fantasy-loss",
                                    "tag_id": "32794"
                                },
                                {
                                    "tag_name": "wow-fantasy",
                                    "tag_id": "32854"
                                },
                                {
                                    "tag_name": "y-fantasy",
                                    "tag_id": "32976"
                                },
                                {
                                    "tag_name": "y-fic-fantasy-gaiman",
                                    "tag_id": "32977"
                                },
                                {
                                    "tag_name": "ya-fantasy",
                                    "tag_id": "33009"
                                },
                                {
                                    "tag_name": "ya-high-fantasy",
                                    "tag_id": "33016"
                                },
                                {
                                    "tag_name": "ya-paranormal-romance-fantasy",
                                    "tag_id": "33037"
                                },
                                {
                                    "tag_name": "ya-urban-fantasy",
                                    "tag_id": "33055"
                                },
                                {
                                    "tag_name": "young-adult-fantasy",
                                    "tag_id": "33121"
                                },
                                {
                                    "tag_name": "zz-to-read-fantasy",
                                    "tag_id": "33292"
                                }
                            ]
                        },
                        "text/html": [
                            "<table>",
                            "<tr><th>tag_name</th><th>tag_id</th></tr>",
                            "<tr><td>02-fantasy</td><td>98</td></tr>",
                            "<tr><td>05-high-fantasy</td><td>119</td></tr>",
                            "<tr><td>07-modern-fantasy</td><td>124</td></tr>",
                            "<tr><td>22-modern-fantasy</td><td>950</td></tr>",
                            "<tr><td>50-fantasy</td><td>1139</td></tr>",
                            "<tr><td>a-fantasy</td><td>1315</td></tr>",
                            "<tr><td>adult-fantasy</td><td>1654</td></tr>",
                            "<tr><td>adventure-nonfantasy</td><td>1700</td></tr>",
                            "<tr><td>alien-fiction-fantasy-sci-fi</td><td>2050</td></tr>",
                            "<tr><td>alternative-fantasy</td><td>2183</td></tr>",
                            "<tr><td>animal-fantasy</td><td>2554</td></tr>",
                            "<tr><td>arab-fantasy</td><td>2820</td></tr>",
                            "<tr><td>asian-fantasy</td><td>3227</td></tr>",
                            "<tr><td>best-audio-epic-fantasy</td><td>4310</td></tr>",
                            "<tr><td>best-fantasy</td><td>4333</td></tr>",
                            "<tr><td>best-fantasy-books</td><td>4334</td></tr>",
                            "<tr><td>best-fantasy-series</td><td>4335</td></tr>",
                            "<tr><td>books-fantasy-7</td><td>5133</td></tr>",
                            "<tr><td>books-fantasy-8</td><td>5134</td></tr>",
                            "<tr><td>children-fantasy</td><td>6873</td></tr>",
                            "<tr><td>children-s-fantasy</td><td>6907</td></tr>",
                            "<tr><td>childrens-fantasy</td><td>6971</td></tr>",
                            "<tr><td>christian-fantasy</td><td>7112</td></tr>",
                            "<tr><td>christian-fantasy-and-drama</td><td>7113</td></tr>",
                            "<tr><td>classic-fantasy</td><td>7415</td></tr>",
                            "<tr><td>comedic-fantasy</td><td>7723</td></tr>",
                            "<tr><td>comedy-fantasy</td><td>7727</td></tr>",
                            "<tr><td>comic-fantasy</td><td>7756</td></tr>",
                            "<tr><td>comics-fantasy</td><td>7799</td></tr>",
                            "<tr><td>coming-of-age-fantasy</td><td>7853</td></tr>",
                            "<tr><td>contemporary-fantasy</td><td>8066</td></tr>",
                            "<tr><td>cyber-fantasy</td><td>8750</td></tr>",
                            "<tr><td>cz-fantasy-to-read</td><td>8767</td></tr>",
                            "<tr><td>dark-fantasy</td><td>8938</td></tr>",
                            "<tr><td>dark-fantasy-horror</td><td>8939</td></tr>",
                            "<tr><td>dragon-fantasy</td><td>9852</td></tr>",
                            "<tr><td>epic-fantasy</td><td>10731</td></tr>",
                            "<tr><td>epic-fantasy-series</td><td>10732</td></tr>",
                            "<tr><td>epic-high-fantasy</td><td>10735</td></tr>",
                            "<tr><td>erotic-fantasy</td><td>10818</td></tr>",
                            "<tr><td>excellent-fantasy</td><td>11015</td></tr>",
                            "<tr><td>fairy-fantasy</td><td>11145</td></tr>",
                            "<tr><td>fantascienza-fantasy</td><td>11288</td></tr>",
                            "<tr><td>fantastic-fantasy</td><td>11296</td></tr>",
                            "<tr><td>fantasy</td><td>11305</td></tr>",
                            "<tr><td>fantasy---sci-fi</td><td>11306</td></tr>",
                            "<tr><td>fantasy--sci-fi</td><td>11307</td></tr>",
                            "<tr><td>fantasy-4</td><td>11308</td></tr>",
                            "<tr><td>fantasy-adult</td><td>11309</td></tr>",
                            "<tr><td>fantasy-adventure</td><td>11310</td></tr>",
                            "<tr><td>fantasy-all-ages</td><td>11311</td></tr>",
                            "<tr><td>fantasy-alternative-world</td><td>11312</td></tr>",
                            "<tr><td>fantasy-and-related</td><td>11313</td></tr>",
                            "<tr><td>fantasy-and-sci-fi</td><td>11314</td></tr>",
                            "<tr><td>fantasy-and-science-fiction</td><td>11315</td></tr>",
                            "<tr><td>fantasy-and-scifi</td><td>11316</td></tr>",
                            "<tr><td>fantasy-and-sf</td><td>11317</td></tr>",
                            "<tr><td>fantasy-and-the-like</td><td>11318</td></tr>",
                            "<tr><td>fantasy-art</td><td>11319</td></tr>",
                            "<tr><td>fantasy-book-club</td><td>11320</td></tr>",
                            "<tr><td>fantasy-books</td><td>11321</td></tr>",
                            "<tr><td>fantasy-books-i-ve-enjoyed</td><td>11322</td></tr>",
                            "<tr><td>fantasy-books-must-read</td><td>11323</td></tr>",
                            "<tr><td>fantasy-books-read</td><td>11324</td></tr>",
                            "<tr><td>fantasy-brain</td><td>11325</td></tr>",
                            "<tr><td>fantasy-classic</td><td>11326</td></tr>",
                            "<tr><td>fantasy-classics</td><td>11327</td></tr>",
                            "<tr><td>fantasy-comedy</td><td>11328</td></tr>",
                            "<tr><td>fantasy-contemporary</td><td>11329</td></tr>",
                            "<tr><td>fantasy-dark</td><td>11330</td></tr>",
                            "<tr><td>fantasy-detective</td><td>11331</td></tr>",
                            "<tr><td>fantasy-discworld</td><td>11332</td></tr>",
                            "<tr><td>fantasy-dragonlance</td><td>11333</td></tr>",
                            "<tr><td>fantasy-dragons</td><td>11334</td></tr>",
                            "<tr><td>fantasy-eddings</td><td>11335</td></tr>",
                            "<tr><td>fantasy-epic</td><td>11336</td></tr>",
                            "<tr><td>fantasy-faerie</td><td>11337</td></tr>",
                            "<tr><td>fantasy-favorites</td><td>11338</td></tr>",
                            "<tr><td>fantasy-feist</td><td>11339</td></tr>",
                            "<tr><td>fantasy-fiction</td><td>11340</td></tr>",
                            "<tr><td>fantasy-for-all-ages</td><td>11341</td></tr>",
                            "<tr><td>fantasy-for-everybody</td><td>11342</td></tr>",
                            "<tr><td>fantasy-forgotten-realms</td><td>11343</td></tr>",
                            "<tr><td>fantasy-fun</td><td>11344</td></tr>",
                            "<tr><td>fantasy-general</td><td>11345</td></tr>",
                            "<tr><td>fantasy-gunpowder</td><td>11346</td></tr>",
                            "<tr><td>fantasy-heroic</td><td>11347</td></tr>",
                            "<tr><td>fantasy-high</td><td>11348</td></tr>",
                            "<tr><td>fantasy-historical</td><td>11349</td></tr>",
                            "<tr><td>fantasy-horror</td><td>11350</td></tr>",
                            "<tr><td>fantasy-humor</td><td>11351</td></tr>",
                            "<tr><td>fantasy-humour</td><td>11352</td></tr>",
                            "<tr><td>fantasy-juvenile</td><td>11353</td></tr>",
                            "<tr><td>fantasy-kids</td><td>11354</td></tr>",
                            "<tr><td>fantasy-la-la-la</td><td>11355</td></tr>",
                            "<tr><td>fantasy-magic</td><td>11356</td></tr>",
                            "<tr><td>fantasy-manga</td><td>11357</td></tr>",
                            "<tr><td>fantasy-masterworks</td><td>11358</td></tr>",
                            "<tr><td>fantasy-modern</td><td>11359</td></tr>",
                            "<tr><td>fantasy-mythology</td><td>11360</td></tr>",
                            "<tr><td>fantasy-need-to-read</td><td>11361</td></tr>",
                            "<tr><td>fantasy-novels</td><td>11362</td></tr>",
                            "<tr><td>fantasy-of-manners</td><td>11363</td></tr>",
                            "<tr><td>fantasy-otherworldy</td><td>11364</td></tr>",
                            "<tr><td>fantasy-owned</td><td>11365</td></tr>",
                            "<tr><td>fantasy-paranormal</td><td>11366</td></tr>",
                            "<tr><td>fantasy-read</td><td>11367</td></tr>",
                            "<tr><td>fantasy-reads</td><td>11368</td></tr>",
                            "<tr><td>fantasy-romance</td><td>11369</td></tr>",
                            "<tr><td>fantasy-sci-fi</td><td>11370</td></tr>",
                            "<tr><td>fantasy-sci-fi-liesure</td><td>11371</td></tr>",
                            "<tr><td>fantasy-science-fiction</td><td>11372</td></tr>",
                            "<tr><td>fantasy-science-fiction-dystopian</td><td>11373</td></tr>",
                            "<tr><td>fantasy-science-fiction-fairy-tale</td><td>11374</td></tr>",
                            "<tr><td>fantasy-sciencefiction</td><td>11375</td></tr>",
                            "<tr><td>fantasy-scifi</td><td>11376</td></tr>",
                            "<tr><td>fantasy-scifi-futuristic-postapocal</td><td>11377</td></tr>",
                            "<tr><td>fantasy-series</td><td>11378</td></tr>",
                            "<tr><td>fantasy-sf</td><td>11379</td></tr>",
                            "<tr><td>fantasy-sifi</td><td>11380</td></tr>",
                            "<tr><td>fantasy-soft-sci-fi</td><td>11381</td></tr>",
                            "<tr><td>fantasy-supernatural</td><td>11382</td></tr>",
                            "<tr><td>fantasy-sword-and-sorcery</td><td>11383</td></tr>",
                            "<tr><td>fantasy-tbr</td><td>11384</td></tr>",
                            "<tr><td>fantasy-titles</td><td>11385</td></tr>",
                            "<tr><td>fantasy-to-read</td><td>11386</td></tr>",
                            "<tr><td>fantasy-tolkien</td><td>11387</td></tr>",
                            "<tr><td>fantasy-urban</td><td>11388</td></tr>",
                            "<tr><td>fantasy-urban-fantasy</td><td>11389</td></tr>",
                            "<tr><td>fantasy-vampires</td><td>11390</td></tr>",
                            "<tr><td>fantasy-wensenlijstje</td><td>11391</td></tr>",
                            "<tr><td>fantasy-ya</td><td>11392</td></tr>",
                            "<tr><td>fantasy_sci-fi</td><td>11393</td></tr>",
                            "<tr><td>fantasybooks</td><td>11394</td></tr>",
                            "<tr><td>fantasyland</td><td>11395</td></tr>",
                            "<tr><td>favorite-fantasy</td><td>11524</td></tr>",
                            "<tr><td>favorite-fantasy-books</td><td>11525</td></tr>",
                            "<tr><td>favourite-fantasy</td><td>11583</td></tr>",
                            "<tr><td>favourite-fantasy-novels</td><td>11584</td></tr>",
                            "<tr><td>fic-fantasy</td><td>11721</td></tr>",
                            "<tr><td>fictio-fantasy</td><td>11741</td></tr>",
                            "<tr><td>fiction-fantasy</td><td>11773</td></tr>",
                            "<tr><td>fiction-fantasy-and-science-fiction</td><td>11774</td></tr>",
                            "<tr><td>five-star-fantasy</td><td>12081</td></tr>",
                            "<tr><td>flintlock-fantasy</td><td>12116</td></tr>",
                            "<tr><td>fun-fantasy</td><td>12667</td></tr>",
                            "<tr><td>g-fantasy</td><td>12729</td></tr>",
                            "<tr><td>g-fantasy-uf</td><td>12730</td></tr>",
                            "<tr><td>g_fantasy</td><td>12754</td></tr>",
                            "<tr><td>gay-fantasy</td><td>12876</td></tr>",
                            "<tr><td>general-fantasy</td><td>12946</td></tr>",
                            "<tr><td>genre-fantasy</td><td>13005</td></tr>",
                            "<tr><td>genre-historical-fantasy</td><td>13009</td></tr>",
                            "<tr><td>genre-urban-fantasy</td><td>13037</td></tr>",
                            "<tr><td>genric-fantasy</td><td>13042</td></tr>",
                            "<tr><td>good-fantasy</td><td>13371</td></tr>",
                            "<tr><td>good-fantasy-protagonists</td><td>13372</td></tr>",
                            "<tr><td>good-fun-fantasy-sci-fi</td><td>13375</td></tr>",
                            "<tr><td>graphic-fantasy-novels</td><td>13537</td></tr>",
                            "<tr><td>grim-fantasy</td><td>13709</td></tr>",
                            "<tr><td>grimdark-fantasy</td><td>13712</td></tr>",
                            "<tr><td>gritty-fantasy</td><td>13726</td></tr>",
                            "<tr><td>gunpowder-fantasy</td><td>13800</td></tr>",
                            "<tr><td>heroic-fantasy</td><td>14311</td></tr>",
                            "<tr><td>high-epic-fantasy</td><td>14360</td></tr>",
                            "<tr><td>high-fantasy</td><td>14361</td></tr>",
                            "<tr><td>high-or-epic-fantasy</td><td>14366</td></tr>",
                            "<tr><td>historical-fantasy</td><td>14484</td></tr>",
                            "<tr><td>horror-dark-fantasy</td><td>14833</td></tr>",
                            "<tr><td>horror-fantasy</td><td>14835</td></tr>",
                            "<tr><td>humor-fantasy</td><td>15054</td></tr>",
                            "<tr><td>humorous-fantasy</td><td>15062</td></tr>",
                            "<tr><td>héroïc-fantasy</td><td>15122</td></tr>",
                            "<tr><td>ive-only-got-time-for-fantasy</td><td>15938</td></tr>",
                            "<tr><td>juv-fantasy</td><td>16796</td></tr>",
                            "<tr><td>juvenile-fantasy</td><td>16804</td></tr>",
                            "<tr><td>kids-fantasy</td><td>17140</td></tr>",
                            "<tr><td>kimmi-fantasy</td><td>17200</td></tr>",
                            "<tr><td>light-fantasy</td><td>18179</td></tr>",
                            "<tr><td>literature-fantasy-fiction</td><td>18376</td></tr>",
                            "<tr><td>literature-sf-fantasy</td><td>18389</td></tr>",
                            "<tr><td>locus-fantasy</td><td>18500</td></tr>",
                            "<tr><td>low-fantasy</td><td>18697</td></tr>",
                            "<tr><td>m-m-fantasy</td><td>18803</td></tr>",
                            "<tr><td>magic-fantasy</td><td>18889</td></tr>",
                            "<tr><td>magical-fantasy</td><td>18915</td></tr>",
                            "<tr><td>magickal-fantasy-art</td><td>18924</td></tr>",
                            "<tr><td>manga-fantasy</td><td>19094</td></tr>",
                            "<tr><td>medieval-fantasy</td><td>19669</td></tr>",
                            "<tr><td>mg-fantasy</td><td>19868</td></tr>",
                            "<tr><td>middle-grade-fantasy</td><td>19978</td></tr>",
                            "<tr><td>military-fantasy</td><td>20052</td></tr>",
                            "<tr><td>miscellaneous-fantasy</td><td>20168</td></tr>",
                            "<tr><td>mm-fantasy</td><td>20242</td></tr>",
                            "<tr><td>modern-fantasy</td><td>20287</td></tr>",
                            "<tr><td>my-fantasy</td><td>20814</td></tr>",
                            "<tr><td>no-thanks-sir-fantasy-setting</td><td>21647</td></tr>",
                            "<tr><td>novels-fantasy</td><td>22038</td></tr>",
                            "<tr><td>npr-100-scifi-fantasy</td><td>22067</td></tr>",
                            "<tr><td>npr-best-scifi-fantasy</td><td>22069</td></tr>",
                            "<tr><td>npr-top-100-fantasy-scifi</td><td>22073</td></tr>",
                            "<tr><td>npr-top-100-sci-fi-fantasy</td><td>22075</td></tr>",
                            "<tr><td>npr-top-100-scifi-and-fantasy</td><td>22076</td></tr>",
                            "<tr><td>npr-top-100-scifi-fantasy</td><td>22077</td></tr>",
                            "<tr><td>ordinary-fantasy</td><td>22486</td></tr>",
                            "<tr><td>paranormal-fantasy</td><td>22977</td></tr>",
                            "<tr><td>paranormal-fantasy-romance</td><td>22978</td></tr>",
                            "<tr><td>paranormal-romance-urban-fantasy</td><td>22984</td></tr>",
                            "<tr><td>paranormal-urban-fantasy</td><td>22991</td></tr>",
                            "<tr><td>polish-fantasy</td><td>23903</td></tr>",
                            "<tr><td>political-fantasy</td><td>23913</td></tr>",
                            "<tr><td>post-tolkien-modern-high-fantasy</td><td>24064</td></tr>",
                            "<tr><td>queer-fantasy</td><td>24730</td></tr>",
                            "<tr><td>read-fantasy</td><td>25104</td></tr>",
                            "<tr><td>read-modern-fantasy</td><td>25232</td></tr>",
                            "<tr><td>read-sci-fi-fantasy</td><td>25278</td></tr>",
                            "<tr><td>regular-fantasy</td><td>25608</td></tr>",
                            "<tr><td>romance-fantasy</td><td>26151</td></tr>",
                            "<tr><td>romantic-fantasy</td><td>26199</td></tr>",
                            "<tr><td>scfi-and-fantasy</td><td>26728</td></tr>",
                            "<tr><td>sci-fantasy</td><td>26770</td></tr>",
                            "<tr><td>sci-fi---fantasy</td><td>26772</td></tr>",
                            "<tr><td>sci-fi--fantasy</td><td>26773</td></tr>",
                            "<tr><td>sci-fi-and-fantasy</td><td>26774</td></tr>",
                            "<tr><td>sci-fi-fantasy</td><td>26785</td></tr>",
                            "<tr><td>sci-fi-fantasy-good</td><td>26786</td></tr>",
                            "<tr><td>sci-fi-fantasy-horror</td><td>26787</td></tr>",
                            "<tr><td>sci-fi-fantasy-paranormal</td><td>26788</td></tr>",
                            "<tr><td>sci-fi-fantasy-read</td><td>26789</td></tr>",
                            "<tr><td>sci-fi-fantasy-to-read</td><td>26790</td></tr>",
                            "<tr><td>sci-fi_fantasy</td><td>26809</td></tr>",
                            "<tr><td>sci-fifantasy</td><td>26812</td></tr>",
                            "<tr><td>science-fantasy</td><td>26836</td></tr>",
                            "<tr><td>science-fiction-and-fantasy</td><td>26838</td></tr>",
                            "<tr><td>science-fiction-fantasy</td><td>26842</td></tr>",
                            "<tr><td>scifi-and-fantasy</td><td>26895</td></tr>",
                            "<tr><td>scifi-and-fantasy-book-club</td><td>26896</td></tr>",
                            "<tr><td>scifi-fantasy</td><td>26897</td></tr>",
                            "<tr><td>scifi-fantasy-horror</td><td>26898</td></tr>",
                            "<tr><td>scifi-fantasy-paranormal</td><td>26899</td></tr>",
                            "<tr><td>scififantasy</td><td>26905</td></tr>",
                            "<tr><td>sf-and-fantasy</td><td>27399</td></tr>",
                            "<tr><td>sf-fantasy</td><td>27403</td></tr>",
                            "<tr><td>shelfari-fantasy</td><td>27534</td></tr>",
                            "<tr><td>space-fantasy</td><td>28241</td></tr>",
                            "<tr><td>spanning-fantasy-sciencefiction</td><td>28271</td></tr>",
                            "<tr><td>supernatural-fantasy</td><td>29013</td></tr>",
                            "<tr><td>tbr-fantasy</td><td>29328</td></tr>",
                            "<tr><td>teen-fantasy</td><td>29462</td></tr>",
                            "<tr><td>the-best-ones-fantasy</td><td>29648</td></tr>",
                            "<tr><td>to-read-fantasy</td><td>30667</td></tr>",
                            "<tr><td>to-read-fantasy-series</td><td>30668</td></tr>",
                            "<tr><td>to-read-fantasy-ya</td><td>30669</td></tr>",
                            "<tr><td>to-read-fantasyscifi</td><td>30670</td></tr>",
                            "<tr><td>to-read-prn_fantasy</td><td>30785</td></tr>",
                            "<tr><td>to-read-scifi-fantasy</td><td>30805</td></tr>",
                            "<tr><td>to-read-urban-fantasy</td><td>30846</td></tr>",
                            "<tr><td>top-fantasy</td><td>30984</td></tr>",
                            "<tr><td>top-sci-fi-fantasy-to-read</td><td>30993</td></tr>",
                            "<tr><td>tr-fantasy</td><td>31058</td></tr>",
                            "<tr><td>urban-fantasy</td><td>31617</td></tr>",
                            "<tr><td>urban-fantasy-paranormal</td><td>31618</td></tr>",
                            "<tr><td>urban-fantasy-parnormal</td><td>31619</td></tr>",
                            "<tr><td>urbanfantasy</td><td>31629</td></tr>",
                            "<tr><td>vaginal-fantasy</td><td>31701</td></tr>",
                            "<tr><td>vaginal-fantasy-book-club</td><td>31702</td></tr>",
                            "<tr><td>vaginal-fantasy-bookclub</td><td>31703</td></tr>",
                            "<tr><td>vaginal-fantasy-hangout</td><td>31704</td></tr>",
                            "<tr><td>vampire-fantasy</td><td>31731</td></tr>",
                            "<tr><td>vampire-werewolf-etc-fantasy</td><td>31743</td></tr>",
                            "<tr><td>well-intentioned-fantasy</td><td>32317</td></tr>",
                            "<tr><td>world-fantasy-award</td><td>32793</td></tr>",
                            "<tr><td>world-fantasy-loss</td><td>32794</td></tr>",
                            "<tr><td>wow-fantasy</td><td>32854</td></tr>",
                            "<tr><td>y-fantasy</td><td>32976</td></tr>",
                            "<tr><td>y-fic-fantasy-gaiman</td><td>32977</td></tr>",
                            "<tr><td>ya-fantasy</td><td>33009</td></tr>",
                            "<tr><td>ya-high-fantasy</td><td>33016</td></tr>",
                            "<tr><td>ya-paranormal-romance-fantasy</td><td>33037</td></tr>",
                            "<tr><td>ya-urban-fantasy</td><td>33055</td></tr>",
                            "<tr><td>young-adult-fantasy</td><td>33121</td></tr>",
                            "<tr><td>zz-to-read-fantasy</td><td>33292</td></tr>",
                            "</table>"
                        ]
                    }
                }
            ],
            "execution_count": 16
        },
        {
            "cell_type": "code",
            "source": [
                "SELECT TOP 1 b.title, COUNT(bt.tag_id) as tag_count\r\n",
                "FROM BooksDB.dbo.books AS b\r\n",
                "JOIN BooksDB.dbo.book_tags AS bt\r\n",
                "ON b.best_book_id = bt.goodreads_book_id\r\n",
                "WHERE bt.tag_id = '98'\r\n",
                "GROUP BY b.title\r\n",
                "ORDER BY COUNT(bt.tag_id) DESC;"
            ],
            "metadata": {
                "azdata_cell_guid": "0371f427-9483-4038-b568-a69f9841ecac",
                "language": "sql"
            },
            "outputs": [
                {
                    "output_type": "display_data",
                    "data": {
                        "text/html": "(1 row affected)"
                    },
                    "metadata": {}
                },
                {
                    "output_type": "display_data",
                    "data": {
                        "text/html": "Total execution time: 00:00:00.196"
                    },
                    "metadata": {}
                },
                {
                    "output_type": "execute_result",
                    "metadata": {},
                    "execution_count": 17,
                    "data": {
                        "application/vnd.dataresource+json": {
                            "schema": {
                                "fields": [
                                    {
                                        "name": "title"
                                    },
                                    {
                                        "name": "tag_count"
                                    }
                                ]
                            },
                            "data": [
                                {
                                    "title": "A Color of His Own",
                                    "tag_count": "1"
                                }
                            ]
                        },
                        "text/html": [
                            "<table>",
                            "<tr><th>title</th><th>tag_count</th></tr>",
                            "<tr><td>A Color of His Own</td><td>1</td></tr>",
                            "</table>"
                        ]
                    }
                }
            ],
            "execution_count": 17
        },
        {
            "cell_type": "markdown",
            "source": [
                "## **QUESTION 7:** What are the top 10 most popular book titles on the 'to read' list?\n",
                "\n",
                "**Part A:**  Explore how the **to\\_read** and **books** tables are organized, and then join them.  What will you use as a key?\n",
                "\n",
                "> Your Answer: \n",
                "> \n",
                "> <span style=\"color: rgb(55, 65, 81); font-family: Söhne, ui-sans-serif, system-ui, -apple-system, &quot;Segoe UI&quot;, Roboto, Ubuntu, Cantarell, &quot;Noto Sans&quot;, sans-serif, &quot;Helvetica Neue&quot;, Arial, &quot;Apple Color Emoji&quot;, &quot;Segoe UI Emoji&quot;, &quot;Segoe UI Symbol&quot;, &quot;Noto Color Emoji&quot;; font-size: 16px; white-space: pre-wrap; background-color: rgb(247, 247, 248);\">The 'to_read' table typically contains columns such as 'user_id' and 'book_id', indicating which user wants to read which book. The 'books' table contains detailed information about each book, including the book's title, which is usually linked to the 'book_id'. The common key between these tables would be the 'book_id'.</span>\n",
                "\n",
                "**Part B:** Organize your newly joined table in a way that groups popularity based on the title based on users.\n",
                "\n",
                "> _Hint:_ Suggest using an alias for the aggregation you will need to run on the **user\\_id**\n",
                "\n",
                "> _Minimum Desired Output:_ title and aliased column"
            ],
            "metadata": {
                "azdata_cell_guid": "4e5349b7-24f6-481a-9d88-bb4f86abc624"
            },
            "attachments": {}
        },
        {
            "cell_type": "code",
            "source": [
                "-- Code Here:\r\n",
                "SELECT TOP 10 b.title, COUNT(tr.user_id) as user_count\r\n",
                "FROM BooksDB.dbo.books AS b\r\n",
                "JOIN BooksDB.dbo.to_read AS tr\r\n",
                "ON b.best_book_id = tr.book_id\r\n",
                "GROUP BY b.title\r\n",
                "ORDER BY COUNT(tr.user_id) DESC;"
            ],
            "metadata": {
                "azdata_cell_guid": "8af25df1-ce61-4152-8198-0b53c17642d0",
                "language": "sql"
            },
            "outputs": [
                {
                    "output_type": "display_data",
                    "data": {
                        "text/html": "(10 rows affected)"
                    },
                    "metadata": {}
                },
                {
                    "output_type": "display_data",
                    "data": {
                        "text/html": "Total execution time: 00:00:00.444"
                    },
                    "metadata": {}
                },
                {
                    "output_type": "execute_result",
                    "metadata": {},
                    "execution_count": 18,
                    "data": {
                        "application/vnd.dataresource+json": {
                            "schema": {
                                "fields": [
                                    {
                                        "name": "title"
                                    },
                                    {
                                        "name": "user_count"
                                    }
                                ]
                            },
                            "data": [
                                {
                                    "title": "The Ultimate Hitchhiker's Guide to the Galaxy",
                                    "user_count": "1812"
                                },
                                {
                                    "title": "The Lord of the Rings: The Art of The Fellowship of the Ring",
                                    "user_count": "1499"
                                },
                                {
                                    "title": "Harry Potter Boxed Set, Books 1-5 (Harry Potter, #1-5)",
                                    "user_count": "1498"
                                },
                                {
                                    "title": "Harry Potter and the Goblet of Fire (Harry Potter, #4)",
                                    "user_count": "1484"
                                },
                                {
                                    "title": "The Known World",
                                    "user_count": "1352"
                                },
                                {
                                    "title": "Harry Potter and the Prisoner of Azkaban (Harry Potter, #3)",
                                    "user_count": "1293"
                                },
                                {
                                    "title": "The Lord of the Rings: Weapons and Warfare",
                                    "user_count": "1211"
                                },
                                {
                                    "title": "Notes from a Small Island",
                                    "user_count": "1148"
                                },
                                {
                                    "title": "Harry Potter Collection (Harry Potter, #1-6)",
                                    "user_count": "1110"
                                },
                                {
                                    "title": "The Lord of the Rings (The Lord of the Rings, #1-3)",
                                    "user_count": "1094"
                                }
                            ]
                        },
                        "text/html": [
                            "<table>",
                            "<tr><th>title</th><th>user_count</th></tr>",
                            "<tr><td>The Ultimate Hitchhiker&#39;s Guide to the Galaxy</td><td>1812</td></tr>",
                            "<tr><td>The Lord of the Rings: The Art of The Fellowship of the Ring</td><td>1499</td></tr>",
                            "<tr><td>Harry Potter Boxed Set, Books 1-5 (Harry Potter, #1-5)</td><td>1498</td></tr>",
                            "<tr><td>Harry Potter and the Goblet of Fire (Harry Potter, #4)</td><td>1484</td></tr>",
                            "<tr><td>The Known World</td><td>1352</td></tr>",
                            "<tr><td>Harry Potter and the Prisoner of Azkaban (Harry Potter, #3)</td><td>1293</td></tr>",
                            "<tr><td>The Lord of the Rings: Weapons and Warfare</td><td>1211</td></tr>",
                            "<tr><td>Notes from a Small Island</td><td>1148</td></tr>",
                            "<tr><td>Harry Potter Collection (Harry Potter, #1-6)</td><td>1110</td></tr>",
                            "<tr><td>The Lord of the Rings (The Lord of the Rings, #1-3)</td><td>1094</td></tr>",
                            "</table>"
                        ]
                    }
                }
            ],
            "execution_count": 18
        },
        {
            "cell_type": "markdown",
            "source": [
                "## **QUESTION 8:** Largest 'To Read' Lists\n",
                "\n",
                "**Part A:**  Create a query that returns a table that contains the top 10 users with the most number of titles on their 'to read' list.    Group all the entries by user\\_id.  \n",
                "\n",
                "> _Hint:_ You might want an alias for the titles.\n",
                "> \n",
                "> _Minimum Desired Output:_  user\\_id and your aliased column of titles.\n",
                "\n",
                "**Part B:**  The longest list length is 15 titles total, and is shared by 4 different users.  Select one of the uses and print out their entire '**to read**' list."
            ],
            "metadata": {
                "azdata_cell_guid": "0b0090b0-2b28-44c6-8bb6-06b4c03c3ff1"
            },
            "attachments": {}
        },
        {
            "cell_type": "code",
            "source": [
                "-- Code Here:\r\n",
                "SELECT TOP 10 tr.user_id, COUNT(tr.book_id) as book_count\r\n",
                "FROM BooksDB.dbo.to_read AS tr\r\n",
                "GROUP BY tr.user_id\r\n",
                "ORDER BY COUNT(tr.book_id) DESC;"
            ],
            "metadata": {
                "azdata_cell_guid": "c6c815f8-890d-4163-be63-3d300e320597",
                "tags": [],
                "language": "sql"
            },
            "outputs": [
                {
                    "output_type": "display_data",
                    "data": {
                        "text/html": "(10 rows affected)"
                    },
                    "metadata": {}
                },
                {
                    "output_type": "display_data",
                    "data": {
                        "text/html": "Total execution time: 00:00:00.190"
                    },
                    "metadata": {}
                },
                {
                    "output_type": "execute_result",
                    "metadata": {},
                    "execution_count": 19,
                    "data": {
                        "application/vnd.dataresource+json": {
                            "schema": {
                                "fields": [
                                    {
                                        "name": "user_id"
                                    },
                                    {
                                        "name": "book_count"
                                    }
                                ]
                            },
                            "data": [
                                {
                                    "user_id": "38457",
                                    "book_count": "117"
                                },
                                {
                                    "user_id": "28259",
                                    "book_count": "114"
                                },
                                {
                                    "user_id": "38076",
                                    "book_count": "110"
                                },
                                {
                                    "user_id": "44530",
                                    "book_count": "108"
                                },
                                {
                                    "user_id": "46000",
                                    "book_count": "107"
                                },
                                {
                                    "user_id": "46555",
                                    "book_count": "107"
                                },
                                {
                                    "user_id": "34162",
                                    "book_count": "105"
                                },
                                {
                                    "user_id": "34487",
                                    "book_count": "104"
                                },
                                {
                                    "user_id": "39174",
                                    "book_count": "103"
                                },
                                {
                                    "user_id": "40362",
                                    "book_count": "102"
                                }
                            ]
                        },
                        "text/html": [
                            "<table>",
                            "<tr><th>user_id</th><th>book_count</th></tr>",
                            "<tr><td>38457</td><td>117</td></tr>",
                            "<tr><td>28259</td><td>114</td></tr>",
                            "<tr><td>38076</td><td>110</td></tr>",
                            "<tr><td>44530</td><td>108</td></tr>",
                            "<tr><td>46000</td><td>107</td></tr>",
                            "<tr><td>46555</td><td>107</td></tr>",
                            "<tr><td>34162</td><td>105</td></tr>",
                            "<tr><td>34487</td><td>104</td></tr>",
                            "<tr><td>39174</td><td>103</td></tr>",
                            "<tr><td>40362</td><td>102</td></tr>",
                            "</table>"
                        ]
                    }
                }
            ],
            "execution_count": 19
        },
        {
            "cell_type": "code",
            "source": [
                "SELECT b.title\r\n",
                "FROM BooksDB.dbo.to_read AS tr\r\n",
                "JOIN BooksDB.dbo.books AS b\r\n",
                "ON tr.book_id = b.best_book_id\r\n",
                "WHERE tr.user_id = 38457;"
            ],
            "metadata": {
                "azdata_cell_guid": "7beb8ea1-90a6-4e23-8fec-5c86148a2e76",
                "language": "sql"
            },
            "outputs": [
                {
                    "output_type": "display_data",
                    "data": {
                        "text/html": "(9 rows affected)"
                    },
                    "metadata": {}
                },
                {
                    "output_type": "display_data",
                    "data": {
                        "text/html": "Total execution time: 00:00:00.332"
                    },
                    "metadata": {}
                },
                {
                    "output_type": "execute_result",
                    "metadata": {},
                    "execution_count": 20,
                    "data": {
                        "application/vnd.dataresource+json": {
                            "schema": {
                                "fields": [
                                    {
                                        "name": "title"
                                    }
                                ]
                            },
                            "data": [
                                {
                                    "title": "The Fellowship of the Ring (The Lord of the Rings, #1)"
                                },
                                {
                                    "title": "Harry Potter and the Goblet of Fire (Harry Potter, #4)"
                                },
                                {
                                    "title": "Harry Potter and the Half-Blood Prince (Harry Potter, #6)"
                                },
                                {
                                    "title": "The Lord of the Rings (The Lord of the Rings, #1-3)"
                                },
                                {
                                    "title": "Dune Messiah (Dune Chronicles #2)"
                                },
                                {
                                    "title": "The Long Dark Tea-Time of the Soul (Dirk Gently, #2)"
                                },
                                {
                                    "title": "The New York Trilogy"
                                },
                                {
                                    "title": "Time Enough for Love"
                                },
                                {
                                    "title": "The Lover"
                                }
                            ]
                        },
                        "text/html": [
                            "<table>",
                            "<tr><th>title</th></tr>",
                            "<tr><td>The Fellowship of the Ring (The Lord of the Rings, #1)</td></tr>",
                            "<tr><td>Harry Potter and the Goblet of Fire (Harry Potter, #4)</td></tr>",
                            "<tr><td>Harry Potter and the Half-Blood Prince (Harry Potter, #6)</td></tr>",
                            "<tr><td>The Lord of the Rings (The Lord of the Rings, #1-3)</td></tr>",
                            "<tr><td>Dune Messiah (Dune Chronicles #2)</td></tr>",
                            "<tr><td>The Long Dark Tea-Time of the Soul (Dirk Gently, #2)</td></tr>",
                            "<tr><td>The New York Trilogy</td></tr>",
                            "<tr><td>Time Enough for Love</td></tr>",
                            "<tr><td>The Lover</td></tr>",
                            "</table>"
                        ]
                    }
                }
            ],
            "execution_count": 20
        }
    ]
}